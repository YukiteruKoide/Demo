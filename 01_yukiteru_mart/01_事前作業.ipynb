{
 "cells": [
  {
   "cell_type": "markdown",
   "metadata": {
    "application/vnd.databricks.v1+cell": {
     "cellMetadata": {
      "byteLimit": 2048000,
      "rowLimit": 10000
     },
     "inputWidgets": {},
     "nuid": "491e88de-5002-4a06-8984-1a1954ccf51e",
     "showTitle": false,
     "tableResultSettingsMap": {},
     "title": ""
    },
    "vscode": {
     "languageId": "raw"
    }
   },
   "source": [
    "# 主キー、外部キーの設定\n",
    "\n",
    "このノートブックでは、Yukiteru Martのデータベーステーブルに主キー（Primary Key）と外部キー（Foreign Key）の制約を設定します。\n",
    "\n",
    "## 目的\n",
    "- データの整合性を保つ\n",
    "- 参照整合性を確保する\n",
    "- テーブル間のリレーションシップを定義する\n",
    "\n",
    "## 対象テーブル\n",
    "1. **customers_table** - 顧客マスタ\n",
    "2. **products_table** - 商品マスタ  \n",
    "3. **stores_table** - 店舗マスタ\n",
    "4. **transactions_table** - 取引履歴\n",
    "5. **inventory_table** - 在庫管理\n",
    "\n",
    "\n"
   ]
  },
  {
   "cell_type": "markdown",
   "metadata": {
    "application/vnd.databricks.v1+cell": {
     "cellMetadata": {
      "byteLimit": 2048000,
      "rowLimit": 10000
     },
     "inputWidgets": {},
     "nuid": "6f263112-78ec-4064-828b-f9b201273ff3",
     "showTitle": false,
     "tableResultSettingsMap": {},
     "title": ""
    },
    "vscode": {
     "languageId": "raw"
    }
   },
   "source": [
    "## 1. 顧客テーブル（customers_table）の制約設定\n",
    "\n",
    "顧客テーブルに主キー制約を設定します。\n",
    "- `customer_id` を NOT NULL に設定\n",
    "- `customer_id` を主キーとして定義\n"
   ]
  },
  {
   "cell_type": "code",
   "execution_count": 0,
   "metadata": {
    "application/vnd.databricks.v1+cell": {
     "cellMetadata": {
      "byteLimit": 2048000,
      "implicitDf": true,
      "rowLimit": 10000
     },
     "inputWidgets": {},
     "nuid": "b9cc050b-f744-44ec-933f-1bcae7701020",
     "showTitle": false,
     "tableResultSettingsMap": {},
     "title": ""
    },
    "vscode": {
     "languageId": "sql"
    }
   },
   "outputs": [],
   "source": [
    "%sql\n",
    "-- 顧客IDをNOT NULL制約に設定\n",
    "ALTER TABLE users.yukiteru_koide.customers_table\n",
    "ALTER COLUMN customer_id SET NOT NULL;\n",
    "\n",
    "-- 顧客IDを主キーとして設定\n",
    "ALTER TABLE users.yukiteru_koide.customers_table\n",
    "ADD CONSTRAINT pk_customers PRIMARY KEY (customer_id);\n"
   ]
  },
  {
   "cell_type": "markdown",
   "metadata": {
    "application/vnd.databricks.v1+cell": {
     "cellMetadata": {
      "byteLimit": 2048000,
      "rowLimit": 10000
     },
     "inputWidgets": {},
     "nuid": "a16af60a-5de7-4059-9996-b1dcad3b7b63",
     "showTitle": false,
     "tableResultSettingsMap": {},
     "title": ""
    },
    "vscode": {
     "languageId": "raw"
    }
   },
   "source": [
    "## 2. 商品テーブル（products_table）の制約設定\n",
    "\n",
    "商品テーブルに主キー制約を設定します。\n",
    "- `product_id` を NOT NULL に設定\n",
    "- `product_id` を主キーとして定義\n"
   ]
  },
  {
   "cell_type": "code",
   "execution_count": 0,
   "metadata": {
    "application/vnd.databricks.v1+cell": {
     "cellMetadata": {
      "byteLimit": 2048000,
      "implicitDf": true,
      "rowLimit": 10000
     },
     "inputWidgets": {},
     "nuid": "53836319-6fa5-4830-bd69-7c4ed67bbe0a",
     "showTitle": false,
     "tableResultSettingsMap": {},
     "title": ""
    },
    "vscode": {
     "languageId": "sql"
    }
   },
   "outputs": [],
   "source": [
    "%sql\n",
    "-- 商品IDをNOT NULL制約に設定\n",
    "ALTER TABLE users.yukiteru_koide.products_table\n",
    "ALTER COLUMN product_id SET NOT NULL;\n",
    "\n",
    "-- 商品IDを主キーとして設定\n",
    "ALTER TABLE users.yukiteru_koide.products_table\n",
    "ADD CONSTRAINT pk_products PRIMARY KEY (product_id);\n"
   ]
  },
  {
   "cell_type": "markdown",
   "metadata": {
    "application/vnd.databricks.v1+cell": {
     "cellMetadata": {
      "byteLimit": 2048000,
      "rowLimit": 10000
     },
     "inputWidgets": {},
     "nuid": "32c2ad18-2082-4336-8b83-b358402979cc",
     "showTitle": false,
     "tableResultSettingsMap": {},
     "title": ""
    },
    "vscode": {
     "languageId": "raw"
    }
   },
   "source": [
    "## 3. 店舗テーブル（stores_table）の制約設定\n",
    "\n",
    "店舗テーブルに主キー制約を設定します。\n",
    "- `store_id` を NOT NULL に設定\n",
    "- `store_id` を主キーとして定義\n"
   ]
  },
  {
   "cell_type": "code",
   "execution_count": 0,
   "metadata": {
    "application/vnd.databricks.v1+cell": {
     "cellMetadata": {
      "byteLimit": 2048000,
      "implicitDf": true,
      "rowLimit": 10000
     },
     "inputWidgets": {},
     "nuid": "b4a61375-30d3-40ea-a6cf-1a837d6641d4",
     "showTitle": false,
     "tableResultSettingsMap": {},
     "title": ""
    },
    "vscode": {
     "languageId": "sql"
    }
   },
   "outputs": [],
   "source": [
    "%sql\n",
    "-- 店舗IDをNOT NULL制約に設定\n",
    "ALTER TABLE users.yukiteru_koide.stores_table\n",
    "ALTER COLUMN store_id SET NOT NULL;\n",
    "\n",
    "-- 店舗IDを主キーとして設定\n",
    "ALTER TABLE users.yukiteru_koide.stores_table\n",
    "ADD CONSTRAINT pk_stores PRIMARY KEY (store_id);\n"
   ]
  },
  {
   "cell_type": "markdown",
   "metadata": {
    "application/vnd.databricks.v1+cell": {
     "cellMetadata": {
      "byteLimit": 2048000,
      "rowLimit": 10000
     },
     "inputWidgets": {},
     "nuid": "bd31e218-0420-4660-9d52-972fc9df1d17",
     "showTitle": false,
     "tableResultSettingsMap": {},
     "title": ""
    },
    "vscode": {
     "languageId": "raw"
    }
   },
   "source": [
    "## 4. 取引テーブル（transactions_table）の制約設定\n",
    "\n",
    "取引テーブルに主キーと外部キー制約を設定します。\n",
    "- `transaction_id` を主キーとして設定\n",
    "- `customer_id` を顧客テーブルへの外部キーとして設定\n",
    "- `product_id` を商品テーブルへの外部キーとして設定\n",
    "- `store_id` を店舗テーブルへの外部キーとして設定\n"
   ]
  },
  {
   "cell_type": "code",
   "execution_count": 0,
   "metadata": {
    "application/vnd.databricks.v1+cell": {
     "cellMetadata": {
      "byteLimit": 2048000,
      "implicitDf": true,
      "rowLimit": 10000
     },
     "inputWidgets": {},
     "nuid": "7ca13142-9ebe-4223-bbc3-59470ec7dbf5",
     "showTitle": false,
     "tableResultSettingsMap": {},
     "title": ""
    },
    "vscode": {
     "languageId": "sql"
    }
   },
   "outputs": [],
   "source": [
    "%sql\n",
    "-- 取引IDをNOT NULL制約に設定\n",
    "ALTER TABLE users.yukiteru_koide.transactions_table\n",
    "ALTER COLUMN transaction_id SET NOT NULL;\n",
    "\n",
    "-- 取引IDを主キーとして設定\n",
    "ALTER TABLE users.yukiteru_koide.transactions_table\n",
    "ADD CONSTRAINT pk_transactions PRIMARY KEY (transaction_id);\n",
    "\n",
    "-- 顧客IDを外部キーとして設定（顧客テーブルを参照）\n",
    "ALTER TABLE users.yukiteru_koide.transactions_table\n",
    "ADD CONSTRAINT fk_transactions_customer FOREIGN KEY (customer_id)\n",
    "REFERENCES users.yukiteru_koide.customers_table(customer_id);\n",
    "\n",
    "-- 商品IDを外部キーとして設定（商品テーブルを参照）\n",
    "ALTER TABLE users.yukiteru_koide.transactions_table\n",
    "ADD CONSTRAINT fk_transactions_product FOREIGN KEY (product_id)\n",
    "REFERENCES users.yukiteru_koide.products_table(product_id);\n",
    "\n",
    "-- 店舗IDを外部キーとして設定（店舗テーブルを参照）\n",
    "ALTER TABLE users.yukiteru_koide.transactions_table\n",
    "ADD CONSTRAINT fk_transactions_store FOREIGN KEY (store_id)\n",
    "REFERENCES users.yukiteru_koide.stores_table(store_id);\n"
   ]
  },
  {
   "cell_type": "markdown",
   "metadata": {
    "application/vnd.databricks.v1+cell": {
     "cellMetadata": {
      "byteLimit": 2048000,
      "rowLimit": 10000
     },
     "inputWidgets": {},
     "nuid": "d5db74f7-5567-435b-a6a1-b3adcfa7a06e",
     "showTitle": false,
     "tableResultSettingsMap": {},
     "title": ""
    },
    "vscode": {
     "languageId": "raw"
    }
   },
   "source": [
    "## 5. 在庫テーブル（inventory_table）の制約設定\n",
    "\n",
    "在庫テーブルに複合主キーと外部キー制約を設定します。\n",
    "- `store_id` と `product_id` の組み合わせを複合主キーとして設定\n",
    "- `store_id` を店舗テーブルへの外部キーとして設定\n",
    "- `product_id` を商品テーブルへの外部キーとして設定\n"
   ]
  },
  {
   "cell_type": "code",
   "execution_count": 0,
   "metadata": {
    "application/vnd.databricks.v1+cell": {
     "cellMetadata": {
      "byteLimit": 2048000,
      "implicitDf": true,
      "rowLimit": 10000
     },
     "inputWidgets": {},
     "nuid": "e3a772e2-1ad7-4e16-9747-b7bf16031827",
     "showTitle": false,
     "tableResultSettingsMap": {},
     "title": ""
    },
    "vscode": {
     "languageId": "sql"
    }
   },
   "outputs": [],
   "source": [
    "%sql\n",
    "-- 店舗IDをNOT NULL制約に設定\n",
    "ALTER TABLE users.yukiteru_koide.inventory_table\n",
    "ALTER COLUMN store_id SET NOT NULL;\n",
    "\n",
    "-- 商品IDをNOT NULL制約に設定\n",
    "ALTER TABLE users.yukiteru_koide.inventory_table\n",
    "ALTER COLUMN product_id SET NOT NULL;\n",
    "\n",
    "-- 店舗IDと商品IDの複合主キーを設定\n",
    "ALTER TABLE users.yukiteru_koide.inventory_table\n",
    "ADD CONSTRAINT pk_inventory PRIMARY KEY (store_id, product_id);\n",
    "\n",
    "-- 店舗IDを外部キーとして設定（店舗テーブルを参照）\n",
    "ALTER TABLE users.yukiteru_koide.inventory_table\n",
    "ADD CONSTRAINT fk_inventory_store FOREIGN KEY (store_id)\n",
    "REFERENCES users.yukiteru_koide.stores_table(store_id);\n",
    "\n",
    "-- 商品IDを外部キーとして設定（商品テーブルを参照）\n",
    "ALTER TABLE users.yukiteru_koide.inventory_table\n",
    "ADD CONSTRAINT fk_inventory_product FOREIGN KEY (product_id)\n",
    "REFERENCES users.yukiteru_koide.products_table(product_id);\n"
   ]
  },
  {
   "cell_type": "markdown",
   "metadata": {
    "application/vnd.databricks.v1+cell": {
     "cellMetadata": {
      "byteLimit": 2048000,
      "rowLimit": 10000
     },
     "inputWidgets": {},
     "nuid": "6470b424-14b5-4aa7-8383-828ca73bda3f",
     "showTitle": false,
     "tableResultSettingsMap": {},
     "title": ""
    },
    "vscode": {
     "languageId": "raw"
    }
   },
   "source": [
    "## まとめ\n",
    "\n",
    "このノートブックで以下の制約が設定されました：\n",
    "\n",
    "### 主キー制約\n",
    "- `customers_table.customer_id`\n",
    "- `products_table.product_id`\n",
    "- `stores_table.store_id`\n",
    "- `transactions_table.transaction_id`\n",
    "- `inventory_table.(store_id, product_id)` - 複合主キー\n",
    "\n",
    "### 外部キー制約\n",
    "- `transactions_table.customer_id` → `customers_table.customer_id`\n",
    "- `transactions_table.product_id` → `products_table.product_id`\n",
    "- `transactions_table.store_id` → `stores_table.store_id`\n",
    "- `inventory_table.store_id` → `stores_table.store_id`\n",
    "- `inventory_table.product_id` → `products_table.product_id`\n",
    "\n",
    "これらの制約により、データの整合性と参照整合性が保たれ、リレーショナルデータベースとしての品質が向上します。\n"
   ]
  }
 ],
 "metadata": {
  "application/vnd.databricks.v1+notebook": {
   "computePreferences": null,
   "dashboards": [],
   "environmentMetadata": {
    "base_environment": "",
    "environment_version": "2"
   },
   "inputWidgetPreferences": null,
   "language": "python",
   "notebookMetadata": {
    "mostRecentlyExecutedCommandWithImplicitDF": {
     "commandId": 2805190872621073,
     "dataframes": [
      "_sqldf"
     ]
    },
    "pythonIndentUnit": 4
   },
   "notebookName": "01_事前作業",
   "widgets": {}
  },
  "kernelspec": {
   "display_name": "Python 3",
   "language": "python",
   "name": "python3"
  },
  "language_info": {
   "name": "python"
  }
 },
 "nbformat": 4,
 "nbformat_minor": 0
}
