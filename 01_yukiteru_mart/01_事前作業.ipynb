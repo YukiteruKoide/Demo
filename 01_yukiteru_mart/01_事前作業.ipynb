{
 "cells": [
  {
   "cell_type": "markdown",
   "metadata": {
    "application/vnd.databricks.v1+cell": {
     "cellMetadata": {
      "byteLimit": 2048000,
      "rowLimit": 10000
     },
     "inputWidgets": {},
     "nuid": "9d43bc64-8f93-4d20-bbe0-5f9ba00dd06e",
     "showTitle": false,
     "tableResultSettingsMap": {},
     "title": ""
    }
   },
   "source": [
    "# 主キー、外部キーの設定"
   ]
  },
  {
   "cell_type": "code",
   "execution_count": 0,
   "metadata": {
    "application/vnd.databricks.v1+cell": {
     "cellMetadata": {
      "byteLimit": 2048000,
      "implicitDf": true,
      "rowLimit": 10000
     },
     "inputWidgets": {},
     "nuid": "4b12399b-3d8f-4da2-afd7-ec824b9e8a76",
     "showTitle": false,
     "tableResultSettingsMap": {},
     "title": ""
    }
   },
   "outputs": [],
   "source": [
    "%sql\n",
    "ALTER TABLE users.yukiteru_koide.customers_table\n",
    "ALTER COLUMN customer_id SET NOT NULL;\n",
    "\n",
    "ALTER TABLE users.yukiteru_koide.customers_table\n",
    "ADD CONSTRAINT pk_customers PRIMARY KEY (customer_id);"
   ]
  },
  {
   "cell_type": "code",
   "execution_count": 0,
   "metadata": {
    "application/vnd.databricks.v1+cell": {
     "cellMetadata": {
      "byteLimit": 2048000,
      "rowLimit": 10000
     },
     "inputWidgets": {},
     "nuid": "b3cc8238-3e0c-4568-a140-7f0d3b55d1f6",
     "showTitle": false,
     "tableResultSettingsMap": {},
     "title": ""
    }
   },
   "outputs": [],
   "source": [
    "ALTER TABLE users.yukiteru_koide.products_table\n",
    "ALTER COLUMN product_id SET NOT NULL;\n",
    "\n",
    "ALTER TABLE users.yukiteru_koide.products_table\n",
    "ADD CONSTRAINT pk_products PRIMARY KEY (product_id);"
   ]
  },
  {
   "cell_type": "code",
   "execution_count": 0,
   "metadata": {
    "application/vnd.databricks.v1+cell": {
     "cellMetadata": {
      "byteLimit": 2048000,
      "rowLimit": 10000
     },
     "inputWidgets": {},
     "nuid": "4fca7b6a-d8ae-4aee-abb1-4454a1a124d0",
     "showTitle": false,
     "tableResultSettingsMap": {},
     "title": ""
    }
   },
   "outputs": [],
   "source": [
    "ALTER TABLE users.yukiteru_koide.stores_table\n",
    "ALTER COLUMN store_id SET NOT NULL;\n",
    "\n",
    "ALTER TABLE users.yukiteru_koide.stores_table\n",
    "ADD CONSTRAINT pk_stores PRIMARY KEY (store_id);"
   ]
  },
  {
   "cell_type": "code",
   "execution_count": 0,
   "metadata": {
    "application/vnd.databricks.v1+cell": {
     "cellMetadata": {
      "byteLimit": 2048000,
      "rowLimit": 10000
     },
     "inputWidgets": {},
     "nuid": "d7b06e06-5738-4b34-bb1e-befbbd233dc1",
     "showTitle": false,
     "tableResultSettingsMap": {},
     "title": ""
    }
   },
   "outputs": [],
   "source": [
    "ALTER TABLE users.yukiteru_koide.transactions_table\n",
    "ALTER COLUMN transaction_id SET NOT NULL;\n",
    "\n",
    "ALTER TABLE users.yukiteru_koide.transactions_table\n",
    "ADD CONSTRAINT pk_transactions PRIMARY KEY (transaction_id);\n",
    "\n",
    "ALTER TABLE users.yukiteru_koide.transactions_table\n",
    "ADD CONSTRAINT fk_transactions_customer FOREIGN KEY (customer_id)\n",
    "REFERENCES users.yukiteru_koide.customers_table(customer_id);\n",
    "\n",
    "ALTER TABLE users.yukiteru_koide.transactions_table\n",
    "ADD CONSTRAINT fk_transactions_product FOREIGN KEY (product_id)\n",
    "REFERENCES users.yukiteru_koide.products_table(product_id);\n",
    "\n",
    "ALTER TABLE users.yukiteru_koide.transactions_table\n",
    "ADD CONSTRAINT fk_transactions_store FOREIGN KEY (store_id)\n",
    "REFERENCES users.yukiteru_koide.stores_table(store_id);"
   ]
  },
  {
   "cell_type": "code",
   "execution_count": 0,
   "metadata": {
    "application/vnd.databricks.v1+cell": {
     "cellMetadata": {
      "byteLimit": 2048000,
      "rowLimit": 10000
     },
     "inputWidgets": {},
     "nuid": "f62e8eb7-fc7d-4b3d-93a6-a8c03527e17d",
     "showTitle": false,
     "tableResultSettingsMap": {},
     "title": ""
    }
   },
   "outputs": [],
   "source": [
    "ALTER TABLE users.yukiteru_koide.inventory_table\n",
    "ALTER COLUMN store_id SET NOT NULL;\n",
    "\n",
    "ALTER TABLE users.yukiteru_koide.inventory_table\n",
    "ALTER COLUMN product_id SET NOT NULL;\n",
    "\n",
    "ALTER TABLE users.yukiteru_koide.inventory_table\n",
    "ADD CONSTRAINT pk_inventory PRIMARY KEY (store_id, product_id);\n",
    "\n",
    "ALTER TABLE users.yukiteru_koide.inventory_table\n",
    "ADD CONSTRAINT fk_inventory_store FOREIGN KEY (store_id)\n",
    "REFERENCES users.yukiteru_koide.stores_table(store_id);\n",
    "\n",
    "ALTER TABLE users.yukiteru_koide.inventory_table\n",
    "ADD CONSTRAINT fk_inventory_product FOREIGN KEY (product_id)\n",
    "REFERENCES users.yukiteru_koide.products_table(product_id);"
   ]
  }
 ],
 "metadata": {
  "application/vnd.databricks.v1+notebook": {
   "computePreferences": null,
   "dashboards": [],
   "environmentMetadata": {
    "base_environment": "",
    "environment_version": "2"
   },
   "inputWidgetPreferences": null,
   "language": "sql",
   "notebookMetadata": {
    "mostRecentlyExecutedCommandWithImplicitDF": {
     "commandId": 7413492317030687,
     "dataframes": [
      "_sqldf"
     ]
    },
    "pythonIndentUnit": 4
   },
   "notebookName": "01_事前作業",
   "widgets": {}
  },
  "language_info": {
   "name": "sql"
  }
 },
 "nbformat": 4,
 "nbformat_minor": 0
}
