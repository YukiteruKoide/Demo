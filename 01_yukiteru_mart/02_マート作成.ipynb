{
 "cells": [
  {
   "cell_type": "raw",
   "metadata": {
    "vscode": {
     "languageId": "raw"
    }
   },
   "source": [
    "# Yukiteru Mart 分析用マートテーブル作成\n",
    "\n",
    "このノートブックでは、Yukiteru Martの基礎テーブルから分析用のマートテーブルを作成します。\n",
    "\n",
    "## 作成するマートテーブル\n",
    "1. **customer_summary_table** - 顧客別の購入統計情報\n",
    "2. **store_sales_summary_table** - 店舗・月別の売上統計情報\n",
    "\n",
    "## 目的\n",
    "- 分析効率の向上\n",
    "- よく使われる集計データの事前計算\n",
    "- ダッシュボードでの高速表示\n"
   ]
  },
  {
   "cell_type": "raw",
   "metadata": {
    "vscode": {
     "languageId": "raw"
    }
   },
   "source": [
    "## 1. 顧客サマリーテーブル（customer_summary_table）の作成\n",
    "\n",
    "顧客ごとの購入行動を分析するためのサマリーテーブルを作成します。\n",
    "\n",
    "### 集計内容\n",
    "- **total_spent**: 顧客の総購入金額\n",
    "- **avg_unit_price**: 購入商品の平均単価\n",
    "- **transaction_count**: 取引回数（購入頻度）\n",
    "\n",
    "### データソース\n",
    "- **transactions_table**: 取引履歴\n",
    "- **products_table**: 商品マスタ（価格情報取得用）\n"
   ]
  },
  {
   "cell_type": "code",
   "execution_count": 0,
   "metadata": {
    "application/vnd.databricks.v1+cell": {
     "cellMetadata": {
      "byteLimit": 2048000,
      "rowLimit": 10000
     },
     "inputWidgets": {},
     "nuid": "febdfc43-9b35-48b4-b035-9cdf807153f1",
     "showTitle": false,
     "tableResultSettingsMap": {},
     "title": ""
    }
   },
   "outputs": [],
   "source": [
    "%sql\n",
    "-- 顧客サマリーテーブルを作成（既存の場合は置換）\n",
    "CREATE OR REPLACE TABLE users.yukiteru_koide.customer_summary_table AS\n",
    "SELECT\n",
    "  t.customer_id,                                            -- 顧客ID\n",
    "  ROUND(SUM(p.price * t.quantity), 2) AS total_spent,       -- 総購入金額（小数点第2位まで）\n",
    "  ROUND(AVG(p.price), 2) AS avg_unit_price,                 -- 平均商品単価（小数点第2位まで）\n",
    "  COUNT(*) AS transaction_count                             -- 取引回数\n",
    "FROM\n",
    "  users.yukiteru_koide.transactions_table t                 -- 取引履歴テーブル\n",
    "JOIN\n",
    "  users.yukiteru_koide.products_table p                     -- 商品マスタテーブル\n",
    "  ON t.product_id = p.product_id                            -- 商品IDで結合\n",
    "GROUP BY\n",
    "  t.customer_id;                                            -- 顧客ごとに集計\n"
   ]
  },
  {
   "cell_type": "raw",
   "metadata": {
    "vscode": {
     "languageId": "raw"
    }
   },
   "source": [
    "### 顧客サマリーテーブルの確認\n",
    "\n",
    "作成された顧客サマリーテーブルの内容を確認します。\n"
   ]
  },
  {
   "cell_type": "code",
   "execution_count": 0,
   "metadata": {
    "application/vnd.databricks.v1+cell": {
     "cellMetadata": {
      "byteLimit": 2048000,
      "rowLimit": 10000
     },
     "inputWidgets": {},
     "nuid": "fc36f2c1-4cec-4dc0-9c20-804144201f3a",
     "showTitle": false,
     "tableResultSettingsMap": {},
     "title": ""
    }
   },
   "outputs": [
    {
     "data": {
      "text/plain": [
       "Databricks data profile. Run in Databricks to view."
      ]
     },
     "metadata": {
      "application/vnd.databricks.v1.subcommand+json": {
       "baseErrorDetails": null,
       "bindings": {},
       "collapsed": false,
       "command": "%python\nif hasattr(dbutils, \"data\") and hasattr(dbutils.data, \"summarize\"):\n  dbutils.data.summarize(spark.sql(r\"\"\"SELECT * FROM users.yukiteru_koide.customer_summary_table \"\"\"))\nelse:\n  print(\"This DBR version does not support data profiles.\")\n",
       "commandTitle": "データプロファイル 1",
       "commandType": "auto",
       "commandVersion": 0,
       "commentThread": [],
       "commentsVisible": false,
       "contentSha256Hex": null,
       "customPlotOptions": {},
       "datasetPreviewNameToCmdIdMap": {},
       "diffDeletes": [],
       "diffInserts": [],
       "displayType": "table",
       "error": null,
       "errorDetails": null,
       "errorSummary": null,
       "errorTraceType": null,
       "finishTime": 1751256530283,
       "globalVars": {},
       "guid": "",
       "height": "auto",
       "hideCommandCode": false,
       "hideCommandResult": false,
       "iPythonMetadata": null,
       "inputWidgets": {},
       "isLockedInExamMode": false,
       "latestUser": "a user",
       "latestUserId": null,
       "listResultMetadata": [
        [
         "mimeBundle",
         null
        ]
       ],
       "metadata": {
        "byteLimit": 2048000,
        "rowLimit": 10000
       },
       "nuid": "a556953e-bc71-465c-a55c-066b76f31ad5",
       "origId": 0,
       "parentHierarchy": [],
       "pivotAggregation": null,
       "pivotColumns": null,
       "position": 4,
       "resultDbfsErrorMessage": null,
       "resultDbfsStatus": "INLINED_IN_TREE",
       "results": null,
       "showCommandTitle": false,
       "startTime": 1751256476324,
       "state": "input",
       "streamStates": {},
       "subcommandOptions": null,
       "submitTime": 1751256459088,
       "subtype": "tableResultSubCmd.dataSummary",
       "tableResultIndex": 0,
       "tableResultSettingsMap": {},
       "useConsistentColors": false,
       "version": "CommandV1",
       "width": "auto",
       "workflows": null,
       "xColumns": null,
       "yColumns": null
      }
     },
     "output_type": "display_data"
    }
   ],
   "source": [
    "%sql\n",
    "-- 顧客サマリーテーブルの全データを表示\n",
    "SELECT * FROM users.yukiteru_koide.customer_summary_table\n",
    "ORDER BY total_spent DESC   -- 総購入金額の降順で並び替え"
   ]
  },
  {
   "cell_type": "raw",
   "metadata": {
    "vscode": {
     "languageId": "raw"
    }
   },
   "source": [
    "## 2. 店舗売上サマリーテーブル（store_sales_summary_table）の作成\n",
    "\n",
    "店舗ごと・月ごとの売上実績を分析するためのサマリーテーブルを作成します。\n",
    "\n",
    "### 集計内容\n",
    "- **store_id**: 店舗ID\n",
    "- **month**: 集計月（YYYY-MM形式）\n",
    "- **total_sales**: 月間売上合計\n",
    "- **transaction_count**: 月間取引件数\n",
    "\n",
    "### データソース\n",
    "- **transactions_table**: 取引履歴\n",
    "- **products_table**: 商品マスタ（価格情報取得用）\n"
   ]
  },
  {
   "cell_type": "code",
   "execution_count": 0,
   "metadata": {
    "application/vnd.databricks.v1+cell": {
     "cellMetadata": {
      "byteLimit": 2048000,
      "rowLimit": 10000
     },
     "inputWidgets": {},
     "nuid": "00403d10-fe1d-4ef2-95bd-907a13e95026",
     "showTitle": false,
     "tableResultSettingsMap": {},
     "title": ""
    }
   },
   "outputs": [],
   "source": [
    "%sql\n",
    "-- 店舗売上サマリーテーブルを作成（既存の場合は置換）\n",
    "CREATE OR REPLACE TABLE users.yukiteru_koide.store_sales_summary_table AS\n",
    "SELECT\n",
    "  t.store_id,                                               -- 店舗ID\n",
    "  DATE_FORMAT(t.purchase_date, 'yyyy-MM') AS month,         -- 購入年月（YYYY-MM形式）\n",
    "  ROUND(SUM(p.price * t.quantity), 2) AS total_sales,       -- 月間売上合計（小数点第2位まで）\n",
    "  COUNT(*) AS transaction_count                             -- 月間取引件数\n",
    "FROM\n",
    "  users.yukiteru_koide.transactions_table t                 -- 取引履歴テーブル\n",
    "JOIN\n",
    "  users.yukiteru_koide.products_table p                     -- 商品マスタテーブル\n",
    "  ON t.product_id = p.product_id                            -- 商品IDで結合\n",
    "GROUP BY\n",
    "  t.store_id,                                               -- 店舗IDでグループ化\n",
    "  DATE_FORMAT(t.purchase_date, 'yyyy-MM');                  -- 年月でグループ化\n"
   ]
  },
  {
   "cell_type": "raw",
   "metadata": {
    "vscode": {
     "languageId": "raw"
    }
   },
   "source": [
    "### 店舗売上サマリーテーブルの確認\n",
    "\n",
    "作成された店舗売上サマリーテーブルの内容を確認します。\n"
   ]
  },
  {
   "cell_type": "code",
   "execution_count": 0,
   "metadata": {
    "application/vnd.databricks.v1+cell": {
     "cellMetadata": {
      "byteLimit": 2048000,
      "rowLimit": 10000
     },
     "inputWidgets": {},
     "nuid": "71ab9794-ec60-4b6b-b3d6-80f048c0b7fb",
     "showTitle": false,
     "tableResultSettingsMap": {},
     "title": ""
    }
   },
   "outputs": [
    {
     "data": {
      "text/plain": [
       "Databricks data profile. Run in Databricks to view."
      ]
     },
     "metadata": {
      "application/vnd.databricks.v1.subcommand+json": {
       "baseErrorDetails": null,
       "bindings": {},
       "collapsed": false,
       "command": "%python\nif hasattr(dbutils, \"data\") and hasattr(dbutils.data, \"summarize\"):\n  dbutils.data.summarize(spark.sql(r\"\"\"SELECT * FROM users.yukiteru_koide.store_sales_summary_table \"\"\"))\nelse:\n  print(\"This DBR version does not support data profiles.\")\n",
       "commandTitle": "データプロファイル 1",
       "commandType": "auto",
       "commandVersion": 0,
       "commentThread": [],
       "commentsVisible": false,
       "contentSha256Hex": null,
       "customPlotOptions": {},
       "datasetPreviewNameToCmdIdMap": {},
       "diffDeletes": [],
       "diffInserts": [],
       "displayType": "table",
       "error": null,
       "errorDetails": null,
       "errorSummary": null,
       "errorTraceType": null,
       "finishTime": 1751256541965,
       "globalVars": {},
       "guid": "",
       "height": "auto",
       "hideCommandCode": false,
       "hideCommandResult": false,
       "iPythonMetadata": null,
       "inputWidgets": {},
       "isLockedInExamMode": false,
       "latestUser": "a user",
       "latestUserId": null,
       "listResultMetadata": [
        [
         "mimeBundle",
         null
        ]
       ],
       "metadata": {
        "byteLimit": 2048000,
        "rowLimit": 10000
       },
       "nuid": "dd3efcb9-28b2-4c9b-b987-7ee9a2a7ac8d",
       "origId": 0,
       "parentHierarchy": [],
       "pivotAggregation": null,
       "pivotColumns": null,
       "position": 5,
       "resultDbfsErrorMessage": null,
       "resultDbfsStatus": "INLINED_IN_TREE",
       "results": null,
       "showCommandTitle": false,
       "startTime": 1751256533991,
       "state": "input",
       "streamStates": {},
       "subcommandOptions": null,
       "submitTime": 1751256459102,
       "subtype": "tableResultSubCmd.dataSummary",
       "tableResultIndex": 0,
       "tableResultSettingsMap": {},
       "useConsistentColors": false,
       "version": "CommandV1",
       "width": "auto",
       "workflows": null,
       "xColumns": null,
       "yColumns": null
      }
     },
     "output_type": "display_data"
    }
   ],
   "source": [
    "%sql\n",
    "-- 店舗売上サマリーテーブルの全データを表示\n",
    "SELECT * FROM users.yukiteru_koide.store_sales_summary_table\n",
    "ORDER BY store_id, month DESC   -- 店舗ID、月の降順で並び替え"
   ]
  },
  {
   "cell_type": "raw",
   "metadata": {
    "vscode": {
     "languageId": "raw"
    }
   },
   "source": [
    "## まとめ\n",
    "\n",
    "このノートブックで作成されたマートテーブル：\n",
    "\n",
    "### 1. customer_summary_table\n",
    "- 顧客別の購入統計（総購入金額、平均単価、取引回数）\n",
    "- 顧客分析、VIP顧客識別、購買行動分析に活用\n",
    "\n",
    "### 2. store_sales_summary_table  \n",
    "- 店舗・月別の売上統計（月間売上、取引件数）\n",
    "- 店舗パフォーマンス分析、売上トレンド分析に活用\n",
    "\n",
    "これらのマートテーブルは、ダッシュボードでの高速表示や詳細分析に使用されます。\n"
   ]
  },
  {
   "cell_type": "code",
   "execution_count": 0,
   "metadata": {
    "application/vnd.databricks.v1+cell": {
     "cellMetadata": {
      "byteLimit": 2048000,
      "rowLimit": 10000
     },
     "inputWidgets": {},
     "nuid": "a235be8a-560b-4539-b316-2dd202ebde93",
     "showTitle": false,
     "tableResultSettingsMap": {},
     "title": ""
    }
   },
   "outputs": [],
   "source": []
  }
 ],
 "metadata": {
  "application/vnd.databricks.v1+notebook": {
   "computePreferences": null,
   "dashboards": [],
   "environmentMetadata": {
    "base_environment": "",
    "environment_version": "2"
   },
   "inputWidgetPreferences": null,
   "language": "sql",
   "notebookMetadata": {
    "pythonIndentUnit": 4
   },
   "notebookName": "02_マート作成",
   "widgets": {}
  },
  "language_info": {
   "name": "sql"
  }
 },
 "nbformat": 4,
 "nbformat_minor": 0
}
