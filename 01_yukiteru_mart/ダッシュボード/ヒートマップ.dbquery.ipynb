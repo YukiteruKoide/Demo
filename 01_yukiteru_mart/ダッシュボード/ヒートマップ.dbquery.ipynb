{
 "cells": [
  {
   "cell_type": "code",
   "execution_count": 0,
   "metadata": {
    "application/vnd.databricks.v1+cell": {
     "cellMetadata": {},
     "inputWidgets": {},
     "nuid": "f4413fcc-2030-4eb5-bb00-f650c83210dd",
     "showTitle": false,
     "tableResultSettingsMap": {},
     "title": ""
    }
   },
   "outputs": [],
   "source": [
    "SELECT\n",
    "  `customer_id`,\n",
    "  SUM(`quantity`) AS `total_quantity`,\n",
    "  COUNT(`purchase_date`) AS `purchase_frequency`\n",
    "FROM\n",
    "  users.yukiteru_koide.transactions_table\n",
    "GROUP BY\n",
    "  `customer_id`"
   ]
  }
 ],
 "metadata": {
  "application/vnd.databricks.v1+notebook": {
   "computePreferences": null,
   "dashboards": [],
   "environmentMetadata": null,
   "inputWidgetPreferences": null,
   "language": "sql",
   "notebookMetadata": {
    "sqlQueryOptions": {
     "applyAutoLimit": true,
     "catalog": "users",
     "schema": "default"
    }
   },
   "notebookName": "ヒートマップ.dbquery.ipynb",
   "widgets": {}
  },
  "language_info": {
   "name": "sql"
  }
 },
 "nbformat": 4,
 "nbformat_minor": 0
}
