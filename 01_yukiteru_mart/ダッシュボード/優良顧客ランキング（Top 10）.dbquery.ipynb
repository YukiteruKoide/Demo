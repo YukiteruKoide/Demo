{
 "cells": [
  {
   "cell_type": "code",
   "execution_count": 0,
   "metadata": {
    "application/vnd.databricks.v1+cell": {
     "cellMetadata": {},
     "inputWidgets": {},
     "nuid": "10c0b831-50d6-49d0-a21f-1cff3b8da869",
     "showTitle": false,
     "tableResultSettingsMap": {},
     "title": ""
    }
   },
   "outputs": [],
   "source": [
    "SELECT\n",
    "  c.customer_id,\n",
    "  cs.total_spent,\n",
    "  cs.transaction_count\n",
    "FROM\n",
    "  users.yukiteru_koide.customer_summary_table cs\n",
    "JOIN\n",
    "  users.yukiteru_koide.customers_table c\n",
    "  ON cs.customer_id = c.customer_id\n",
    "ORDER BY\n",
    "  cs.total_spent DESC\n",
    "LIMIT 10;\n"
   ]
  }
 ],
 "metadata": {
  "application/vnd.databricks.v1+notebook": {
   "computePreferences": null,
   "dashboards": [],
   "environmentMetadata": null,
   "inputWidgetPreferences": null,
   "language": "sql",
   "notebookMetadata": {
    "sqlQueryOptions": {
     "applyAutoLimit": true,
     "catalog": "users",
     "schema": "default"
    }
   },
   "notebookName": "優良顧客ランキング（Top 10）.dbquery.ipynb",
   "widgets": {}
  },
  "language_info": {
   "name": "sql"
  }
 },
 "nbformat": 4,
 "nbformat_minor": 0
}
