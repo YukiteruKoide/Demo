{
 "cells": [
  {
   "cell_type": "code",
   "execution_count": 0,
   "metadata": {
    "application/vnd.databricks.v1+cell": {
     "cellMetadata": {},
     "inputWidgets": {},
     "nuid": "27a0396f-992f-4e57-ac73-acc3846bb9f1",
     "showTitle": false,
     "tableResultSettingsMap": {},
     "title": ""
    }
   },
   "outputs": [],
   "source": [
    "SELECT\n",
    "  p.category,\n",
    "  ROUND(SUM(p.price * t.quantity), 2) AS category_sales\n",
    "FROM\n",
    "  users.yukiteru_koide.transactions_table t\n",
    "JOIN\n",
    "  users.yukiteru_koide.products_table p\n",
    "  ON t.product_id = p.product_id\n",
    "GROUP BY\n",
    "  p.category\n",
    "ORDER BY\n",
    "  category_sales DESC;\n"
   ]
  }
 ],
 "metadata": {
  "application/vnd.databricks.v1+notebook": {
   "computePreferences": null,
   "dashboards": [],
   "environmentMetadata": null,
   "inputWidgetPreferences": null,
   "language": "sql",
   "notebookMetadata": {
    "sqlQueryOptions": {
     "applyAutoLimit": true,
     "catalog": "users",
     "schema": "default"
    }
   },
   "notebookName": "商品カテゴリ別売上.dbquery.ipynb",
   "widgets": {}
  },
  "language_info": {
   "name": "sql"
  }
 },
 "nbformat": 4,
 "nbformat_minor": 0
}
