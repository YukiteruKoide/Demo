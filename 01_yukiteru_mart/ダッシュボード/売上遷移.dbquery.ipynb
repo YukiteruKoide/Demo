{
 "cells": [
  {
   "cell_type": "code",
   "execution_count": 0,
   "metadata": {
    "application/vnd.databricks.v1+cell": {
     "cellMetadata": {},
     "inputWidgets": {},
     "nuid": "91c86490-0a45-4ac5-b5f7-3a8e71932a53",
     "showTitle": false,
     "tableResultSettingsMap": {},
     "title": ""
    }
   },
   "outputs": [],
   "source": [
    "SELECT\n",
    "  month,\n",
    "  SUM(total_sales) AS monthly_sales\n",
    "FROM\n",
    "  users.yukiteru_koide.store_sales_summary_table\n",
    "GROUP BY\n",
    "  month\n",
    "ORDER BY\n",
    "  month;\n"
   ]
  }
 ],
 "metadata": {
  "application/vnd.databricks.v1+notebook": {
   "computePreferences": null,
   "dashboards": [],
   "environmentMetadata": null,
   "inputWidgetPreferences": null,
   "language": "sql",
   "notebookMetadata": {
    "sqlQueryOptions": {
     "applyAutoLimit": true,
     "catalog": "users",
     "schema": "default"
    }
   },
   "notebookName": "売上遷移.dbquery.ipynb",
   "widgets": {}
  },
  "language_info": {
   "name": "sql"
  }
 },
 "nbformat": 4,
 "nbformat_minor": 0
}
