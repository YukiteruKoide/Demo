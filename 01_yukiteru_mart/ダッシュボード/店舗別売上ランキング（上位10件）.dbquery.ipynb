{
 "cells": [
  {
   "cell_type": "code",
   "execution_count": 0,
   "metadata": {
    "application/vnd.databricks.v1+cell": {
     "cellMetadata": {},
     "inputWidgets": {},
     "nuid": "102a2431-273e-400d-a67b-e73e207f6ae3",
     "showTitle": false,
     "tableResultSettingsMap": {},
     "title": ""
    }
   },
   "outputs": [],
   "source": [
    "SELECT\n",
    "  s.store_name,\n",
    "  SUM(ss.total_sales) AS total_sales\n",
    "FROM\n",
    "  users.yukiteru_koide.store_sales_summary_table ss\n",
    "JOIN\n",
    "  users.yukiteru_koide.stores_table s\n",
    "  ON ss.store_id = s.store_id\n",
    "GROUP BY\n",
    "  s.store_name\n",
    "ORDER BY\n",
    "  total_sales DESC\n",
    "LIMIT 10;\n"
   ]
  }
 ],
 "metadata": {
  "application/vnd.databricks.v1+notebook": {
   "computePreferences": null,
   "dashboards": [],
   "environmentMetadata": null,
   "inputWidgetPreferences": null,
   "language": "sql",
   "notebookMetadata": {
    "sqlQueryOptions": {
     "applyAutoLimit": true,
     "catalog": "users",
     "schema": "default"
    }
   },
   "notebookName": "店舗別売上ランキング（上位10件）.dbquery.ipynb",
   "widgets": {}
  },
  "language_info": {
   "name": "sql"
  }
 },
 "nbformat": 4,
 "nbformat_minor": 0
}
