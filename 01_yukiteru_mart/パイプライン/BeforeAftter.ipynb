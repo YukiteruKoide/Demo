{
 "cells": [
  {
   "cell_type": "markdown",
   "metadata": {
    "vscode": {
     "languageId": "raw"
    }
   },
   "source": [
    "# データ処理前後の件数チェック\n",
    "\n",
    "このノートブックは、データ処理パイプラインの実行前後でトランザクションテーブルの件数を確認するために使用します。\n",
    "\n",
    "## 目的\n",
    "- データ処理前の基準値取得\n",
    "- データ処理後の変化確認\n",
    "- データ品質保証とモニタリング\n",
    "\n",
    "## 使用方法\n",
    "1. パイプライン実行前に1回目のセルを実行\n",
    "2. パイプライン実行後に2回目のセルを実行\n",
    "3. 件数の変化を比較して処理結果を確認\n"
   ]
  },
  {
   "cell_type": "markdown",
   "metadata": {
    "vscode": {
     "languageId": "raw"
    }
   },
   "source": [
    "## データ処理前の件数確認\n",
    "\n",
    "パイプライン実行前のトランザクションテーブルの件数を取得します。\n"
   ]
  },
  {
   "cell_type": "code",
   "execution_count": 0,
   "metadata": {
    "application/vnd.databricks.v1+cell": {
     "cellMetadata": {
      "byteLimit": 2048000,
      "implicitDf": true,
      "rowLimit": 10000
     },
     "inputWidgets": {},
     "nuid": "7ecfb1d5-c607-4bf0-b8b5-48745b497e41",
     "showTitle": false,
     "tableResultSettingsMap": {},
     "title": ""
    }
   },
   "outputs": [],
   "source": [
    "%sql\n",
    "-- パイプライン実行前のトランザクション件数を取得\n",
    "SELECT count(*) as before_count \n",
    "FROM users.yukiteru_koide.transactions_table"
   ]
  },
  {
   "cell_type": "markdown",
   "metadata": {
    "vscode": {
     "languageId": "raw"
    }
   },
   "source": [
    "## データ処理後の件数確認\n",
    "\n",
    "パイプライン実行後のトランザクションテーブルの件数を取得し、増加分を確認します。\n"
   ]
  },
  {
   "cell_type": "code",
   "execution_count": 0,
   "metadata": {
    "application/vnd.databricks.v1+cell": {
     "cellMetadata": {
      "byteLimit": 2048000,
      "implicitDf": true,
      "rowLimit": 10000
     },
     "inputWidgets": {},
     "nuid": "bd7d90d5-c0e2-4741-a5e3-4428a8e43895",
     "showTitle": false,
     "tableResultSettingsMap": {},
     "title": ""
    }
   },
   "outputs": [],
   "source": [
    "%sql\n",
    "-- パイプライン実行後のトランザクション件数を取得\n",
    "SELECT count(*) as after_count \n",
    "FROM users.yukiteru_koide.transactions_table"
   ]
  }
 ],
 "metadata": {
  "application/vnd.databricks.v1+notebook": {
   "computePreferences": null,
   "dashboards": [],
   "environmentMetadata": {
    "base_environment": "",
    "environment_version": "2"
   },
   "inputWidgetPreferences": null,
   "language": "python",
   "notebookMetadata": {
    "mostRecentlyExecutedCommandWithImplicitDF": {
     "commandId": 3698509841272455,
     "dataframes": [
      "_sqldf"
     ]
    },
    "pythonIndentUnit": 4
   },
   "notebookName": "BeforeAftter",
   "widgets": {}
  },
  "kernelspec": {
   "display_name": "Python 3",
   "language": "python",
   "name": "python3"
  },
  "language_info": {
   "name": "python",
   "version": "3.9.6"
  }
 },
 "nbformat": 4,
 "nbformat_minor": 0
}
