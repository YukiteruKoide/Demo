{
 "cells": [
  {
   "cell_type": "code",
   "execution_count": 0,
   "metadata": {
    "application/vnd.databricks.v1+cell": {
     "cellMetadata": {
      "byteLimit": 2048000,
      "rowLimit": 10000
     },
     "inputWidgets": {},
     "nuid": "fc81e1e7-a076-4eb6-8052-4c573b1e6301",
     "showTitle": false,
     "tableResultSettingsMap": {},
     "title": ""
    }
   },
   "outputs": [],
   "source": [
    "df = (\n",
    "  spark.readStream\n",
    "  .format(\"cloudFiles\")\n",
    "  .option(\"cloudFiles.format\", \"csv\")\n",
    "  .option(\"header\", \"true\")\n",
    "  .schema(\"transaction_id INT, customer_id INT, product_id INT, store_id INT, employee_id INT, quantity INT, purchase_date DATE, _rescued_data STRING\")\n",
    "  .load(\"/Volumes/users/yukiteru_koide/volume_yukiteru_mart_transaction\")\n",
    "  .filter(\"transaction_id IS NOT NULL\")  # ★nullを除外\n",
    ")\n",
    "\n",
    "df.writeStream.format(\"delta\") \\\n",
    "  .option(\"checkpointLocation\", \"/Volumes/users/yukiteru_koide/volume_yukiteru_mart_transaction\") \\\n",
    "  .trigger(once=True) \\\n",
    "  .toTable(\"users.yukiteru_koide.transactions_table\")\n"
   ]
  },
  {
   "cell_type": "code",
   "execution_count": 0,
   "metadata": {
    "application/vnd.databricks.v1+cell": {
     "cellMetadata": {},
     "inputWidgets": {},
     "nuid": "e42578be-31f8-4569-b58f-afad8cb3906e",
     "showTitle": false,
     "tableResultSettingsMap": {},
     "title": ""
    }
   },
   "outputs": [],
   "source": []
  }
 ],
 "metadata": {
  "application/vnd.databricks.v1+notebook": {
   "computePreferences": null,
   "dashboards": [],
   "environmentMetadata": {
    "base_environment": "",
    "environment_version": "2"
   },
   "inputWidgetPreferences": null,
   "language": "python",
   "notebookMetadata": {
    "pythonIndentUnit": 4
   },
   "notebookName": "Volume をトリガーにした Auto Loader",
   "widgets": {}
  },
  "language_info": {
   "name": "python"
  }
 },
 "nbformat": 4,
 "nbformat_minor": 0
}
