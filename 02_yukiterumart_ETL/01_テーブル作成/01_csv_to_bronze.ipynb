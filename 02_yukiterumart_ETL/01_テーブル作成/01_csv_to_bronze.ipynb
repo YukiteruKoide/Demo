{
 "cells": [
  {
   "cell_type": "code",
   "execution_count": 0,
   "metadata": {
    "application/vnd.databricks.v1+cell": {
     "cellMetadata": {
      "byteLimit": 2048000,
      "rowLimit": 10000
     },
     "inputWidgets": {},
     "nuid": "42cf87fe-7c9b-4a75-9340-4396f306df96",
     "showTitle": false,
     "tableResultSettingsMap": {},
     "title": ""
    }
   },
   "outputs": [],
   "source": [
    "# 変数定義（環境に応じて変更）\n",
    "catalog_name = \"users\"\n",
    "schema_name = \"yukiteru_koide\"\n",
    "base_path = \"/Volumes/users/yukiteru_koide/yukiterumart_etl\"\n",
    "\n",
    "# CATALOGとSCHEMAを明示的に切り替え\n",
    "spark.sql(f\"USE CATALOG {catalog_name}\")\n",
    "spark.sql(f\"USE SCHEMA {schema_name}\")\n"
   ]
  },
  {
   "cell_type": "code",
   "execution_count": 0,
   "metadata": {
    "application/vnd.databricks.v1+cell": {
     "cellMetadata": {
      "byteLimit": 2048000,
      "rowLimit": 10000
     },
     "inputWidgets": {},
     "nuid": "1327c216-be77-4c6f-b2f4-c2660ecdad87",
     "showTitle": false,
     "tableResultSettingsMap": {},
     "title": ""
    }
   },
   "outputs": [],
   "source": [
    "# トランザクション\n",
    "df_transactions = (\n",
    "    spark.read.format(\"csv\")\n",
    "    .option(\"header\", True)\n",
    "    .option(\"inferSchema\", True)\n",
    "    .load(f\"{base_path}/transactions.csv\")\n",
    ")\n",
    "df_transactions.write.format(\"delta\").mode(\"overwrite\").saveAsTable(\"transactions\")\n",
    "\n",
    "# 顧客\n",
    "df_customers = (\n",
    "    spark.read.format(\"csv\")\n",
    "    .option(\"header\", True)\n",
    "    .option(\"inferSchema\", True)\n",
    "    .load(f\"{base_path}/customers.csv\")\n",
    ")\n",
    "df_customers.write.format(\"delta\").mode(\"overwrite\").saveAsTable(\"customers\")\n",
    "\n",
    "# 商品\n",
    "df_products = (\n",
    "    spark.read.format(\"csv\")\n",
    "    .option(\"header\", True)\n",
    "    .option(\"inferSchema\", True)\n",
    "    .load(f\"{base_path}/products.csv\")\n",
    ")\n",
    "df_products.write.format(\"delta\").mode(\"overwrite\").saveAsTable(\"products\")\n",
    "\n",
    "# 店舗\n",
    "df_stores = (\n",
    "    spark.read.format(\"csv\")\n",
    "    .option(\"header\", True)\n",
    "    .option(\"inferSchema\", True)\n",
    "    .load(f\"{base_path}/stores.csv\")\n",
    ")\n",
    "df_stores.write.format(\"delta\").mode(\"overwrite\").saveAsTable(\"stores\")\n",
    "\n",
    "# レビュー\n",
    "df_reviews = (\n",
    "    spark.read.format(\"csv\")\n",
    "    .option(\"header\", True)\n",
    "    .option(\"inferSchema\", True)\n",
    "    .load(f\"{base_path}/reviews.csv\")\n",
    ")\n",
    "df_reviews.write.format(\"delta\").mode(\"overwrite\").saveAsTable(\"reviews\")\n"
   ]
  },
  {
   "cell_type": "code",
   "execution_count": 0,
   "metadata": {
    "application/vnd.databricks.v1+cell": {
     "cellMetadata": {},
     "inputWidgets": {},
     "nuid": "cbfbf2ad-02cb-451d-aa91-67434def6100",
     "showTitle": false,
     "tableResultSettingsMap": {},
     "title": ""
    }
   },
   "outputs": [],
   "source": []
  }
 ],
 "metadata": {
  "application/vnd.databricks.v1+notebook": {
   "computePreferences": null,
   "dashboards": [],
   "environmentMetadata": {
    "base_environment": "dbe_661d4af1-98fa-4a5d-a539-98ca8f2436c5",
    "environment_version": "2"
   },
   "inputWidgetPreferences": null,
   "language": "python",
   "notebookMetadata": {
    "pythonIndentUnit": 2
   },
   "notebookName": "01_csv_to_bronze",
   "widgets": {}
  },
  "language_info": {
   "name": "python"
  }
 },
 "nbformat": 4,
 "nbformat_minor": 0
}
