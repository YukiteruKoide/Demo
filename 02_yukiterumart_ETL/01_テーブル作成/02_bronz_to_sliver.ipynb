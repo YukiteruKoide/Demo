{
 "cells": [
  {
   "cell_type": "code",
   "execution_count": 0,
   "metadata": {
    "application/vnd.databricks.v1+cell": {
     "cellMetadata": {
      "byteLimit": 2048000,
      "rowLimit": 10000
     },
     "inputWidgets": {},
     "nuid": "454b1762-54d9-429c-ba51-cd0f7c250210",
     "showTitle": false,
     "tableResultSettingsMap": {},
     "title": ""
    }
   },
   "outputs": [],
   "source": [
    "# 変数（前ステップと統一）\n",
    "catalog_name = \"users\"\n",
    "schema = \"yukiteru_koide\"\n",
    "\n",
    "# スキーマ切り替え\n",
    "spark.sql(f\"USE CATALOG {catalog_name}\")\n",
    "spark.sql(f\"USE SCHEMA {schema}\")"
   ]
  },
  {
   "cell_type": "code",
   "execution_count": 0,
   "metadata": {
    "application/vnd.databricks.v1+cell": {
     "cellMetadata": {
      "byteLimit": 2048000,
      "rowLimit": 10000
     },
     "inputWidgets": {},
     "nuid": "49c7855e-92ac-4ee2-9c64-d66035ba327e",
     "showTitle": false,
     "tableResultSettingsMap": {},
     "title": ""
    }
   },
   "outputs": [],
   "source": [
    "# Bronzeテーブル読み込み\n",
    "df_transactions = spark.table(f\"{catalog_name}.{schema}.transactions\")\n",
    "df_customers = spark.table(f\"{catalog_name}.{schema}.customers\")\n",
    "df_products = spark.table(f\"{catalog_name}.{schema}.products\")\n",
    "df_stores = spark.table(f\"{catalog_name}.{schema}.stores\")\n",
    "\n",
    "# 結合と整形\n",
    "from pyspark.sql.functions import to_date, col\n",
    "\n",
    "df_silver = (\n",
    "    df_transactions\n",
    "    .withColumn(\"transaction_date\", to_date(col(\"transaction_date\")))\n",
    "    .filter(col(\"quantity\") > 0)\n",
    "    .join(df_customers, \"customer_id\", \"left\")\n",
    "    .join(df_products, \"product_id\", \"left\")\n",
    "    .join(df_stores, \"store_id\", \"left\")\n",
    ")\n",
    "\n",
    "# Silverテーブルとして保存\n",
    "df_silver.write.format(\"delta\").mode(\"overwrite\").saveAsTable(\"transactions_enriched\")\n"
   ]
  },
  {
   "cell_type": "code",
   "execution_count": 0,
   "metadata": {
    "application/vnd.databricks.v1+cell": {
     "cellMetadata": {
      "byteLimit": 2048000,
      "rowLimit": 10000
     },
     "inputWidgets": {},
     "nuid": "76e1d081-6d0a-4af9-bcc8-9a62459daa8a",
     "showTitle": false,
     "tableResultSettingsMap": {},
     "title": ""
    }
   },
   "outputs": [],
   "source": []
  }
 ],
 "metadata": {
  "application/vnd.databricks.v1+notebook": {
   "computePreferences": null,
   "dashboards": [],
   "environmentMetadata": {
    "base_environment": "dbe_661d4af1-98fa-4a5d-a539-98ca8f2436c5",
    "environment_version": "2"
   },
   "inputWidgetPreferences": null,
   "language": "python",
   "notebookMetadata": {
    "pythonIndentUnit": 2
   },
   "notebookName": "02_bronz_to_sliver",
   "widgets": {}
  },
  "language_info": {
   "name": "python"
  }
 },
 "nbformat": 4,
 "nbformat_minor": 0
}
