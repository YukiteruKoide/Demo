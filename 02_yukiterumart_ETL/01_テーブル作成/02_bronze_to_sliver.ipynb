{
 "cells": [
  {
   "cell_type": "markdown",
   "metadata": {
    "application/vnd.databricks.v1+cell": {
     "cellMetadata": {},
     "inputWidgets": {},
     "nuid": "7dad4b3b-61da-4005-ba75-b52532c62e63",
     "showTitle": false,
     "tableResultSettingsMap": {},
     "title": ""
    },
    "vscode": {
     "languageId": "raw"
    }
   },
   "source": [
    "# Silver層テーブル作成（Bronze to Silver）\n",
    "\n",
    "このノートブックでは、Bronze層のテーブルを結合・クリーニングしてSilver層の統合テーブルを作成します。\n",
    "\n",
    "## 目的\n",
    "- **データ品質向上**: NULL値の除外とデータ検証\n",
    "- **データ統合**: 複数のマスタテーブルとの結合\n",
    "- **スキーマ標準化**: データ型の統一と最適化\n",
    "\n",
    "## 処理内容\n",
    "1. Bronze層の各テーブル読み込み\n",
    "2. データ品質チェックとフィルタリング\n",
    "3. 必要なテーブル間でのJOIN処理\n",
    "4. エンリッチされたSilver層テーブルの作成\n",
    "\n",
    "## Silver層の特徴\n",
    "- クリーンでビジネスルールが適用されたデータ\n",
    "- 分析可能な形でのデータ統合\n",
    "- Gold層の基盤となる高品質データ\n"
   ]
  },
  {
   "cell_type": "markdown",
   "metadata": {
    "application/vnd.databricks.v1+cell": {
     "cellMetadata": {},
     "inputWidgets": {},
     "nuid": "230a8cf9-7b10-45be-9603-522e0c921007",
     "showTitle": false,
     "tableResultSettingsMap": {},
     "title": ""
    },
    "vscode": {
     "languageId": "raw"
    }
   },
   "source": [
    "## 環境設定\n",
    "\n",
    "カタログとスキーマを設定して、Bronze層のテーブルにアクセスできるようにします。\n"
   ]
  },
  {
   "cell_type": "code",
   "execution_count": 0,
   "metadata": {
    "application/vnd.databricks.v1+cell": {
     "cellMetadata": {
      "byteLimit": 2048000,
      "rowLimit": 10000
     },
     "inputWidgets": {},
     "nuid": "454b1762-54d9-429c-ba51-cd0f7c250210",
     "showTitle": false,
     "tableResultSettingsMap": {},
     "title": ""
    }
   },
   "outputs": [],
   "source": [
    "# 環境変数の定義（前ステップと統一）\n",
    "catalog_name = \"users\"              # Unity Catalogのカタログ名\n",
    "schema = \"yukiteru_koide\"           # スキーマ名\n",
    "\n",
    "# カタログとスキーマの切り替え\n",
    "spark.sql(f\"USE CATALOG {catalog_name}\")  # カタログを指定\n",
    "spark.sql(f\"USE SCHEMA {schema}\")          # スキーマを指定\n",
    "\n",
    "print(f\"環境設定完了: {catalog_name}.{schema}\")"
   ]
  },
  {
   "cell_type": "markdown",
   "metadata": {
    "application/vnd.databricks.v1+cell": {
     "cellMetadata": {},
     "inputWidgets": {},
     "nuid": "431c9fd2-2cb4-45b1-bde1-fa5390e509fc",
     "showTitle": false,
     "tableResultSettingsMap": {},
     "title": ""
    },
    "vscode": {
     "languageId": "raw"
    }
   },
   "source": [
    "## データ統合とエンリッチメント処理\n",
    "\n",
    "Bronze層のテーブルを読み込み、JOIN処理とデータクリーニングを実行してSilver層テーブルを作成します。\n",
    "\n",
    "### 処理ステップ\n",
    "1. Bronze層テーブルの読み込み\n",
    "2. データ品質チェック（数量 > 0）\n",
    "3. 日付形式の標準化\n",
    "4. LEFT JOINによるマスタ情報の付与\n"
   ]
  },
  {
   "cell_type": "code",
   "execution_count": 0,
   "metadata": {
    "application/vnd.databricks.v1+cell": {
     "cellMetadata": {
      "byteLimit": 2048000,
      "rowLimit": 10000
     },
     "inputWidgets": {},
     "nuid": "49c7855e-92ac-4ee2-9c64-d66035ba327e",
     "showTitle": false,
     "tableResultSettingsMap": {},
     "title": ""
    }
   },
   "outputs": [],
   "source": [
    "# Step 1: Bronze層テーブルの読み込み\n",
    "print(\"📋 Bronze層テーブルを読み込み中...\")\n",
    "df_transactions = spark.table(f\"{catalog_name}.{schema}.transactions\")   # 取引履歴\n",
    "df_customers = spark.table(f\"{catalog_name}.{schema}.customers\")         # 顧客マスタ\n",
    "df_products = spark.table(f\"{catalog_name}.{schema}.products\")           # 商品マスタ\n",
    "df_stores = spark.table(f\"{catalog_name}.{schema}.stores\")               # 店舗マスタ\n",
    "\n",
    "print(f\"✅ 読み込み完了:\")\n",
    "print(f\"  - 取引履歴: {df_transactions.count()} レコード\")\n",
    "print(f\"  - 顧客: {df_customers.count()} レコード\")\n",
    "print(f\"  - 商品: {df_products.count()} レコード\")\n",
    "print(f\"  - 店舗: {df_stores.count()} レコード\")\n",
    "\n",
    "# Step 2: データ統合とクリーニング\n",
    "print(\"\\n🔄 データ統合処理を実行中...\")\n",
    "from pyspark.sql.functions import to_date, col\n",
    "\n",
    "df_silver = (\n",
    "    df_transactions\n",
    "    .withColumn(\"transaction_date\", to_date(col(\"transaction_date\")))  # 日付型に変換\n",
    "    .filter(col(\"quantity\") > 0)                                       # 数量が0より大きいもののみ\n",
    "    .join(df_customers, \"customer_id\", \"left\")                         # 顧客情報を結合\n",
    "    .join(df_products, \"product_id\", \"left\")                           # 商品情報を結合\n",
    "    .join(df_stores, \"store_id\", \"left\")                               # 店舗情報を結合\n",
    ")\n",
    "\n",
    "print(f\"🔍 フィルタリング後のレコード数: {df_silver.count()}\")\n",
    "\n",
    "# Step 3: Silver層テーブルとして保存\n",
    "print(\"\\n💾 Silver層テーブル保存中...\")\n",
    "df_silver.write.format(\"delta\").mode(\"overwrite\").saveAsTable(\"transactions_enriched\")\n",
    "\n",
    "print(\"✅ transactions_enriched テーブル作成完了！\")\n",
    "print(f\"📊 最終レコード数: {df_silver.count()}\")\n",
    "print(f\"📋 カラム数: {len(df_silver.columns)}\")\n",
    "\n",
    "# データサンプルの表示\n",
    "print(\"\\n📋 作成されたテーブルのサンプル:\")\n",
    "df_silver.select(\"transaction_id\", \"customer_id\", \"product_name\", \"store_name\", \"total_price\").show(5)\n"
   ]
  }
 ],
 "metadata": {
  "application/vnd.databricks.v1+notebook": {
   "computePreferences": null,
   "dashboards": [],
   "environmentMetadata": {
    "base_environment": "dbe_661d4af1-98fa-4a5d-a539-98ca8f2436c5",
    "environment_version": "2"
   },
   "inputWidgetPreferences": null,
   "language": "python",
   "notebookMetadata": {
    "pythonIndentUnit": 2
   },
   "notebookName": "02_bronze_to_sliver",
   "widgets": {}
  },
  "language_info": {
   "name": "python"
  }
 },
 "nbformat": 4,
 "nbformat_minor": 0
}
