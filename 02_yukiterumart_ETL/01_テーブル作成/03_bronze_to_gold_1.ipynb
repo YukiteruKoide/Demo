{
 "cells": [
  {
   "cell_type": "code",
   "execution_count": 0,
   "metadata": {
    "application/vnd.databricks.v1+cell": {
     "cellMetadata": {
      "byteLimit": 2048000,
      "rowLimit": 10000
     },
     "inputWidgets": {},
     "nuid": "5ba18f91-2b2c-4b53-bcdf-4a407e187446",
     "showTitle": false,
     "tableResultSettingsMap": {},
     "title": ""
    }
   },
   "outputs": [],
   "source": [
    "# Gold スキーマ設定\n",
    "catalog_name = \"users\"\n",
    "schema = \"yukiteru_koide\"\n",
    "\n",
    "# スキーマ切り替え\n",
    "spark.sql(f\"USE CATALOG {catalog_name}\")\n",
    "spark.sql(f\"USE SCHEMA {schema}\")"
   ]
  },
  {
   "cell_type": "code",
   "execution_count": 0,
   "metadata": {
    "application/vnd.databricks.v1+cell": {
     "cellMetadata": {
      "byteLimit": 2048000,
      "rowLimit": 10000
     },
     "inputWidgets": {},
     "nuid": "50ae2a58-42a1-4baa-9ed0-76d960212e8d",
     "showTitle": false,
     "tableResultSettingsMap": {},
     "title": ""
    }
   },
   "outputs": [],
   "source": [
    "# Silver テーブル読み込み\n",
    "df = spark.table(f\"{catalog_name}.{schema}.transactions_enriched\")\n",
    "\n",
    "from pyspark.sql.functions import year, month, sum as _sum, avg\n",
    "\n",
    "monthly_sales = (\n",
    "    df\n",
    "    .withColumn(\"year\", year(\"transaction_date\"))\n",
    "    .withColumn(\"month\", month(\"transaction_date\"))\n",
    "    .groupBy(\"year\", \"month\", \"store_id\", \"store_name\", \"category\")\n",
    "    .agg(\n",
    "        _sum(\"total_price\").alias(\"monthly_sales\"),\n",
    "        _sum(\"quantity\").alias(\"monthly_quantity\"),\n",
    "        avg(\"price\").alias(\"avg_unit_price\")\n",
    "    )\n",
    ")\n",
    "\n",
    "monthly_sales.write.format(\"delta\").mode(\"overwrite\").saveAsTable(\"monthly_sales_by_store_and_category\")\n"
   ]
  },
  {
   "cell_type": "code",
   "execution_count": 0,
   "metadata": {
    "application/vnd.databricks.v1+cell": {
     "cellMetadata": {},
     "inputWidgets": {},
     "nuid": "e303dfb0-8837-4153-874f-2fd55283440b",
     "showTitle": false,
     "tableResultSettingsMap": {},
     "title": ""
    }
   },
   "outputs": [],
   "source": []
  }
 ],
 "metadata": {
  "application/vnd.databricks.v1+notebook": {
   "computePreferences": null,
   "dashboards": [],
   "environmentMetadata": {
    "base_environment": "dbe_661d4af1-98fa-4a5d-a539-98ca8f2436c5",
    "environment_version": "2"
   },
   "inputWidgetPreferences": null,
   "language": "python",
   "notebookMetadata": {
    "pythonIndentUnit": 2
   },
   "notebookName": "03_bronze_to_gold_1",
   "widgets": {}
  },
  "language_info": {
   "name": "python"
  }
 },
 "nbformat": 4,
 "nbformat_minor": 0
}
