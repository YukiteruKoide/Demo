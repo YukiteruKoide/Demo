{
 "cells": [
  {
   "cell_type": "code",
   "execution_count": 0,
   "metadata": {
    "application/vnd.databricks.v1+cell": {
     "cellMetadata": {
      "byteLimit": 2048000,
      "rowLimit": 10000
     },
     "inputWidgets": {},
     "nuid": "fc9c720a-cf9b-4373-b1d3-20a673252b25",
     "showTitle": false,
     "tableResultSettingsMap": {},
     "title": ""
    }
   },
   "outputs": [],
   "source": [
    "# Gold スキーマ設定\n",
    "catalog_name = \"users\"\n",
    "schema = \"yukiteru_koide\"\n",
    "\n",
    "# スキーマ切り替え\n",
    "spark.sql(f\"USE CATALOG {catalog_name}\")\n",
    "spark.sql(f\"USE SCHEMA {schema}\")\n"
   ]
  },
  {
   "cell_type": "code",
   "execution_count": 0,
   "metadata": {
    "application/vnd.databricks.v1+cell": {
     "cellMetadata": {
      "byteLimit": 2048000,
      "rowLimit": 10000
     },
     "inputWidgets": {},
     "nuid": "3a1c3cc3-f6be-4a0b-b483-96301e261f73",
     "showTitle": false,
     "tableResultSettingsMap": {},
     "title": ""
    }
   },
   "outputs": [],
   "source": [
    "# Silver テーブル読み込み\n",
    "df = spark.table(f\"{catalog_name}.{schema}.transactions_enriched\")\n",
    "\n",
    "from pyspark.sql.functions import avg, count, when, col\n",
    "\n",
    "# 年齢層を追加\n",
    "df = df.withColumn(\"age_group\", when(col(\"age\") < 30, \"Under 30\")\n",
    "                               .when(col(\"age\") < 50, \"30-49\")\n",
    "                               .otherwise(\"50+\"))\n",
    "\n",
    "segment_sales = (\n",
    "    df\n",
    "    .groupBy(\"age_group\", \"gender\", \"membership\")\n",
    "    .agg(\n",
    "        avg(\"total_price\").alias(\"avg_spend\"),\n",
    "        count(\"transaction_id\").alias(\"num_transactions\")\n",
    "    )\n",
    ")\n",
    "\n",
    "segment_sales.write.format(\"delta\").mode(\"overwrite\").saveAsTable(\"customer_segment_spending\")\n"
   ]
  },
  {
   "cell_type": "code",
   "execution_count": 0,
   "metadata": {
    "application/vnd.databricks.v1+cell": {
     "cellMetadata": {},
     "inputWidgets": {},
     "nuid": "0198e210-d084-44d2-947a-879688447a53",
     "showTitle": false,
     "tableResultSettingsMap": {},
     "title": ""
    }
   },
   "outputs": [],
   "source": []
  }
 ],
 "metadata": {
  "application/vnd.databricks.v1+notebook": {
   "computePreferences": null,
   "dashboards": [],
   "environmentMetadata": {
    "base_environment": "dbe_661d4af1-98fa-4a5d-a539-98ca8f2436c5",
    "environment_version": "2"
   },
   "inputWidgetPreferences": null,
   "language": "python",
   "notebookMetadata": {
    "pythonIndentUnit": 2
   },
   "notebookName": "03_bronze_to_gold_2",
   "widgets": {}
  },
  "language_info": {
   "name": "python"
  }
 },
 "nbformat": 4,
 "nbformat_minor": 0
}
