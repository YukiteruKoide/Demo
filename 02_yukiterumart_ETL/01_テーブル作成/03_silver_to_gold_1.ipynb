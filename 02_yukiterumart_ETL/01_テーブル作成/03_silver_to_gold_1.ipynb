{
 "cells": [
  {
   "cell_type": "markdown",
   "metadata": {
    "application/vnd.databricks.v1+cell": {
     "cellMetadata": {},
     "inputWidgets": {},
     "nuid": "c5e9249c-da8e-45fb-a216-35d10e4729fa",
     "showTitle": false,
     "tableResultSettingsMap": {},
     "title": ""
    },
    "vscode": {
     "languageId": "raw"
    }
   },
   "source": [
    "# Gold層テーブル作成①: 月別売上分析テーブル\n",
    "\n",
    "このノートブックでは、Silver層から月別・店舗別・カテゴリ別の売上分析用のGold層テーブルを作成します。\n",
    "\n",
    "## 目的\n",
    "- **ビジネス分析用データの提供**: 集約されたKPIデータ\n",
    "- **パフォーマンス最適化**: 事前集計による高速クエリ\n",
    "- **トレンド分析**: 時系列での売上動向把握\n",
    "\n",
    "## 作成テーブル\n",
    "- **monthly_sales_by_store_and_category**: 月別店舗カテゴリ売上サマリー\n",
    "\n",
    "## 集計項目\n",
    "- **monthly_sales**: 月間売上合計\n",
    "- **monthly_quantity**: 月間販売数量\n",
    "- **avg_unit_price**: 平均単価\n",
    "\n",
    "## Gold層の特徴\n",
    "- ビジネス用途に特化した集約データ\n",
    "- 高速なダッシュボード表示を実現\n",
    "- KPIやメトリクス算出の基盤\n"
   ]
  },
  {
   "cell_type": "markdown",
   "metadata": {
    "application/vnd.databricks.v1+cell": {
     "cellMetadata": {},
     "inputWidgets": {},
     "nuid": "06cd8d53-8f32-4840-96aa-482ad875b045",
     "showTitle": false,
     "tableResultSettingsMap": {},
     "title": ""
    },
    "vscode": {
     "languageId": "raw"
    }
   },
   "source": [
    "## 環境設定\n"
   ]
  },
  {
   "cell_type": "code",
   "execution_count": 0,
   "metadata": {
    "application/vnd.databricks.v1+cell": {
     "cellMetadata": {
      "byteLimit": 2048000,
      "rowLimit": 10000
     },
     "inputWidgets": {},
     "nuid": "5ba18f91-2b2c-4b53-bcdf-4a407e187446",
     "showTitle": false,
     "tableResultSettingsMap": {},
     "title": ""
    }
   },
   "outputs": [],
   "source": [
    "# Gold層用の環境設定\n",
    "catalog_name = \"users\"              # Unity Catalogのカタログ名\n",
    "schema = \"yukiteru_koide\"           # スキーマ名\n",
    "\n",
    "# カタログとスキーマの切り替え\n",
    "spark.sql(f\"USE CATALOG {catalog_name}\")\n",
    "spark.sql(f\"USE SCHEMA {schema}\")\n",
    "\n",
    "print(f\"Gold層処理開始: {catalog_name}.{schema}\")"
   ]
  },
  {
   "cell_type": "markdown",
   "metadata": {
    "application/vnd.databricks.v1+cell": {
     "cellMetadata": {},
     "inputWidgets": {},
     "nuid": "95186c1b-e26e-40ff-9bed-8179f1aa9ba4",
     "showTitle": false,
     "tableResultSettingsMap": {},
     "title": ""
    },
    "vscode": {
     "languageId": "raw"
    }
   },
   "source": [
    "## 月別売上分析テーブルの作成\n",
    "\n",
    "Silver層のエンリッチされたデータから、月別・店舗別・カテゴリ別の売上統計を集計します。\n",
    "\n",
    "### 集計軸\n",
    "- **時間軸**: 年、月\n",
    "- **場所軸**: 店舗ID、店舗名\n",
    "- **商品軸**: カテゴリ\n"
   ]
  },
  {
   "cell_type": "code",
   "execution_count": 0,
   "metadata": {
    "application/vnd.databricks.v1+cell": {
     "cellMetadata": {
      "byteLimit": 2048000,
      "rowLimit": 10000
     },
     "inputWidgets": {},
     "nuid": "50ae2a58-42a1-4baa-9ed0-76d960212e8d",
     "showTitle": false,
     "tableResultSettingsMap": {},
     "title": ""
    }
   },
   "outputs": [],
   "source": [
    "# Step 1: Silver層テーブルの読み込み\n",
    "print(\"📊 Silver層テーブルを読み込み中...\")\n",
    "df = spark.table(f\"{catalog_name}.{schema}.transactions_enriched\")\n",
    "print(f\"✅ transactions_enriched テーブル読み込み完了: {df.count()} レコード\")\n",
    "\n",
    "# Step 2: 月別売上集計の実行\n",
    "print(\"\\n📈 月別売上集計を実行中...\")\n",
    "from pyspark.sql.functions import year, month, sum as _sum, avg\n",
    "\n",
    "monthly_sales = (\n",
    "    df\n",
    "    .withColumn(\"year\", year(\"transaction_date\"))           # 年を抽出\n",
    "    .withColumn(\"month\", month(\"transaction_date\"))         # 月を抽出\n",
    "    .groupBy(\"year\", \"month\", \"store_id\", \"store_name\", \"category\")  # 集計軸でグループ化\n",
    "    .agg(\n",
    "        _sum(\"total_price\").alias(\"monthly_sales\"),          # 月間売上合計\n",
    "        _sum(\"quantity\").alias(\"monthly_quantity\"),          # 月間販売数量\n",
    "        avg(\"price\").alias(\"avg_unit_price\")                 # 平均単価\n",
    "    )\n",
    ")\n",
    "\n",
    "print(f\"🔍 集計結果: {monthly_sales.count()} レコード\")\n",
    "\n",
    "# Step 3: Gold層テーブルとして保存\n",
    "print(\"\\n💾 Gold層テーブル保存中...\")\n",
    "monthly_sales.write.format(\"delta\").mode(\"overwrite\").saveAsTable(\"monthly_sales_by_store_and_category\")\n",
    "\n",
    "print(\"✅ monthly_sales_by_store_and_category テーブル作成完了！\")\n",
    "\n",
    "# 結果のサンプル表示\n",
    "print(\"\\n📋 作成されたテーブルのサンプル:\")\n",
    "monthly_sales.orderBy(\"year\", \"month\", \"store_id\").show(10)\n",
    "\n",
    "print(f\"\\n📊 Gold層テーブル統計:\")\n",
    "print(f\"  - 総レコード数: {monthly_sales.count()}\")\n",
    "print(f\"  - ユニーク店舗数: {monthly_sales.select('store_id').distinct().count()}\")\n",
    "print(f\"  - ユニークカテゴリ数: {monthly_sales.select('category').distinct().count()}\")\n"
   ]
  }
 ],
 "metadata": {
  "application/vnd.databricks.v1+notebook": {
   "computePreferences": null,
   "dashboards": [],
   "environmentMetadata": {
    "base_environment": "dbe_661d4af1-98fa-4a5d-a539-98ca8f2436c5",
    "environment_version": "2"
   },
   "inputWidgetPreferences": null,
   "language": "python",
   "notebookMetadata": {
    "pythonIndentUnit": 2
   },
   "notebookName": "03_silver_to_gold_1",
   "widgets": {}
  },
  "language_info": {
   "name": "python"
  }
 },
 "nbformat": 4,
 "nbformat_minor": 0
}
