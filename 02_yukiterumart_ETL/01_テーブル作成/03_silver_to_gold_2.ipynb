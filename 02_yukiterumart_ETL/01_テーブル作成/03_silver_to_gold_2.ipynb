{
 "cells": [
  {
   "cell_type": "markdown",
   "metadata": {
    "application/vnd.databricks.v1+cell": {
     "cellMetadata": {
      "byteLimit": 2048000,
      "rowLimit": 10000
     },
     "inputWidgets": {},
     "nuid": "44ebe086-16fa-434e-8286-7a1f80364529",
     "showTitle": false,
     "tableResultSettingsMap": {},
     "title": ""
    },
    "vscode": {
     "languageId": "raw"
    }
   },
   "source": [
    "# Gold層テーブル作成②: 顧客セグメント分析テーブル\n",
    "\n",
    "このノートブックでは、Silver層から顧客セグメント別の購買行動分析用のGold層テーブルを作成します。\n",
    "\n",
    "## 目的\n",
    "- **顧客セグメンテーション**: 年齢層・性別・会員種別による分析\n",
    "- **購買行動分析**: セグメント別の支出パターン把握\n",
    "- **マーケティング戦略**: セグメント特性に基づく施策立案\n",
    "\n",
    "## 作成テーブル\n",
    "- **customer_segment_spending**: 顧客セグメント別支出分析\n",
    "\n",
    "## セグメント分類\n",
    "- **年齢層**: Under 30, 30-49, 50+\n",
    "- **性別**: Male, Female\n",
    "- **会員種別**: Premium, Regular, Basic\n",
    "\n",
    "## 分析指標\n",
    "- **avg_spend**: セグメント別平均支出額\n",
    "- **num_transactions**: セグメント別取引回数\n"
   ]
  },
  {
   "cell_type": "code",
   "execution_count": 0,
   "metadata": {
    "application/vnd.databricks.v1+cell": {
     "cellMetadata": {
      "byteLimit": 2048000,
      "rowLimit": 10000
     },
     "inputWidgets": {},
     "nuid": "fc9c720a-cf9b-4373-b1d3-20a673252b25",
     "showTitle": false,
     "tableResultSettingsMap": {},
     "title": ""
    }
   },
   "outputs": [],
   "source": [
    "# Gold スキーマ設定\n",
    "catalog_name = \"users\"\n",
    "schema = \"yukiteru_koide\"\n",
    "\n",
    "# スキーマ切り替え\n",
    "spark.sql(f\"USE CATALOG {catalog_name}\")\n",
    "spark.sql(f\"USE SCHEMA {schema}\")\n"
   ]
  },
  {
   "cell_type": "code",
   "execution_count": 0,
   "metadata": {
    "application/vnd.databricks.v1+cell": {
     "cellMetadata": {
      "byteLimit": 2048000,
      "rowLimit": 10000
     },
     "inputWidgets": {},
     "nuid": "3a1c3cc3-f6be-4a0b-b483-96301e261f73",
     "showTitle": false,
     "tableResultSettingsMap": {},
     "title": ""
    }
   },
   "outputs": [],
   "source": [
    "# Silver テーブル読み込み\n",
    "df = spark.table(f\"{catalog_name}.{schema}.transactions_enriched\")\n",
    "\n",
    "from pyspark.sql.functions import avg, count, when, col\n",
    "\n",
    "# 年齢層を追加\n",
    "df = df.withColumn(\"age_group\", when(col(\"age\") < 30, \"Under 30\")\n",
    "                               .when(col(\"age\") < 50, \"30-49\")\n",
    "                               .otherwise(\"50+\"))\n",
    "\n",
    "segment_sales = (\n",
    "    df\n",
    "    .groupBy(\"age_group\", \"gender\", \"membership\")\n",
    "    .agg(\n",
    "        avg(\"total_price\").alias(\"avg_spend\"),\n",
    "        count(\"transaction_id\").alias(\"num_transactions\")\n",
    "    )\n",
    ")\n",
    "\n",
    "segment_sales.write.format(\"delta\").mode(\"overwrite\").saveAsTable(\"customer_segment_spending\")\n"
   ]
  }
 ],
 "metadata": {
  "application/vnd.databricks.v1+notebook": {
   "computePreferences": {
    "hardware": {
     "accelerator": null,
     "gpuPoolId": null,
     "memory": null
    }
   },
   "dashboards": [],
   "environmentMetadata": {
    "base_environment": "dbe_661d4af1-98fa-4a5d-a539-98ca8f2436c5",
    "environment_version": "2"
   },
   "inputWidgetPreferences": null,
   "language": "python",
   "notebookMetadata": {
    "pythonIndentUnit": 2
   },
   "notebookName": "03_silver_to_gold_2",
   "widgets": {}
  },
  "language_info": {
   "name": "python"
  }
 },
 "nbformat": 4,
 "nbformat_minor": 0
}
