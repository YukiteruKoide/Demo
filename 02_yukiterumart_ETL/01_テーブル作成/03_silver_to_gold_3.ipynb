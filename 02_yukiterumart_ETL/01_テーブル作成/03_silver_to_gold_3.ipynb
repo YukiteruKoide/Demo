{
 "cells": [
  {
   "cell_type": "markdown",
   "metadata": {
    "application/vnd.databricks.v1+cell": {
     "cellMetadata": {
      "byteLimit": 2048000,
      "rowLimit": 10000
     },
     "inputWidgets": {},
     "nuid": "b12e715e-e70d-4bfd-924d-a94b39da5d73",
     "showTitle": false,
     "tableResultSettingsMap": {},
     "title": ""
    },
    "vscode": {
     "languageId": "raw"
    }
   },
   "source": [
    "# Gold層テーブル作成③: 商品売上・レビュー統合テーブル\n",
    "\n",
    "このノートブックでは、商品の売上実績とレビューデータを統合した分析用のGold層テーブルを作成します。\n",
    "\n",
    "## 目的\n",
    "- **商品パフォーマンス分析**: 売上とレビューの相関分析\n",
    "- **商品品質評価**: レビュー評価と売上の関係性把握\n",
    "- **商品戦略立案**: データに基づく商品改善施策\n",
    "\n",
    "## データソース\n",
    "1. **Silver層**: transactions_enriched（売上データ）\n",
    "2. **CSV**: reviews.csv（レビューデータ）\n",
    "\n",
    "## 作成テーブル\n",
    "- **product_performance**: 商品売上・レビュー統合分析\n",
    "\n",
    "## 統合指標\n",
    "- **売上指標**: 総販売数量、総売上額\n",
    "- **レビュー指標**: 平均評価、レビュー件数\n",
    "- **商品情報**: 商品名、カテゴリ\n"
   ]
  },
  {
   "cell_type": "code",
   "execution_count": 0,
   "metadata": {
    "application/vnd.databricks.v1+cell": {
     "cellMetadata": {
      "byteLimit": 2048000,
      "rowLimit": 10000
     },
     "inputWidgets": {},
     "nuid": "a641a4ce-84d0-4e12-9a4b-640627d026cd",
     "showTitle": false,
     "tableResultSettingsMap": {},
     "title": ""
    }
   },
   "outputs": [],
   "source": [
    "# Gold スキーマ設定\n",
    "catalog_name = \"users\"\n",
    "schema = \"yukiteru_koide\"\n",
    "base_path = \"/Volumes/users/yukiteru_koide/yukiterumart_etl\"\n",
    "\n",
    "# スキーマ切り替え\n",
    "spark.sql(f\"USE CATALOG {catalog_name}\")\n",
    "spark.sql(f\"USE SCHEMA {schema}\")\n"
   ]
  },
  {
   "cell_type": "code",
   "execution_count": 0,
   "metadata": {
    "application/vnd.databricks.v1+cell": {
     "cellMetadata": {
      "byteLimit": 2048000,
      "rowLimit": 10000
     },
     "inputWidgets": {},
     "nuid": "f3b6b072-4077-49ab-960e-ad323e6f21f9",
     "showTitle": false,
     "tableResultSettingsMap": {},
     "title": ""
    }
   },
   "outputs": [],
   "source": [
    "# Silver テーブル読み込み\n",
    "df = spark.table(f\"{catalog_name}.{schema}.transactions_enriched\")\n",
    "\n",
    "from pyspark.sql.functions import avg, count, sum as _sum\n",
    "\n",
    "# レビューデータ読み込み（CSV）\n",
    "df_reviews = (\n",
    "    spark.read.format(\"csv\")\n",
    "    .option(\"header\", True)\n",
    "    .option(\"inferSchema\", True)\n",
    "    .load(f\"{base_path}/reviews.csv\")\n",
    ")\n",
    "\n",
    "# 平均スコアと件数を集計\n",
    "review_stats = (\n",
    "    df_reviews\n",
    "    .groupBy(\"product_id\")\n",
    "    .agg(\n",
    "        avg(\"rating\").alias(\"avg_rating\"),\n",
    "        count(\"review_id\").alias(\"num_reviews\")\n",
    "    )\n",
    ")\n",
    "\n",
    "# 商品売上を集計\n",
    "product_sales = (\n",
    "    df\n",
    "    .groupBy(\"product_id\", \"product_name\", \"category\")\n",
    "    .agg(\n",
    "        _sum(\"quantity\").alias(\"total_units_sold\"),\n",
    "        _sum(\"total_price\").alias(\"total_sales\")\n",
    "    )\n",
    ")\n",
    "\n",
    "# 売上とレビューを結合\n",
    "sales_vs_reviews = product_sales.join(review_stats, \"product_id\", \"left\")\n",
    "\n",
    "sales_vs_reviews.write.format(\"delta\").mode(\"overwrite\").saveAsTable(\"sales_vs_reviews\")\n"
   ]
  }
 ],
 "metadata": {
  "application/vnd.databricks.v1+notebook": {
   "computePreferences": {
    "hardware": {
     "accelerator": null,
     "gpuPoolId": null,
     "memory": null
    }
   },
   "dashboards": [],
   "environmentMetadata": {
    "base_environment": "dbe_661d4af1-98fa-4a5d-a539-98ca8f2436c5",
    "environment_version": "2"
   },
   "inputWidgetPreferences": null,
   "language": "python",
   "notebookMetadata": {
    "pythonIndentUnit": 2
   },
   "notebookName": "03_silver_to_gold_3",
   "widgets": {}
  },
  "language_info": {
   "name": "python"
  }
 },
 "nbformat": 4,
 "nbformat_minor": 0
}
