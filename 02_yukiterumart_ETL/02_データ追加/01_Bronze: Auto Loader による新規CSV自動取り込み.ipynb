{
 "cells": [
  {
   "cell_type": "markdown",
   "metadata": {
    "vscode": {
     "languageId": "raw"
    }
   },
   "source": [
    "# Bronze層への新規データ追加（Auto Loader）\n",
    "\n",
    "このノートブックでは、Databricks Auto Loaderを使用して新規CSVファイルを自動的にBronze層に取り込みます。\n",
    "\n",
    "## 目的\n",
    "- **増分データ取り込み**: 新規ファイルの自動検出・処理\n",
    "- **スキーマ管理**: 自動スキーマ推論と進化\n",
    "- **ストリーミング処理**: リアルタイムデータパイプライン\n",
    "\n",
    "## Auto Loaderの特徴\n",
    "- **自動ファイル検出**: 新規ファイルを自動的に発見\n",
    "- **スキーマ推論**: データ型の自動判定\n",
    "- **チェックポイント機能**: 処理状況の永続化\n",
    "\n",
    "## 処理フロー\n",
    "1. Volume内の新規CSVファイル監視\n",
    "2. スキーマ推論とバリデーション\n",
    "3. Bronze層Deltaテーブルへの追加\n"
   ]
  },
  {
   "cell_type": "code",
   "execution_count": 0,
   "metadata": {
    "application/vnd.databricks.v1+cell": {
     "cellMetadata": {
      "byteLimit": 2048000,
      "rowLimit": 10000
     },
     "inputWidgets": {},
     "nuid": "118efc38-9973-4f83-a315-79bb67c9ba38",
     "showTitle": false,
     "tableResultSettingsMap": {},
     "title": ""
    }
   },
   "outputs": [],
   "source": [
    "from pyspark.sql.functions import input_file_name\n",
    "\n",
    "catalog_name = \"users\"\n",
    "schema_name = \"yukiteru_koide\"\n",
    "base_path = \"/Volumes/users/yukiteru_koide/yukiterumart_etl_newdata\"\n",
    "\n",
    "# CatalogとSchemaを選択\n",
    "spark.sql(f\"USE CATALOG {catalog_name}\")\n",
    "spark.sql(f\"USE SCHEMA {schema_name}\")\n"
   ]
  },
  {
   "cell_type": "code",
   "execution_count": 0,
   "metadata": {
    "application/vnd.databricks.v1+cell": {
     "cellMetadata": {
      "byteLimit": 2048000,
      "rowLimit": 10000
     },
     "inputWidgets": {},
     "nuid": "38077ca6-866a-4196-85ad-e3ce69c94d08",
     "showTitle": false,
     "tableResultSettingsMap": {},
     "title": ""
    }
   },
   "outputs": [],
   "source": [
    "from pyspark.sql.functions import col\n",
    "\n",
    "# Auto LoaderでCSVファイルを読み込み\n",
    "bronze_stream = (\n",
    "    spark.readStream.format(\"cloudFiles\")\n",
    "    .option(\"cloudFiles.format\", \"csv\")\n",
    "    .option(\"header\", \"true\")\n",
    "    .option(\"inferSchema\", \"true\")\n",
    "    .option(\"cloudFiles.schemaLocation\", f\"{base_path}/_schema/bronze\")  # schema log保存先を指定\n",
    "    .load(base_path)\n",
    "    .withColumn(\"source_file\", col(\"_metadata.file_path\"))\n",
    ")\n",
    "\n",
    "# BronzeテーブルにDeltaとして書き出し\n",
    "bronze_stream.writeStream.format(\"delta\") \\\n",
    "    .outputMode(\"append\") \\\n",
    "    .option(\"checkpointLocation\", f\"{base_path}/_checkpoints/bronze\") \\\n",
    "    .trigger(once=True) \\\n",
    "    .table(f\"{catalog_name}.{schema_name}.bronze_transactions\")"
   ]
  }
 ],
 "metadata": {
  "application/vnd.databricks.v1+notebook": {
   "computePreferences": null,
   "dashboards": [],
   "environmentMetadata": {
    "base_environment": "dbe_99a40914-8b7b-4c4c-a53f-4c5d988bc238",
    "environment_version": "2"
   },
   "inputWidgetPreferences": null,
   "language": "python",
   "notebookMetadata": {
    "pythonIndentUnit": 2
   },
   "notebookName": "01_Bronze: Auto Loader による新規CSV自動取り込み",
   "widgets": {}
  },
  "language_info": {
   "name": "python"
  }
 },
 "nbformat": 4,
 "nbformat_minor": 0
}
