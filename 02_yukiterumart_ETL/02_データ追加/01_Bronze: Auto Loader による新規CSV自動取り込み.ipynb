{
 "cells": [
  {
   "cell_type": "code",
   "execution_count": 0,
   "metadata": {
    "application/vnd.databricks.v1+cell": {
     "cellMetadata": {
      "byteLimit": 2048000,
      "rowLimit": 10000
     },
     "inputWidgets": {},
     "nuid": "118efc38-9973-4f83-a315-79bb67c9ba38",
     "showTitle": false,
     "tableResultSettingsMap": {},
     "title": ""
    }
   },
   "outputs": [],
   "source": [
    "from pyspark.sql.functions import input_file_name\n",
    "\n",
    "catalog_name = \"users\"\n",
    "schema_name = \"yukiteru_koide\"\n",
    "base_path = \"/Volumes/users/yukiteru_koide/yukiterumart_etl_newdata\"\n",
    "\n",
    "# CatalogとSchemaを選択\n",
    "spark.sql(f\"USE CATALOG {catalog_name}\")\n",
    "spark.sql(f\"USE SCHEMA {schema_name}\")\n"
   ]
  },
  {
   "cell_type": "code",
   "execution_count": 0,
   "metadata": {
    "application/vnd.databricks.v1+cell": {
     "cellMetadata": {
      "byteLimit": 2048000,
      "rowLimit": 10000
     },
     "inputWidgets": {},
     "nuid": "38077ca6-866a-4196-85ad-e3ce69c94d08",
     "showTitle": false,
     "tableResultSettingsMap": {},
     "title": ""
    }
   },
   "outputs": [],
   "source": [
    "from pyspark.sql.functions import col\n",
    "\n",
    "# Auto LoaderでCSVファイルを読み込み\n",
    "bronze_stream = (\n",
    "    spark.readStream.format(\"cloudFiles\")\n",
    "    .option(\"cloudFiles.format\", \"csv\")\n",
    "    .option(\"header\", \"true\")\n",
    "    .option(\"inferSchema\", \"true\")\n",
    "    .option(\"cloudFiles.schemaLocation\", f\"{base_path}/_schema/bronze\")  # schema log保存先を指定\n",
    "    .load(base_path)\n",
    "    .withColumn(\"source_file\", col(\"_metadata.file_path\"))\n",
    ")\n",
    "\n",
    "# BronzeテーブルにDeltaとして書き出し\n",
    "bronze_stream.writeStream.format(\"delta\") \\\n",
    "    .outputMode(\"append\") \\\n",
    "    .option(\"checkpointLocation\", f\"{base_path}/_checkpoints/bronze\") \\\n",
    "    .trigger(once=True) \\\n",
    "    .table(f\"{catalog_name}.{schema_name}.bronze_transactions\")"
   ]
  },
  {
   "cell_type": "code",
   "execution_count": 0,
   "metadata": {
    "application/vnd.databricks.v1+cell": {
     "cellMetadata": {
      "byteLimit": 2048000,
      "rowLimit": 10000
     },
     "inputWidgets": {},
     "nuid": "42125443-9fa8-41ba-92b6-1feb3d513b63",
     "showTitle": false,
     "tableResultSettingsMap": {},
     "title": ""
    }
   },
   "outputs": [],
   "source": []
  }
 ],
 "metadata": {
  "application/vnd.databricks.v1+notebook": {
   "computePreferences": null,
   "dashboards": [],
   "environmentMetadata": {
    "base_environment": "dbe_99a40914-8b7b-4c4c-a53f-4c5d988bc238",
    "environment_version": "2"
   },
   "inputWidgetPreferences": null,
   "language": "python",
   "notebookMetadata": {
    "pythonIndentUnit": 2
   },
   "notebookName": "01_Bronze: Auto Loader による新規CSV自動取り込み",
   "widgets": {}
  },
  "language_info": {
   "name": "python"
  }
 },
 "nbformat": 4,
 "nbformat_minor": 0
}
