{
 "cells": [
  {
   "cell_type": "markdown",
   "metadata": {
    "vscode": {
     "languageId": "raw"
    }
   },
   "source": [
    "# Silver層への新規データ統合（MERGE処理）\n",
    "\n",
    "このノートブックでは、Bronze層の新規データをSilver層に統合します。MERGE INTO文を使用して更新・追加処理を行います。\n",
    "\n",
    "## 目的\n",
    "- **増分データ処理**: 新規データのみを効率的に処理\n",
    "- **データ整合性**: 重複データの適切な処理\n",
    "- **ACID準拠**: トランザクション保証による信頼性\n",
    "\n",
    "## MERGE処理の特徴\n",
    "- **UPSERT操作**: 更新（UPDATE）と挿入（INSERT）の組み合わせ\n",
    "- **条件分岐**: 既存データの有無による処理分岐\n",
    "- **パフォーマンス**: 全件処理より高速\n",
    "\n",
    "## 処理ステップ\n",
    "1. Bronze層の新規データ読み込み\n",
    "2. データ品質チェックとフィルタリング\n",
    "3. Silver層への MERGE INTO 実行\n"
   ]
  },
  {
   "cell_type": "code",
   "execution_count": 0,
   "metadata": {
    "application/vnd.databricks.v1+cell": {
     "cellMetadata": {
      "byteLimit": 2048000,
      "rowLimit": 10000
     },
     "inputWidgets": {},
     "nuid": "00d6648f-6ec6-4ec7-9c47-4b496c92ab03",
     "showTitle": false,
     "tableResultSettingsMap": {},
     "title": ""
    }
   },
   "outputs": [],
   "source": [
    "# 環境変数の定義\n",
    "catalog_name = \"users\"\n",
    "schema_name = \"yukiteru_koide\"\n",
    "silver_table = \"transactions_enriched\"\n",
    "\n",
    "# カタログとスキーマの指定\n",
    "spark.sql(f\"USE CATALOG {catalog_name}\")\n",
    "spark.sql(f\"USE SCHEMA {schema_name}\")"
   ]
  },
  {
   "cell_type": "code",
   "execution_count": 0,
   "metadata": {
    "application/vnd.databricks.v1+cell": {
     "cellMetadata": {
      "byteLimit": 2048000,
      "rowLimit": 10000
     },
     "inputWidgets": {},
     "nuid": "f325fa26-431c-4a7c-adb2-3e1defcdaf83",
     "showTitle": false,
     "tableResultSettingsMap": {},
     "title": ""
    }
   },
   "outputs": [],
   "source": [
    "\n",
    "# CATALOGとSCHEMAを切り替え\n",
    "spark.sql(f\"USE CATALOG {catalog_name}\")\n",
    "spark.sql(f\"USE SCHEMA {schema_name}\")\n",
    "\n",
    "# Bronze読み込み\n",
    "df_bronze = spark.read.table(f\"{catalog_name}.{schema_name}.bronze_transactions\")\n",
    "\n",
    "# 不要なカラムを除外してフィルタリング\n",
    "df_new = (\n",
    "    df_bronze\n",
    "    .filter(\"quantity IS NOT NULL\")\n",
    "    .select(\n",
    "        \"transaction_id\",\n",
    "        \"customer_id\",\n",
    "        \"product_id\",\n",
    "        \"store_id\",\n",
    "        \"quantity\",\n",
    "        \"transaction_date\",\n",
    "        \"total_price\"\n",
    "    )\n",
    ")\n",
    "\n",
    "# 一時ビューとして登録\n",
    "df_new.createOrReplaceTempView(\"updates\")\n",
    "\n",
    "# MERGE INTO：更新または追加\n",
    "spark.sql(f\"\"\"\n",
    "MERGE INTO {catalog_name}.{schema_name}.{silver_table} AS target\n",
    "USING updates AS source\n",
    "ON target.transaction_id = source.transaction_id\n",
    "WHEN MATCHED THEN UPDATE SET\n",
    "  target.customer_id = source.customer_id,\n",
    "  target.product_id = source.product_id,\n",
    "  target.store_id = source.store_id,\n",
    "  target.quantity = source.quantity,\n",
    "  target.transaction_date = source.transaction_date,\n",
    "  target.total_price = source.total_price\n",
    "WHEN NOT MATCHED THEN INSERT (\n",
    "  transaction_id, customer_id, product_id, store_id, quantity, transaction_date, total_price\n",
    ") VALUES (\n",
    "  source.transaction_id, source.customer_id, source.product_id, source.store_id, source.quantity, source.transaction_date, source.total_price\n",
    ")\n",
    "\"\"\")\n"
   ]
  }
 ],
 "metadata": {
  "application/vnd.databricks.v1+notebook": {
   "computePreferences": null,
   "dashboards": [],
   "environmentMetadata": {
    "base_environment": "dbe_99a40914-8b7b-4c4c-a53f-4c5d988bc238",
    "environment_version": "2"
   },
   "inputWidgetPreferences": null,
   "language": "python",
   "notebookMetadata": {
    "pythonIndentUnit": 2
   },
   "notebookName": "02_Silver: 新着トランザクションを変換・結合",
   "widgets": {}
  },
  "language_info": {
   "name": "python"
  }
 },
 "nbformat": 4,
 "nbformat_minor": 0
}
