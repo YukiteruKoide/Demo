{
 "cells": [
  {
   "cell_type": "code",
   "execution_count": 0,
   "metadata": {
    "application/vnd.databricks.v1+cell": {
     "cellMetadata": {
      "byteLimit": 2048000,
      "rowLimit": 10000
     },
     "inputWidgets": {},
     "nuid": "026dfc7e-87d4-48f8-a9ae-36d8b1349d54",
     "showTitle": false,
     "tableResultSettingsMap": {},
     "title": ""
    }
   },
   "outputs": [],
   "source": [
    "# 環境変数の定義\n",
    "catalog_name = \"users\"\n",
    "schema_name = \"yukiteru_koide\"\n",
    "silver_table = \"transactions_enriched\"\n",
    "gold_table = \"daily_sales_summary\"\n",
    "\n",
    "# CATALOGとSCHEMAを切り替え\n",
    "spark.sql(f\"USE CATALOG {catalog_name}\")\n",
    "spark.sql(f\"USE SCHEMA {schema_name}\")\n"
   ]
  },
  {
   "cell_type": "code",
   "execution_count": 0,
   "metadata": {
    "application/vnd.databricks.v1+cell": {
     "cellMetadata": {
      "byteLimit": 2048000,
      "rowLimit": 10000
     },
     "inputWidgets": {},
     "nuid": "a6c11071-ee9f-44f5-9377-7e4dc1b64065",
     "showTitle": false,
     "tableResultSettingsMap": {},
     "title": ""
    }
   },
   "outputs": [],
   "source": [
    "# Silverテーブルを読み込み\n",
    "df_silver = spark.read.table(f\"{catalog_name}.{schema_name}.{silver_table}\")\n",
    "\n",
    "# 日別・店舗別に売上（total_price）を集計\n",
    "from pyspark.sql.functions import sum as _sum\n",
    "\n",
    "df_summary = (\n",
    "    df_silver\n",
    "    .groupBy(\"transaction_date\", \"store_id\")\n",
    "    .agg(_sum(\"total_price\").alias(\"daily_sales\"))\n",
    ")\n",
    "\n",
    "# 最初に1回だけテーブルを作成（すでに存在していればこの部分は不要）\n",
    "df_summary.write.format(\"delta\").mode(\"overwrite\").saveAsTable(f\"{catalog_name}.{schema_name}.{gold_table}\")\n",
    "\n",
    "# 今後の更新処理：一時ビューに登録\n",
    "df_summary.createOrReplaceTempView(\"summary_updates\")\n",
    "\n",
    "# MERGE INTO による更新・追加処理\n",
    "spark.sql(f\"\"\"\n",
    "MERGE INTO {catalog_name}.{schema_name}.{gold_table} AS target\n",
    "USING summary_updates AS source\n",
    "ON target.transaction_date = source.transaction_date\n",
    "  AND target.store_id = source.store_id\n",
    "WHEN MATCHED THEN UPDATE SET\n",
    "  target.daily_sales = source.daily_sales\n",
    "WHEN NOT MATCHED THEN INSERT (\n",
    "  transaction_date, store_id, daily_sales\n",
    ") VALUES (\n",
    "  source.transaction_date, source.store_id, source.daily_sales\n",
    ")\n",
    "\"\"\")\n"
   ]
  },
  {
   "cell_type": "code",
   "execution_count": 0,
   "metadata": {
    "application/vnd.databricks.v1+cell": {
     "cellMetadata": {},
     "inputWidgets": {},
     "nuid": "494b54e9-efde-414b-8a07-6b55bc3310ed",
     "showTitle": false,
     "tableResultSettingsMap": {},
     "title": ""
    }
   },
   "outputs": [],
   "source": []
  }
 ],
 "metadata": {
  "application/vnd.databricks.v1+notebook": {
   "computePreferences": null,
   "dashboards": [],
   "environmentMetadata": {
    "base_environment": "dbe_99a40914-8b7b-4c4c-a53f-4c5d988bc238",
    "environment_version": "2"
   },
   "inputWidgetPreferences": null,
   "language": "python",
   "notebookMetadata": {
    "pythonIndentUnit": 2
   },
   "notebookName": "03_Gold: Silver全体から再集計",
   "widgets": {}
  },
  "language_info": {
   "name": "python"
  }
 },
 "nbformat": 4,
 "nbformat_minor": 0
}
