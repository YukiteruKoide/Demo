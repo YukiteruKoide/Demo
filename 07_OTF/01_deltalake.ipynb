{
 "cells": [
  {
   "cell_type": "markdown",
   "metadata": {
    "application/vnd.databricks.v1+cell": {
     "cellMetadata": {},
     "inputWidgets": {},
     "nuid": "401aea22-e14a-4757-be39-3e5ac6c0d9fe",
     "showTitle": false,
     "tableResultSettingsMap": {},
     "title": ""
    }
   },
   "source": [
    "# Delta Lake デモンストレーション\n",
    "\n",
    "このノートブックでは、Delta Lakeの主要な機能を実際のコードを通じて学習します。\n",
    "\n",
    "## 学習内容\n",
    "1. **Time Travel**: データの履歴管理と過去の状態への復旧\n",
    "2. **VACUUM**: ストレージ容量の最適化と古いファイルの削除\n",
    "3. **Liquid Clustering**: クエリパフォーマンスの向上\n",
    "\n",
    "## 前提条件\n",
    "- Unity Catalogが有効化されている環境"
   ]
  },
  {
   "cell_type": "markdown",
   "metadata": {
    "application/vnd.databricks.v1+cell": {
     "cellMetadata": {},
     "inputWidgets": {},
     "nuid": "1edab2ab-bd03-4dce-9163-0ae3f76d4809",
     "showTitle": false,
     "tableResultSettingsMap": {},
     "title": ""
    }
   },
   "source": [
    "## 1. Time Travel（タイムトラベル）\n",
    "\n",
    "Delta Lakeの**Time Travel**機能は、テーブルの過去の状態を参照・復旧できる強力な機能です。\n",
    "\n",
    "### 主な用途\n",
    "- **誤操作からの復旧**: 間違ってデータを削除・更新した場合の復元\n",
    "- **データの監査**: 特定時点でのデータ状態の確認\n",
    "- **A/Bテスト**: 異なるバージョンのデータでの比較分析\n",
    "\n",
    "### 仕組み\n",
    "- Delta Lakeは各操作をバージョンとして管理\n",
    "- 過去のデータファイルは自動的に保持される\n",
    "- `VERSION AS OF`や`TIMESTAMP AS OF`で過去の状態にアクセス可能"
   ]
  },
  {
   "cell_type": "code",
   "execution_count": 0,
   "metadata": {
    "application/vnd.databricks.v1+cell": {
     "cellMetadata": {
      "byteLimit": 2048000,
      "rowLimit": 10000
     },
     "inputWidgets": {},
     "nuid": "2ed6247b-6ef4-44b8-81cb-4c7b154121a2",
     "showTitle": false,
     "tableResultSettingsMap": {},
     "title": ""
    }
   },
   "outputs": [],
   "source": [
    "-- Unity Catalogのパーソナル領域を使用\n",
    "-- 各ユーザーは自分のスキーマ名に変更してください\n",
    "USE CATALOG users;\n",
    "USE SCHEMA yukiteru_koide;  -- ← ここを自分のユーザー名に変更\n"
   ]
  },
  {
   "cell_type": "code",
   "execution_count": 0,
   "metadata": {
    "application/vnd.databricks.v1+cell": {
     "cellMetadata": {
      "byteLimit": 2048000,
      "rowLimit": 10000
     },
     "inputWidgets": {},
     "nuid": "90327606-67a6-4f8f-87b8-05639418c76a",
     "showTitle": false,
     "tableResultSettingsMap": {},
     "title": ""
    }
   },
   "outputs": [],
   "source": [
    "### ステップ1: デモ用テーブルの作成と初期データ投入\n",
    "\n",
    "Delta Lakeテーブルを作成し、初期データを投入します。この操作により最初のバージョン（バージョン0）が作成されます。\n"
   ]
  },
  {
   "cell_type": "code",
   "execution_count": null,
   "metadata": {},
   "outputs": [],
   "source": [
    "-- Delta Lakeテーブルを作成（USING DELTAを指定）\n",
    "CREATE OR REPLACE TABLE deltalake (\n",
    "  id       INT,           -- 主キー\n",
    "  amount   DECIMAL(10,2), -- 金額\n",
    "  country  STRING,        -- 国コード\n",
    "  ts       TIMESTAMP      -- タイムスタンプ\n",
    ") USING DELTA;\n",
    "\n",
    "-- 初期データを3件投入（これがバージョン0になる）\n",
    "INSERT INTO deltalake VALUES\n",
    "  (1, 100.00, 'JP', current_timestamp()),\n",
    "  (2, 200.00, 'US', current_timestamp()),\n",
    "  (3, 150.00, 'JP', current_timestamp());\n",
    "\n",
    "-- 投入されたデータを確認\n",
    "SELECT * FROM deltalake ORDER BY id;\n"
   ]
  },
  {
   "cell_type": "code",
   "execution_count": 0,
   "metadata": {
    "application/vnd.databricks.v1+cell": {
     "cellMetadata": {
      "byteLimit": 2048000,
      "rowLimit": 10000
     },
     "inputWidgets": {},
     "nuid": "3021a863-e089-4a2b-8940-10a23135bff6",
     "showTitle": false,
     "tableResultSettingsMap": {},
     "title": ""
    }
   },
   "outputs": [],
   "source": [
    "### ステップ2: 誤操作のシミュレーション\n",
    "\n",
    "**⚠️ 注意**: これは意図的な誤操作です！\n",
    "\n",
    "日本（JP）のデータを間違って全削除してしまう状況を再現します。実際の運用では絶対に避けるべき操作ですが、復旧デモのために実行します。\n",
    "\n"
   ]
  },
  {
   "cell_type": "code",
   "execution_count": null,
   "metadata": {},
   "outputs": [],
   "source": [
    "-- 日本（JP）のデータを誤って削除\n",
    "DELETE FROM deltalake WHERE country = 'JP';\n",
    "\n",
    "-- 削除後の状態を確認（JPのデータが消えていることを確認）\n",
    "SELECT * FROM deltalake ORDER BY id;\n"
   ]
  },
  {
   "cell_type": "code",
   "execution_count": 0,
   "metadata": {
    "application/vnd.databricks.v1+cell": {
     "cellMetadata": {
      "byteLimit": 2048000,
      "rowLimit": 10000
     },
     "inputWidgets": {},
     "nuid": "1b2e4434-8f62-4733-be46-8593980ba420",
     "showTitle": false,
     "tableResultSettingsMap": {},
     "title": ""
    }
   },
   "outputs": [],
   "source": [
    "### ステップ3: テーブル履歴の確認\n",
    "\n",
    "`DESCRIBE HISTORY`でテーブルの操作履歴を確認します。各バージョンの操作内容、実行時刻、ファイル数などが表示されます。\n",
    "\n",
    "**出力項目の説明:**\n",
    "- **version**: バージョン番号（0から始まる連番）\n",
    "- **timestamp**: 操作実行時刻\n",
    "- **operation**: 実行された操作（CREATE TABLE, INSERT, DELETE等）\n",
    "- **operationParameters**: 操作の詳細パラメータ\n",
    "- **readVersion**: 読み取り時のバージョン\n",
    "- **isBlindAppend**: データ追加のみかどうか\n",
    "\n"
   ]
  },
  {
   "cell_type": "code",
   "execution_count": null,
   "metadata": {},
   "outputs": [],
   "source": [
    "-- テーブルの操作履歴を確認\n",
    "DESCRIBE HISTORY deltalake;\n"
   ]
  },
  {
   "cell_type": "code",
   "execution_count": 0,
   "metadata": {
    "application/vnd.databricks.v1+cell": {
     "cellMetadata": {
      "byteLimit": 2048000,
      "rowLimit": 10000
     },
     "inputWidgets": {},
     "nuid": "5794c81a-1a31-47db-b0fe-67daffde9715",
     "showTitle": false,
     "tableResultSettingsMap": {},
     "title": ""
    }
   },
   "outputs": [],
   "source": [
    "### ステップ4: 過去バージョンのデータ参照\n",
    "\n",
    "`VERSION AS OF`句を使用して特定バージョンのデータを参照します。削除前の状態（通常はバージョン0）を確認してみましょう。\n",
    "\n",
    "**補足**: タイムスタンプでの参照も可能です\n",
    "```sql\n",
    "SELECT * FROM deltalake TIMESTAMP AS OF '2024-01-01 12:00:00' ORDER BY id;\n",
    "```\n",
    "\n",
    "※ 実際のバージョン番号は上記の`DESCRIBE HISTORY`の結果に合わせて調整してください\n",
    "\n"
   ]
  },
  {
   "cell_type": "code",
   "execution_count": null,
   "metadata": {},
   "outputs": [],
   "source": [
    "-- 削除前の状態を参照（バージョン0のデータ）\n",
    "SELECT * FROM deltalake VERSION AS OF 0 ORDER BY id;\n"
   ]
  },
  {
   "cell_type": "code",
   "execution_count": 0,
   "metadata": {
    "application/vnd.databricks.v1+cell": {
     "cellMetadata": {
      "byteLimit": 2048000,
      "rowLimit": 10000
     },
     "inputWidgets": {},
     "nuid": "05a2f6ca-98ab-4f6b-990d-9222e7d89eb0",
     "showTitle": false,
     "tableResultSettingsMap": {},
     "title": ""
    }
   },
   "outputs": [],
   "source": [
    "### ステップ5: テーブルの復旧（RESTORE）\n",
    "\n",
    "`RESTORE TABLE`コマンドで指定バージョンの状態にテーブル全体を復旧します。これにより、誤って削除されたデータを一瞬で復元できます。\n",
    "\n",
    "**RESTOREの特徴:**\n",
    "- テーブル全体が指定バージョンの状態に戻る\n",
    "- 新しいバージョンとして記録される（履歴は残る）\n",
    "- タイムスタンプでの復旧も可能: `RESTORE TABLE deltalake TO TIMESTAMP AS OF '2024-01-01'`\n",
    "\n",
    "※ 上記の`DESCRIBE HISTORY`で確認した削除前のバージョン番号を指定してください\n",
    "\n"
   ]
  },
  {
   "cell_type": "code",
   "execution_count": null,
   "metadata": {},
   "outputs": [],
   "source": [
    "-- テーブルを削除前の状態に復旧\n",
    "RESTORE TABLE deltalake TO VERSION AS OF 0;\n"
   ]
  },
  {
   "cell_type": "code",
   "execution_count": 0,
   "metadata": {
    "application/vnd.databricks.v1+cell": {
     "cellMetadata": {
      "byteLimit": 2048000,
      "rowLimit": 10000
     },
     "inputWidgets": {},
     "nuid": "e9df46fd-7ab9-40c5-9bd4-934e9f0f5f11",
     "showTitle": false,
     "tableResultSettingsMap": {},
     "title": ""
    }
   },
   "outputs": [],
   "source": [
    "### ステップ6: 復旧結果の確認\n",
    "\n",
    "復旧後のデータを確認します。削除されていた日本（JP）のデータが復元されていることを確認しましょう。\n",
    "\n",
    "復旧操作も履歴に記録されているため、必要に応じて`DESCRIBE HISTORY deltalake`で確認できます。"
   ]
  },
  {
   "cell_type": "code",
   "execution_count": null,
   "metadata": {},
   "outputs": [],
   "source": [
    "-- 復旧後のデータを確認\n",
    "SELECT * FROM deltalake ORDER BY id;\n",
    "\n",
    "-- 復旧操作も履歴に記録されているかを確認\n",
    "-- DESCRIBE HISTORY deltalake;\n"
   ]
  },
  {
   "cell_type": "markdown",
   "metadata": {
    "application/vnd.databricks.v1+cell": {
     "cellMetadata": {},
     "inputWidgets": {},
     "nuid": "d61db815-5bcd-4dd7-9084-94435f3cfe55",
     "showTitle": false,
     "tableResultSettingsMap": {},
     "title": ""
    }
   },
   "source": [
    "## 2. VACUUM（ストレージ最適化）\n",
    "\n",
    "Delta Lakeの**VACUUM**機能は、不要になった古いデータファイルを物理削除してストレージ容量を最適化します。\n",
    "\n",
    "### VACUUMの目的\n",
    "- **ストレージコスト削減**: 古いバージョンのファイルを削除して容量を節約\n",
    "- **パフォーマンス向上**: ファイル数の削減によりクエリ性能を改善\n",
    "- **データ管理**: 長期間不要なファイルの自動削除\n",
    "\n",
    "### 重要な注意点\n",
    "- **Time Travel機能への影響**: VACUUMで削除されたバージョンは参照不可能になる\n",
    "- **保持期間の設定**: デフォルトは7日間、業務要件に応じて調整が必要\n",
    "- **DRY RUN**: 実際の削除前に削除対象ファイルを確認することを強く推奨"
   ]
  },
  {
   "cell_type": "code",
   "execution_count": 0,
   "metadata": {
    "application/vnd.databricks.v1+cell": {
     "cellMetadata": {
      "byteLimit": 2048000,
      "rowLimit": 10000
     },
     "inputWidgets": {},
     "nuid": "694f6132-d9b0-4042-b020-fd32321791f3",
     "showTitle": false,
     "tableResultSettingsMap": {},
     "title": ""
    }
   },
   "outputs": [],
   "source": [
    "### ステップ1: VACUUM実行前の履歴確認\n",
    "\n",
    "現在のテーブル履歴を確認します（VACUUM前の状態）。複数のバージョンが存在することを確認しましょう。"
   ]
  },
  {
   "cell_type": "code",
   "execution_count": null,
   "metadata": {},
   "outputs": [],
   "source": [
    "-- 現在のテーブル履歴を確認\n",
    "DESCRIBE HISTORY users.yukiteru_koide.deltalake;\n"
   ]
  },
  {
   "cell_type": "code",
   "execution_count": 0,
   "metadata": {
    "application/vnd.databricks.v1+cell": {
     "cellMetadata": {
      "byteLimit": 2048000,
      "rowLimit": 10000
     },
     "inputWidgets": {},
     "nuid": "b2b37889-266a-49c8-810d-e696f2fb6290",
     "showTitle": false,
     "tableResultSettingsMap": {},
     "title": ""
    }
   },
   "outputs": [],
   "source": [
    "-- ### ステップ2: VACUUM前のTime Travel動作確認\n",
    "\n",
    "-- VACUUM実行前は古いバージョンにアクセス可能であることを確認\n",
    "-- ※ 実際に存在するバージョン番号に調整してください\n",
    "SELECT * FROM users.yukiteru_koide.deltalake VERSION AS OF 1;"
   ]
  },
  {
   "cell_type": "markdown",
   "metadata": {},
   "source": [
    "### ステップ2: VACUUM前のTime Travel動作確認\n",
    "\n",
    "VACUUM実行前は古いバージョンにアクセス可能であることを確認します。\n",
    "\n",
    "※ 実際に存在するバージョン番号に調整してください\n"
   ]
  },
  {
   "cell_type": "code",
   "execution_count": null,
   "metadata": {},
   "outputs": [],
   "source": [
    "-- 古いバージョンにアクセス可能であることを確認\n",
    "SELECT * FROM users.yukiteru_koide.deltalake VERSION AS OF 1;\n"
   ]
  },
  {
   "cell_type": "markdown",
   "metadata": {},
   "source": [
    "### ステップ3: VACUUM DRY RUN（削除対象ファイルの事前確認）\n",
    "\n",
    "`DRY RUN`オプションで削除対象ファイルを確認します。実際にはファイルを削除せず、削除対象のファイルパスのみを表示します。\n",
    "\n",
    "**重要**: 本番環境では必ずDRY RUNで確認してから実行することを推奨します。\n",
    "\n",
    "**DRY RUNの出力:**\n",
    "- 削除対象のParquetファイルのパスが表示される\n",
    "- ファイル数とサイズを事前に把握できる\n"
   ]
  },
  {
   "cell_type": "code",
   "execution_count": 0,
   "metadata": {
    "application/vnd.databricks.v1+cell": {
     "cellMetadata": {
      "byteLimit": 2048000,
      "rowLimit": 10000
     },
     "inputWidgets": {},
     "nuid": "eec0a0b0-6f11-499f-aaca-5ca3494ddb2b",
     "showTitle": false,
     "tableResultSettingsMap": {},
     "title": ""
    }
   },
   "outputs": [],
   "source": [
    "-- 削除対象ファイルを事前に確認\n",
    "VACUUM users.yukiteru_koide.deltalake DRY RUN;"
   ]
  },
  {
   "cell_type": "markdown",
   "metadata": {},
   "source": [
    "### ステップ4: ファイル保持期間の変更（デモ用）\n",
    "\n",
    "**⚠️ 注意**: これはデモ用の設定です！\n",
    "\n",
    "通常のデフォルト保持期間は7日間（168時間）ですが、ここでは即座にVACUUMの効果を確認するため1時間に短縮します。本番環境では業務要件に応じて適切な期間を設定してください。\n",
    "\n",
    "**保持期間の考慮事項:**\n",
    "- **短すぎる**: Time Travelの利便性が低下\n",
    "- **長すぎる**: ストレージコストが増大\n",
    "- **推奨**: 業務の復旧要件に基づいて設定（通常1-30日）\n"
   ]
  },
  {
   "cell_type": "code",
   "execution_count": 0,
   "metadata": {
    "application/vnd.databricks.v1+cell": {
     "cellMetadata": {
      "byteLimit": 2048000,
      "rowLimit": 10000
     },
     "inputWidgets": {},
     "nuid": "849ba745-0cdc-4011-8616-444b96f1ea4f",
     "showTitle": false,
     "tableResultSettingsMap": {},
     "title": ""
    }
   },
   "outputs": [],
   "source": [
    "-- デモ用に保持期間を1時間に設定\n",
    "ALTER TABLE users.yukiteru_koide.deltalake\n",
    "  SET TBLPROPERTIES ('delta.deletedFileRetentionDuration' = '1 hours');"
   ]
  },
  {
   "cell_type": "markdown",
   "metadata": {},
   "source": [
    "### ステップ5: VACUUM実行\n",
    "\n",
    "古いファイルを物理削除してストレージを最適化します。保持期間（1時間）を超えた古いバージョンのファイルが削除されます。\n",
    "\n",
    "**VACUUM実行時の動作:**\n",
    "- 保持期間を超えたParquetファイルを物理削除\n",
    "- メタデータ（_delta_log）は保持される\n",
    "- 削除されたファイル数とサイズが出力される\n"
   ]
  },
  {
   "cell_type": "code",
   "execution_count": 0,
   "metadata": {
    "application/vnd.databricks.v1+cell": {
     "cellMetadata": {
      "byteLimit": 2048000,
      "rowLimit": 10000
     },
     "inputWidgets": {},
     "nuid": "08dee544-220e-4e6b-82bf-6a8a3326c867",
     "showTitle": false,
     "tableResultSettingsMap": {},
     "title": ""
    }
   },
   "outputs": [],
   "source": [
    "\n",
    "-- 古いファイルを物理削除\n",
    "VACUUM users.yukiteru_koide.deltalake;"
   ]
  },
  {
   "cell_type": "code",
   "execution_count": 0,
   "metadata": {
    "application/vnd.databricks.v1+cell": {
     "cellMetadata": {
      "byteLimit": 2048000,
      "rowLimit": 10000
     },
     "inputWidgets": {},
     "nuid": "c8f61659-5a8b-400c-ba3e-44f2ff049b99",
     "showTitle": false,
     "tableResultSettingsMap": {},
     "title": ""
    }
   },
   "outputs": [],
   "source": [
    "-- ### ステップ6: VACUUM後の履歴確認\n",
    "\n",
    "-- VACUUM実行後もテーブル履歴は残っていることを確認\n",
    "-- メタデータは保持されるため、履歴情報は参照可能\n",
    "DESCRIBE HISTORY users.yukiteru_koide.deltalake;"
   ]
  },
  {
   "cell_type": "code",
   "execution_count": 0,
   "metadata": {
    "application/vnd.databricks.v1+cell": {
     "cellMetadata": {
      "byteLimit": 2048000,
      "rowLimit": 10000
     },
     "inputWidgets": {},
     "nuid": "2128981e-3be4-4fe4-80b1-d269a7d304ac",
     "showTitle": false,
     "tableResultSettingsMap": {},
     "title": ""
    }
   },
   "outputs": [],
   "source": [
    "-- ### ステップ7: VACUUM後のTime Travel動作確認\n",
    "\n",
    "-- VACUUMで物理削除されたバージョンへのアクセスを試行\n",
    "-- ファイルが削除されている場合はエラーが発生する\n",
    "-- ※ 削除されたバージョン番号を指定してください\n",
    "SELECT * FROM users.yukiteru_koide.deltalake VERSION AS OF 1;\n",
    "\n",
    "-- 【期待される結果】\n",
    "-- ・ファイルが削除済み: \"FileNotFoundException\" などのエラー\n",
    "-- ・ファイルが残存: 正常にデータが表示される\n",
    "-- ・最新バージョンは常にアクセス可能"
   ]
  },
  {
   "cell_type": "markdown",
   "metadata": {},
   "source": [
    "### ステップ1: クラスタリング設定前の状態確認\n",
    "\n",
    "`DESCRIBE EXTENDED`でテーブルの詳細情報を確認し、クラスタリング設定前の状態を記録します。\n",
    "\n",
    "**確認ポイント:**\n",
    "- **Table Properties**: 現在のテーブル設定\n",
    "- **Clustering Information**: クラスタリング設定の有無\n",
    "- **Statistics**: ファイル数、データサイズなどの統計情報\n"
   ]
  },
  {
   "cell_type": "code",
   "execution_count": 0,
   "metadata": {
    "application/vnd.databricks.v1+cell": {
     "cellMetadata": {
      "byteLimit": 2048000,
      "rowLimit": 10000
     },
     "inputWidgets": {},
     "nuid": "ca27489e-d082-41af-8f01-c377f9761586",
     "showTitle": false,
     "tableResultSettingsMap": {},
     "title": ""
    }
   },
   "outputs": [],
   "source": [
    "-- ### ステップ8: 設定の復元（推奨）\n",
    "\n",
    "-- デモ用に変更した保持期間設定をデフォルト（7日間）に戻す\n",
    "-- 本番環境では適切な保持期間を維持することが重要\n",
    "ALTER TABLE users.yukiteru_koide.deltalake\n",
    "  UNSET TBLPROPERTIES ('delta.deletedFileRetentionDuration');\n",
    "\n",
    "-- 【設定復元の重要性】\n",
    "-- ・デモ用の短い保持期間は本番環境では危険\n",
    "-- ・デフォルト設定（7日間）は多くの用途で適切\n",
    "-- ・組織のデータ保持ポリシーに従って設定を調整"
   ]
  },
  {
   "cell_type": "markdown",
   "metadata": {
    "application/vnd.databricks.v1+cell": {
     "cellMetadata": {},
     "inputWidgets": {},
     "nuid": "21528971-ecb7-4268-ab39-39c264cabc8e",
     "showTitle": false,
     "tableResultSettingsMap": {},
     "title": ""
    }
   },
   "source": [
    "## 3. Liquid Clustering（パフォーマンス最適化）\n",
    "\n",
    "Delta Lakeの**Liquid Clustering**は、データの物理的な配置を最適化してクエリパフォーマンスを向上させる機能です。\n",
    "\n",
    "### Liquid Clusteringの特徴\n",
    "- **自動最適化**: 指定したカラムに基づいてデータを自動的にクラスタリング\n",
    "- **動的調整**: データの追加・更新に応じて最適な配置を維持\n",
    "- **従来手法の改善**: パーティショニングの制約を解決する新しいアプローチ\n",
    "\n",
    "### パフォーマンス向上の仕組み\n",
    "- **データスキップ**: 不要なファイルの読み取りを回避\n",
    "- **I/O削減**: 関連データを同じファイルに配置して読み取り効率を向上\n",
    "- **Z-Order最適化**: 多次元データの局所性を改善\n",
    "\n",
    "### 適用場面\n",
    "- **フィルタリングが多い**: WHERE句で特定カラムを頻繁に使用\n",
    "- **結合処理**: JOIN操作でのパフォーマンス向上\n",
    "- **分析クエリ**: 集計処理の高速化"
   ]
  },
  {
   "cell_type": "code",
   "execution_count": 0,
   "metadata": {
    "application/vnd.databricks.v1+cell": {
     "cellMetadata": {
      "byteLimit": 2048000,
      "rowLimit": 10000
     },
     "inputWidgets": {},
     "nuid": "c73b4ae1-7a1b-40ae-89a9-32463de8edbe",
     "showTitle": false,
     "tableResultSettingsMap": {},
     "title": ""
    }
   },
   "outputs": [],
   "source": [
    "-- ### ステップ1: クラスタリング設定前の状態確認\n",
    "\n",
    "-- DESCRIBE EXTENDEDでテーブルの詳細情報を確認\n",
    "-- クラスタリング設定前の状態を記録\n",
    "DESCRIBE EXTENDED users.yukiteru_koide.deltalake;\n",
    "\n",
    "-- 【確認ポイント】\n",
    "-- ・Table Properties: 現在のテーブル設定\n",
    "-- ・Clustering Information: クラスタリング設定の有無\n",
    "-- ・Statistics: ファイル数、データサイズなどの統計情報"
   ]
  },
  {
   "cell_type": "code",
   "execution_count": 0,
   "metadata": {
    "application/vnd.databricks.v1+cell": {
     "cellMetadata": {
      "byteLimit": 2048000,
      "rowLimit": 10000
     },
     "inputWidgets": {},
     "nuid": "37108c1d-0c02-464e-8268-666ab99a5e73",
     "showTitle": false,
     "tableResultSettingsMap": {},
     "title": ""
    }
   },
   "outputs": [],
   "source": [
    "-- ### ステップ2: Liquid Clusteringの有効化\n",
    "\n",
    "-- ALTER TABLE文でクラスタリングカラムを指定\n",
    "-- ここでは'country'カラムでクラスタリングを設定\n",
    "-- 国別でデータをグループ化することで、国別フィルタリングが高速化される\n",
    "ALTER TABLE users.yukiteru_koide.deltalake\n",
    "CLUSTER BY (country);\n",
    "\n",
    "-- 【クラスタリングカラムの選択指針】\n",
    "-- ・WHERE句で頻繁に使用されるカラム\n",
    "-- ・JOIN条件で使用されるカラム\n",
    "-- ・GROUP BYで使用されるカラム\n",
    "-- ・カーディナリティが適度なカラム（極端に多い/少ないは避ける）"
   ]
  },
  {
   "cell_type": "code",
   "execution_count": 0,
   "metadata": {
    "application/vnd.databricks.v1+cell": {
     "cellMetadata": {
      "byteLimit": 2048000,
      "rowLimit": 10000
     },
     "inputWidgets": {},
     "nuid": "8f318873-832f-4d8c-8a08-fa2bd9deb979",
     "showTitle": false,
     "tableResultSettingsMap": {},
     "title": ""
    }
   },
   "outputs": [],
   "source": [
    "-- ### ステップ3: クラスタリング設定後の状態確認\n",
    "\n",
    "-- クラスタリング設定後のテーブル情報を確認\n",
    "-- Clustering Informationセクションに設定が反映されているかを確認\n",
    "DESCRIBE EXTENDED users.yukiteru_koide.deltalake;\n",
    "\n",
    "-- 【設定後の変化】\n",
    "-- ・Clustering Information: \"country\"が表示される\n",
    "-- ・Table Properties: クラスタリング関連のプロパティが追加\n",
    "-- ・今後のデータ挿入・更新時に自動的にクラスタリングが適用される\n",
    "\n",
    "-- 【パフォーマンス効果の確認方法】\n",
    "-- ・EXPLAIN文でクエリ実行計画を確認\n",
    "-- ・実際のクエリ実行時間を測定\n",
    "-- ・ファイルスキップ統計を確認"
   ]
  },
  {
   "cell_type": "markdown",
   "metadata": {},
   "source": [
    "## まとめ\n",
    "\n",
    "このノートブックでは、Delta Lakeの3つの主要機能を実際のコードで体験しました。\n",
    "\n",
    "### 学習した内容\n",
    "1. **Time Travel**: データの履歴管理と誤操作からの復旧\n",
    "   - バージョン管理による過去データの参照\n",
    "   - RESTORE機能による一括復旧\n",
    "   - 運用における重要性\n",
    "\n",
    "2. **VACUUM**: ストレージ最適化とコスト管理\n",
    "   - 古いファイルの物理削除\n",
    "   - 保持期間の設定と管理\n",
    "   - Time Travelとのバランス\n",
    "\n",
    "3. **Liquid Clustering**: クエリパフォーマンスの向上\n",
    "   - データの物理配置最適化\n",
    "   - 自動クラスタリング機能\n",
    "   - 適切なカラム選択の重要性\n",
    "\n",
    "### 本番環境での注意点\n",
    "- **Time Travel**: 適切な保持期間の設定\n",
    "- **VACUUM**: 定期実行とDRY RUNの活用\n",
    "- **Clustering**: ワークロードに応じたカラム選択\n",
    "\n",
    "### 次のステップ\n",
    "- より大きなデータセットでのパフォーマンス測定\n",
    "- 複数カラムでのクラスタリング設定\n",
    "- Change Data Feed（CDF）などの他のDelta Lake機能の探索\n"
   ]
  }
 ],
 "metadata": {
  "application/vnd.databricks.v1+notebook": {
   "computePreferences": null,
   "dashboards": [],
   "environmentMetadata": {
    "base_environment": "",
    "environment_version": "3"
   },
   "inputWidgetPreferences": null,
   "language": "sql",
   "notebookMetadata": {
    "pythonIndentUnit": 2
   },
   "notebookName": "01_deltalake",
   "widgets": {}
  },
  "language_info": {
   "name": "sql"
  }
 },
 "nbformat": 4,
 "nbformat_minor": 0
}
