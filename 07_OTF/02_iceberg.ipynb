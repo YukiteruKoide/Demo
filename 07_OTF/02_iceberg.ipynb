{
  "cells": [
    {
      "cell_type": "markdown",
      "metadata": {},
      "source": [
        "# Apache Iceberg デモンストレーション\n",
        "\n",
        "このノートブックでは、Apache Icebergの主要な機能を実際のコードを通じて学習します。\n",
        "\n",
        "## 学習内容\n",
        "1. **Time Travel**: スナップショット機能による履歴管理と過去データの参照\n",
        "2. **メタデータ管理**: テーブル履歴とスナップショットの管理\n",
        "3. **スキーマエボリューション**: カラムの追加・変更・削除の安全な実行\n",
        "\n",
        "## 前提条件\n",
        "- Unity Catalogが有効化されている環境\n",
        "- パーソナル領域（users.{username}）へのアクセス権限\n",
        "- Iceberg形式のテーブル作成権限\n"
      ]
    },
    {
      "cell_type": "markdown",
      "metadata": {},
      "source": [
        "## 1. Time Travel（タイムトラベル）\n",
        "\n",
        "Apache Icebergの**Time Travel**機能は、テーブルのスナップショット履歴を管理し、過去の状態を参照・復旧できる機能です。\n",
        "\n",
        "### 主な用途\n",
        "- **データの監査**: 特定時点でのデータ状態の確認\n",
        "- **誤操作からの復旧**: 間違ったデータ変更からの復元\n",
        "- **A/Bテスト**: 異なる時点のデータでの比較分析\n",
        "- **レポート再現**: 過去のレポート結果の再現\n",
        "\n",
        "### Icebergのスナップショット機能\n",
        "- **スナップショット**: 各操作でテーブルの状態を記録\n",
        "- **メタデータ管理**: 効率的なメタデータ構造で高速アクセス\n",
        "- **タイムスタンプ/スナップショットID**: 複数の方法で過去データにアクセス可能\n"
      ]
    },
    {
      "cell_type": "code",
      "execution_count": null,
      "metadata": {
        "vscode": {
          "languageId": "sql"
        }
      },
      "outputs": [],
      "source": [
        "-- Unity Catalogのパーソナル領域を使用\n",
        "-- 各ユーザーは自分のスキーマ名に変更してください\n",
        "USE CATALOG users;\n",
        "USE SCHEMA yukiteru_koide;  -- ← ここを自分のユーザー名に変更\n"
      ]
    },
    {
      "cell_type": "code",
      "execution_count": null,
      "metadata": {
        "vscode": {
          "languageId": "sql"
        }
      },
      "outputs": [],
      "source": [
        "### ステップ1: デモ用Icebergテーブルの作成と初期データ投入\n",
        "\n",
        "Apache Icebergテーブルを作成し、初期データを投入します。この操作により最初のスナップショットが作成されます。\n"
      ]
    },
    {
      "cell_type": "code",
      "execution_count": null,
      "metadata": {
        "vscode": {
          "languageId": "sql"
        }
      },
      "outputs": [],
      "source": [
        "-- Apache Icebergテーブルを作成（USING ICEBERGを指定）\n",
        "CREATE OR REPLACE TABLE iceberg_demo (\n",
        "  id       INT,           -- 主キー\n",
        "  amount   DECIMAL(10,2), -- 金額\n",
        "  country  STRING,        -- 国コード\n",
        "  category STRING,        -- 商品カテゴリ\n",
        "  ts       TIMESTAMP      -- タイムスタンプ\n",
        ") USING ICEBERG;\n",
        "\n",
        "-- 初期データを投入（最初のスナップショットが作成される）\n",
        "INSERT INTO iceberg_demo VALUES\n",
        "  (1, 100.00, 'JP', 'Electronics', current_timestamp()),\n",
        "  (2, 200.00, 'US', 'Books', current_timestamp()),\n",
        "  (3, 150.00, 'JP', 'Clothing', current_timestamp()),\n",
        "  (4, 300.00, 'UK', 'Electronics', current_timestamp());\n",
        "\n",
        "-- 投入されたデータを確認\n",
        "SELECT * FROM iceberg_demo ORDER BY id;\n"
      ]
    },
    {
      "cell_type": "code",
      "execution_count": null,
      "metadata": {
        "vscode": {
          "languageId": "sql"
        }
      },
      "outputs": [],
      "source": [
        "### ステップ2: 追加データの投入（新しいスナップショット作成）\n",
        "\n",
        "新しいデータを追加してスナップショットを増やします。Icebergでは各操作が新しいスナップショットとして記録されます。\n"
      ]
    },
    {
      "cell_type": "code",
      "execution_count": null,
      "metadata": {
        "vscode": {
          "languageId": "sql"
        }
      },
      "outputs": [],
      "source": [
        "-- 新しいデータを追加してスナップショットを増やす\n",
        "INSERT INTO iceberg_demo VALUES\n",
        "  (5, 250.00, 'DE', 'Sports', current_timestamp()),\n",
        "  (6, 180.00, 'FR', 'Books', current_timestamp());\n",
        "\n",
        "-- 追加後のデータを確認\n",
        "SELECT * FROM iceberg_demo ORDER BY id;\n"
      ]
    },
    {
      "cell_type": "code",
      "execution_count": null,
      "metadata": {
        "vscode": {
          "languageId": "sql"
        }
      },
      "outputs": [],
      "source": [
        "-- ### ステップ3: データ更新操作（さらなるスナップショット作成）\n",
        "\n",
        "-- 既存データを更新して履歴を作成\n",
        "UPDATE iceberg_demo \n",
        "SET amount = amount * 1.1 \n",
        "WHERE country = 'JP';\n",
        "\n",
        "-- 更新後のデータを確認（日本のデータが10%増加）\n",
        "SELECT * FROM iceberg_demo WHERE country = 'JP' ORDER BY id;\n"
      ]
    },
    {
      "cell_type": "code",
      "execution_count": null,
      "metadata": {
        "vscode": {
          "languageId": "sql"
        }
      },
      "outputs": [],
      "source": [
        "-- ### ステップ4: 誤操作のシミュレーション\n",
        "\n",
        "-- 【注意】これは意図的な誤操作です！\n",
        "-- Electronics カテゴリのデータを間違って削除してしまう状況を再現\n",
        "DELETE FROM iceberg_demo WHERE category = 'Electronics';\n",
        "\n",
        "-- 削除後の状態を確認（Electronicsカテゴリが消えていることを確認）\n",
        "SELECT * FROM iceberg_demo ORDER BY id;\n"
      ]
    },
    {
      "cell_type": "markdown",
      "metadata": {},
      "source": [
        "## 2. メタデータ管理とスナップショット操作\n",
        "\n",
        "Apache Icebergの**メタデータ管理**は、テーブルの履歴とスナップショットを効率的に管理する仕組みです。\n",
        "\n",
        "### Icebergのメタデータ構造\n",
        "- **スナップショット**: 各操作時点でのテーブル状態\n",
        "- **メタデータファイル**: テーブルスキーマ、パーティション情報、統計情報\n",
        "- **マニフェストファイル**: データファイルの場所と統計情報\n",
        "\n",
        "### スナップショット管理の特徴\n",
        "- **軽量な履歴管理**: メタデータのみで履歴を追跡\n",
        "- **高速な時系列アクセス**: インデックス化された履歴情報\n",
        "- **柔軟な保持ポリシー**: 必要に応じてスナップショットを削除可能\n",
        "\n",
        "### Time Travelクエリの方法\n",
        "- **タイムスタンプ指定**: `FOR SYSTEM_TIME AS OF`\n",
        "- **スナップショットID指定**: `FOR SYSTEM_VERSION AS OF`\n"
      ]
    },
    {
      "cell_type": "code",
      "execution_count": null,
      "metadata": {
        "vscode": {
          "languageId": "sql"
        }
      },
      "outputs": [],
      "source": [
        "-- ### ステップ1: テーブル履歴の確認\n",
        "\n",
        "-- Icebergテーブルの履歴を確認\n",
        "-- 各スナップショットの作成時刻、操作内容、データファイル数などが表示される\n",
        "DESCRIBE HISTORY iceberg_demo;\n",
        "\n",
        "-- 【出力項目の説明】\n",
        "-- made_current_at: スナップショットが作成された時刻\n",
        "-- snapshot_id: 一意のスナップショット識別子\n",
        "-- parent_id: 親スナップショットのID\n",
        "-- operation: 実行された操作（append, overwrite, delete等）\n",
        "-- manifest_list: マニフェストファイルの場所\n",
        "-- summary: 操作の統計情報（追加・削除されたレコード数等）\n"
      ]
    },
    {
      "cell_type": "code",
      "execution_count": null,
      "metadata": {
        "vscode": {
          "languageId": "sql"
        }
      },
      "outputs": [],
      "source": [
        "-- ### ステップ2: タイムスタンプによるTime Travel\n",
        "\n",
        "-- 特定の時刻のデータを参照（削除前の状態）\n",
        "-- ※ 実際の時刻は上記のDESCRIBE HISTORYの結果を参考に調整してください\n",
        "SELECT * FROM iceberg_demo \n",
        "FOR SYSTEM_TIME AS OF '2024-01-01 12:00:00'\n",
        "ORDER BY id;\n",
        "\n",
        "-- 【補足】現在時刻から相対的に指定することも可能\n",
        "-- SELECT * FROM iceberg_demo FOR SYSTEM_TIME AS OF (current_timestamp() - INTERVAL 10 MINUTES);\n"
      ]
    },
    {
      "cell_type": "code",
      "execution_count": null,
      "metadata": {
        "vscode": {
          "languageId": "sql"
        }
      },
      "outputs": [],
      "source": [
        "-- ### ステップ3: スナップショットIDによるTime Travel\n",
        "\n",
        "-- 特定のスナップショットIDのデータを参照\n",
        "-- ※ DESCRIBE HISTORYで確認したスナップショットIDを使用してください\n",
        "SELECT * FROM iceberg_demo \n",
        "FOR SYSTEM_VERSION AS OF 1234567890123456789\n",
        "ORDER BY id;\n",
        "\n",
        "-- 【スナップショットIDの利点】\n",
        "-- ・正確な状態の指定が可能\n",
        "-- ・タイムゾーンの影響を受けない\n",
        "-- ・プログラムからの参照に適している\n"
      ]
    },
    {
      "cell_type": "code",
      "execution_count": null,
      "metadata": {
        "vscode": {
          "languageId": "sql"
        }
      },
      "outputs": [],
      "source": [
        "-- ### ステップ4: データの復旧（INSERT INTO ... SELECT）\n",
        "\n",
        "-- Time Travelを使用して削除されたデータを復旧\n",
        "-- 削除前のスナップショットから削除されたレコードを特定して再挿入\n",
        "INSERT INTO iceberg_demo\n",
        "SELECT * FROM iceberg_demo \n",
        "FOR SYSTEM_TIME AS OF '2024-01-01 12:00:00'\n",
        "WHERE category = 'Electronics';\n",
        "\n",
        "-- 復旧後のデータを確認\n",
        "SELECT * FROM iceberg_demo ORDER BY id;\n",
        "\n",
        "-- 【復旧方法の特徴】\n",
        "-- ・部分的な復旧が可能\n",
        "-- ・条件を指定して特定データのみ復元\n",
        "-- ・複数のスナップショットからのデータ統合も可能\n"
      ]
    },
    {
      "cell_type": "markdown",
      "metadata": {},
      "source": [
        "## 3. スキーマエボリューション（スキーマ進化）\n",
        "\n",
        "Apache Icebergの**スキーマエボリューション**は、既存のテーブルスキーマを安全に変更できる機能です。\n",
        "\n",
        "### スキーマエボリューションの特徴\n",
        "- **後方互換性**: 既存データを破損させることなくスキーマを変更\n",
        "- **柔軟な変更**: カラムの追加、削除、名前変更、データ型変更が可能\n",
        "- **自動マイグレーション**: 新しいスキーマに対して既存データを自動適用\n",
        "\n",
        "### サポートされる操作\n",
        "- **カラム追加**: 新しいカラムの追加（デフォルト値あり）\n",
        "- **カラム削除**: 不要なカラムの削除\n",
        "- **カラム名変更**: カラム名の変更\n",
        "- **データ型変更**: 互換性のあるデータ型への変更\n",
        "- **カラム順序変更**: カラムの並び順変更\n",
        "\n",
        "### スキーマ変更のベストプラクティス\n",
        "- **段階的変更**: 大きな変更は小さなステップに分割\n",
        "- **テスト環境での検証**: 本番適用前の十分なテスト\n",
        "- **バックアップ**: 重要な変更前のスナップショット保存\n"
      ]
    },
    {
      "cell_type": "code",
      "execution_count": null,
      "metadata": {
        "vscode": {
          "languageId": "sql"
        }
      },
      "outputs": [],
      "source": [
        "-- ### ステップ1: 現在のスキーマ確認\n",
        "\n",
        "-- テーブルの現在のスキーマ構造を確認\n",
        "DESCRIBE iceberg_demo;\n",
        "\n",
        "-- より詳細な情報を確認\n",
        "DESCRIBE EXTENDED iceberg_demo;\n"
      ]
    },
    {
      "cell_type": "code",
      "execution_count": null,
      "metadata": {
        "vscode": {
          "languageId": "sql"
        }
      },
      "outputs": [],
      "source": [
        "-- ### ステップ2: カラムの追加\n",
        "\n",
        "-- 新しいカラム「discount_rate」を追加\n",
        "-- Icebergでは既存データに対してNULLまたはデフォルト値が自動適用される\n",
        "ALTER TABLE iceberg_demo \n",
        "ADD COLUMN discount_rate DECIMAL(5,2) DEFAULT 0.00;\n",
        "\n",
        "-- スキーマ変更後の構造を確認\n",
        "DESCRIBE iceberg_demo;\n",
        "\n",
        "-- 既存データを確認（新しいカラムにはデフォルト値が設定される）\n",
        "SELECT * FROM iceberg_demo ORDER BY id;\n"
      ]
    },
    {
      "cell_type": "code",
      "execution_count": null,
      "metadata": {
        "vscode": {
          "languageId": "sql"
        }
      },
      "outputs": [],
      "source": [
        "-- ### ステップ3: 新しいスキーマでのデータ投入\n",
        "\n",
        "-- 新しいスキーマに対応したデータを投入\n",
        "INSERT INTO iceberg_demo VALUES\n",
        "  (7, 400.00, 'CA', 'Electronics', current_timestamp(), 0.15),\n",
        "  (8, 120.00, 'AU', 'Books', current_timestamp(), 0.10);\n",
        "\n",
        "-- 新旧データが混在していることを確認\n",
        "SELECT id, amount, country, category, discount_rate \n",
        "FROM iceberg_demo \n",
        "ORDER BY id;\n"
      ]
    },
    {
      "cell_type": "code",
      "execution_count": null,
      "metadata": {
        "vscode": {
          "languageId": "sql"
        }
      },
      "outputs": [],
      "source": [
        "-- ### ステップ4: カラム名の変更\n",
        "\n",
        "-- 「category」カラムを「product_category」に名前変更\n",
        "ALTER TABLE iceberg_demo \n",
        "RENAME COLUMN category TO product_category;\n",
        "\n",
        "-- 名前変更後のスキーマを確認\n",
        "DESCRIBE iceberg_demo;\n",
        "\n",
        "-- 名前変更後もデータは正常にアクセス可能\n",
        "SELECT id, product_category, discount_rate \n",
        "FROM iceberg_demo \n",
        "ORDER BY id;\n"
      ]
    },
    {
      "cell_type": "code",
      "execution_count": null,
      "metadata": {
        "vscode": {
          "languageId": "sql"
        }
      },
      "outputs": [],
      "source": [
        "-- ### ステップ5: 過去スキーマでのTime Travel\n",
        "\n",
        "-- スキーマ変更前の状態を参照\n",
        "-- 古いカラム名でもデータにアクセス可能（Icebergの後方互換性）\n",
        "SELECT id, category, amount \n",
        "FROM iceberg_demo \n",
        "FOR SYSTEM_TIME AS OF '2024-01-01 11:00:00'\n",
        "ORDER BY id;\n",
        "\n",
        "-- 【後方互換性の特徴】\n",
        "-- ・古いスキーマでのクエリも正常動作\n",
        "-- ・カラム名変更前の名前でもアクセス可能\n",
        "-- ・データ型変更前の型でも参照可能\n",
        "-- ・追加されたカラムは古いスナップショットでは表示されない\n"
      ]
    },
    {
      "cell_type": "markdown",
      "metadata": {},
      "source": [
        "## まとめ\n",
        "\n",
        "このノートブックでは、Apache Icebergの3つの主要機能を実際のコードで体験しました。\n",
        "\n",
        "### 学習した内容\n",
        "1. **Time Travel**: スナップショット機能による履歴管理\n",
        "   - タイムスタンプとスナップショットIDでの過去データ参照\n",
        "   - 柔軟な復旧方法（部分復旧、条件指定復旧）\n",
        "   - 軽量なメタデータ管理による高速アクセス\n",
        "\n",
        "2. **メタデータ管理**: 効率的な履歴とスナップショット管理\n",
        "   - スナップショット、メタデータファイル、マニフェストファイルの構造\n",
        "   - 詳細な操作履歴の追跡\n",
        "   - 高速な時系列データアクセス\n",
        "\n",
        "3. **スキーマエボリューション**: 安全なスキーマ変更\n",
        "   - カラムの追加、削除、名前変更\n",
        "   - 後方互換性の維持\n",
        "   - 既存データを破損させない自動マイグレーション\n",
        "\n",
        "### Icebergの特徴的な利点\n",
        "- **高いパフォーマンス**: 効率的なメタデータ管理による高速クエリ\n",
        "- **強力な後方互換性**: スキーマ変更後も古いクエリが動作\n",
        "- **柔軟な履歴管理**: タイムスタンプとスナップショットIDの両方をサポート\n",
        "- **安全なスキーマ変更**: データ損失リスクなしでのスキーマ進化\n",
        "\n",
        "### Delta Lakeとの比較ポイント\n",
        "- **メタデータ構造**: Icebergはより詳細で構造化されたメタデータ\n",
        "- **スキーマエボリューション**: Icebergはより柔軟なスキーマ変更をサポート\n",
        "- **Time Travel**: 両者ともに強力だが、アクセス方法が異なる\n",
        "\n",
        "### 本番環境での注意点\n",
        "- **スナップショット保持**: 適切な保持ポリシーの設定\n",
        "- **スキーマ変更**: 段階的な変更と十分なテスト\n",
        "- **パフォーマンス**: 大量のスナップショットによる影響の監視\n",
        "\n",
        "### 次のステップ\n",
        "- パーティショニング戦略の学習\n",
        "- より複雑なスキーマ変更の実践\n",
        "- Icebergの高度な機能（Hidden Partitioning等）の探索\n"
      ]
    }
  ],
  "metadata": {
    "language_info": {
      "name": "python"
    }
  },
  "nbformat": 4,
  "nbformat_minor": 2
}
