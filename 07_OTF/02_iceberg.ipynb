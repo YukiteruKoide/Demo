{
 "cells": [
  {
   "cell_type": "markdown",
   "metadata": {
    "application/vnd.databricks.v1+cell": {
     "cellMetadata": {},
     "inputWidgets": {},
     "nuid": "9fcf7431-dfc7-49a1-91cc-fcc0ca978afa",
     "showTitle": false,
     "tableResultSettingsMap": {},
     "title": ""
    }
   },
   "source": [
    "# Apache Iceberg デモンストレーション\n",
    "\n",
    "このノートブックでは、Apache Icebergの主要な機能を実際のコードを通じて学習します。\n",
    "\n",
    "## 学習内容\n",
    "1. **Time Travel**: スナップショット機能による履歴管理と過去データの参照\n",
    "2. **メタデータ管理**: テーブル履歴とスナップショットの管理\n",
    "3. **スキーマエボリューション**: カラムの追加・変更・削除の安全な実行\n",
    "\n",
    "## 前提条件\n",
    "- Unity Catalogが有効化されている環境\n",
    "- パーソナル領域（users.{username}）へのアクセス権限\n",
    "- Iceberg形式のテーブル作成権限\n"
   ]
  },
  {
   "cell_type": "markdown",
   "metadata": {
    "application/vnd.databricks.v1+cell": {
     "cellMetadata": {},
     "inputWidgets": {},
     "nuid": "c787437c-0eae-4406-80cd-549291abe7dd",
     "showTitle": false,
     "tableResultSettingsMap": {},
     "title": ""
    }
   },
   "source": [
    "## 1. Time Travel（タイムトラベル）\n",
    "\n",
    "Apache Icebergの**Time Travel**機能は、テーブルのスナップショット履歴を管理し、過去の状態を参照・復旧できる機能です。\n",
    "\n",
    "### 主な用途\n",
    "- **データの監査**: 特定時点でのデータ状態の確認\n",
    "- **誤操作からの復旧**: 間違ったデータ変更からの復元\n",
    "- **A/Bテスト**: 異なる時点のデータでの比較分析\n",
    "- **レポート再現**: 過去のレポート結果の再現\n",
    "\n",
    "### Icebergのスナップショット機能\n",
    "- **スナップショット**: 各操作でテーブルの状態を記録\n",
    "- **メタデータ管理**: 効率的なメタデータ構造で高速アクセス\n",
    "- **タイムスタンプ/スナップショットID**: 複数の方法で過去データにアクセス可能\n"
   ]
  },
  {
   "cell_type": "code",
   "execution_count": 0,
   "metadata": {
    "application/vnd.databricks.v1+cell": {
     "cellMetadata": {
      "byteLimit": 2048000,
      "rowLimit": 10000
     },
     "inputWidgets": {},
     "nuid": "0e85070d-fe88-4d0c-b4d6-656786f8991d",
     "showTitle": false,
     "tableResultSettingsMap": {},
     "title": ""
    },
    "vscode": {
     "languageId": "sql"
    }
   },
   "outputs": [],
   "source": [
    "-- Unity Catalogのパーソナル領域を使用\n",
    "-- 各ユーザーは自分のスキーマ名に変更してください\n",
    "USE CATALOG users;\n",
    "USE SCHEMA yukiteru_koide;  -- ← ここを自分のユーザー名に変更\n"
   ]
  },
  {
   "cell_type": "markdown",
   "metadata": {
    "application/vnd.databricks.v1+cell": {
     "cellMetadata": {},
     "inputWidgets": {},
     "nuid": "3a4234b8-d9cd-4f2d-b3ff-d72bb1b49053",
     "showTitle": false,
     "tableResultSettingsMap": {},
     "title": ""
    }
   },
   "source": [
    "### ステップ1: デモ用Icebergテーブルの作成と初期データ投入\n",
    "\n",
    "Apache Icebergテーブルを作成し、初期データを投入します。この操作により最初のスナップショットが作成されます。\n"
   ]
  },
  {
   "cell_type": "code",
   "execution_count": 0,
   "metadata": {
    "application/vnd.databricks.v1+cell": {
     "cellMetadata": {
      "byteLimit": 2048000,
      "rowLimit": 10000
     },
     "inputWidgets": {},
     "nuid": "242a5726-4d2f-4e4c-8ef6-487a829cf2e8",
     "showTitle": false,
     "tableResultSettingsMap": {},
     "title": ""
    },
    "vscode": {
     "languageId": "sql"
    }
   },
   "outputs": [],
   "source": [
    "-- Apache Icebergテーブルを作成（USING ICEBERGを指定）\n",
    "CREATE OR REPLACE TABLE iceberg_demo (\n",
    "  id       INT,           -- 主キー\n",
    "  amount   DECIMAL(10,2), -- 金額\n",
    "  country  STRING,        -- 国コード\n",
    "  category STRING,        -- 商品カテゴリ\n",
    "  ts       TIMESTAMP      -- タイムスタンプ\n",
    ") USING ICEBERG;\n",
    "\n",
    "-- 初期データを投入（最初のスナップショットが作成される）\n",
    "INSERT INTO iceberg_demo VALUES\n",
    "  (1, 100.00, 'JP', 'Electronics', current_timestamp()),\n",
    "  (2, 200.00, 'US', 'Books', current_timestamp()),\n",
    "  (3, 150.00, 'JP', 'Clothing', current_timestamp()),\n",
    "  (4, 300.00, 'UK', 'Electronics', current_timestamp());\n",
    "\n",
    "-- 投入されたデータを確認\n",
    "SELECT * FROM iceberg_demo ORDER BY id;\n"
   ]
  },
  {
   "cell_type": "markdown",
   "metadata": {
    "application/vnd.databricks.v1+cell": {
     "cellMetadata": {},
     "inputWidgets": {},
     "nuid": "bd503771-3692-4b1f-b29d-65daa09cf3e3",
     "showTitle": false,
     "tableResultSettingsMap": {},
     "title": ""
    }
   },
   "source": [
    "### ステップ2: 追加データの投入（新しいスナップショット作成）\n",
    "\n",
    "新しいデータを追加してスナップショットを増やします。Icebergでは各操作が新しいスナップショットとして記録されます。\n"
   ]
  },
  {
   "cell_type": "code",
   "execution_count": 0,
   "metadata": {
    "application/vnd.databricks.v1+cell": {
     "cellMetadata": {
      "byteLimit": 2048000,
      "rowLimit": 10000
     },
     "inputWidgets": {},
     "nuid": "f7740929-89b2-4842-97e4-774106395b3b",
     "showTitle": false,
     "tableResultSettingsMap": {},
     "title": ""
    },
    "vscode": {
     "languageId": "sql"
    }
   },
   "outputs": [],
   "source": [
    "-- 新しいデータを追加してスナップショットを増やす\n",
    "INSERT INTO iceberg_demo VALUES\n",
    "  (5, 250.00, 'DE', 'Sports', current_timestamp()),\n",
    "  (6, 180.00, 'FR', 'Books', current_timestamp());\n",
    "\n",
    "-- 追加後のデータを確認\n",
    "SELECT * FROM iceberg_demo ORDER BY id;\n"
   ]
  },
  {
   "cell_type": "markdown",
   "metadata": {
    "application/vnd.databricks.v1+cell": {
     "cellMetadata": {},
     "inputWidgets": {},
     "nuid": "bd5c01b3-d02e-401b-a608-47f09e7c4ced",
     "showTitle": false,
     "tableResultSettingsMap": {},
     "title": ""
    }
   },
   "source": [
    "### ステップ3: データ更新操作（さらなるスナップショット作成）\n",
    "\n",
    "既存データを更新して履歴を作成します。Icebergでは更新操作も新しいスナップショットとして記録されます。\n"
   ]
  },
  {
   "cell_type": "code",
   "execution_count": 0,
   "metadata": {
    "application/vnd.databricks.v1+cell": {
     "cellMetadata": {
      "byteLimit": 2048000,
      "rowLimit": 10000
     },
     "inputWidgets": {},
     "nuid": "6fb5c75f-ccd5-4bf9-bb18-00ea31acb6e7",
     "showTitle": false,
     "tableResultSettingsMap": {},
     "title": ""
    },
    "vscode": {
     "languageId": "sql"
    }
   },
   "outputs": [],
   "source": [
    "-- 既存データを更新して履歴を作成\n",
    "UPDATE iceberg_demo \n",
    "SET amount = amount * 1.1 \n",
    "WHERE country = 'JP';\n",
    "\n",
    "-- 更新後のデータを確認（日本のデータが10%増加）\n",
    "SELECT * FROM iceberg_demo WHERE country = 'JP' ORDER BY id;\n"
   ]
  },
  {
   "cell_type": "markdown",
   "metadata": {
    "application/vnd.databricks.v1+cell": {
     "cellMetadata": {},
     "inputWidgets": {},
     "nuid": "8e5c10f7-5781-48a4-9bfd-278952ca8128",
     "showTitle": false,
     "tableResultSettingsMap": {},
     "title": ""
    }
   },
   "source": [
    "### ステップ4: 誤操作のシミュレーション\n",
    "\n",
    "**⚠️ 注意**: これは意図的な誤操作です！\n",
    "\n",
    "Electronics カテゴリのデータを間違って削除してしまう状況を再現します。実際の運用では避けるべき操作ですが、復旧デモのために実行します。\n"
   ]
  },
  {
   "cell_type": "code",
   "execution_count": 0,
   "metadata": {
    "application/vnd.databricks.v1+cell": {
     "cellMetadata": {
      "byteLimit": 2048000,
      "rowLimit": 10000
     },
     "inputWidgets": {},
     "nuid": "53f0d236-1231-44d6-a1db-bf111455c711",
     "showTitle": false,
     "tableResultSettingsMap": {},
     "title": ""
    },
    "vscode": {
     "languageId": "sql"
    }
   },
   "outputs": [],
   "source": [
    "-- Electronics カテゴリのデータを誤って削除\n",
    "DELETE FROM iceberg_demo WHERE category = 'Electronics';\n",
    "\n",
    "-- 削除後の状態を確認（Electronicsカテゴリが消えていることを確認）\n",
    "SELECT * FROM iceberg_demo ORDER BY id;\n"
   ]
  },
  {
   "cell_type": "markdown",
   "metadata": {
    "application/vnd.databricks.v1+cell": {
     "cellMetadata": {},
     "inputWidgets": {},
     "nuid": "413f15be-e7ef-4df4-8fc6-040acd3b88f7",
     "showTitle": false,
     "tableResultSettingsMap": {},
     "title": ""
    }
   },
   "source": [
    "## 2. メタデータ管理とスナップショット操作\n",
    "\n",
    "Apache Icebergの**メタデータ管理**は、テーブルの履歴とスナップショットを効率的に管理する仕組みです。\n",
    "\n",
    "### Icebergのメタデータ構造\n",
    "- **スナップショット**: 各操作時点でのテーブル状態\n",
    "- **メタデータファイル**: テーブルスキーマ、パーティション情報、統計情報\n",
    "- **マニフェストファイル**: データファイルの場所と統計情報\n",
    "\n",
    "### スナップショット管理の特徴\n",
    "- **軽量な履歴管理**: メタデータのみで履歴を追跡\n",
    "- **高速な時系列アクセス**: インデックス化された履歴情報\n",
    "- **柔軟な保持ポリシー**: 必要に応じてスナップショットを削除可能\n",
    "\n",
    "### Time Travelクエリの方法\n",
    "- **タイムスタンプ指定**: `FOR SYSTEM_TIME AS OF`\n",
    "- **スナップショットID指定**: `FOR SYSTEM_VERSION AS OF`\n"
   ]
  },
  {
   "cell_type": "code",
   "execution_count": 0,
   "metadata": {
    "application/vnd.databricks.v1+cell": {
     "cellMetadata": {
      "byteLimit": 2048000,
      "rowLimit": 10000
     },
     "inputWidgets": {},
     "nuid": "86b2c2d7-8633-4ce7-a2c8-bcfad88d935d",
     "showTitle": false,
     "tableResultSettingsMap": {},
     "title": ""
    },
    "vscode": {
     "languageId": "sql"
    }
   },
   "outputs": [],
   "source": [
    "-- テーブル履歴を確認\n",
    "DESCRIBE HISTORY iceberg_demo;\n"
   ]
  },
  {
   "cell_type": "markdown",
   "metadata": {
    "application/vnd.databricks.v1+cell": {
     "cellMetadata": {},
     "inputWidgets": {},
     "nuid": "44d16ce1-3668-427b-a897-b417f03f7829",
     "showTitle": false,
     "tableResultSettingsMap": {},
     "title": ""
    }
   },
   "source": [
    "### ステップ2: タイムスタンプによるTime Travel\n",
    "\n",
    "特定の時刻のデータを参照します（削除前の状態）。\n",
    "\n",
    "**補足**: 現在時刻から相対的に指定することも可能\n",
    "```sql\n",
    "SELECT * FROM iceberg_demo FOR SYSTEM_TIME AS OF (current_timestamp() - INTERVAL 10 MINUTES);\n",
    "```\n",
    "\n",
    "※ 実際の時刻は上記の`DESCRIBE HISTORY`の結果を参考に調整してください\n"
   ]
  },
  {
   "cell_type": "code",
   "execution_count": 0,
   "metadata": {
    "application/vnd.databricks.v1+cell": {
     "cellMetadata": {
      "byteLimit": 2048000,
      "rowLimit": 10000
     },
     "inputWidgets": {},
     "nuid": "c1b65dee-85b2-494b-9b33-1a732919b944",
     "showTitle": false,
     "tableResultSettingsMap": {},
     "title": ""
    },
    "vscode": {
     "languageId": "sql"
    }
   },
   "outputs": [],
   "source": [
    "-- 特定の時刻のデータを参照\n",
    "SELECT * FROM iceberg_demo \n",
    "FOR SYSTEM_TIME AS OF '2025-10-02T05:47:20.529+00:00'\n",
    "ORDER BY id;\n"
   ]
  },
  {
   "cell_type": "code",
   "execution_count": 0,
   "metadata": {
    "application/vnd.databricks.v1+cell": {
     "cellMetadata": {
      "byteLimit": 2048000,
      "rowLimit": 10000
     },
     "inputWidgets": {},
     "nuid": "633ad6ac-8493-4267-8aee-cabdea04e15a",
     "showTitle": false,
     "tableResultSettingsMap": {},
     "title": ""
    },
    "vscode": {
     "languageId": "sql"
    }
   },
   "outputs": [],
   "source": [
    "-- ### ステップ3: スナップショットIDによるTime Travel\n",
    "\n",
    "-- 特定のスナップショットIDのデータを参照\n",
    "SELECT * FROM iceberg_demo \n",
    "FOR SYSTEM_TIME AS OF '2025-10-02T05:47:20.529+00:00'\n",
    "ORDER BY id;\n",
    "\n",
    "-- 【スナップショットIDの利点】\n",
    "-- ・正確な状態の指定が可能\n",
    "-- ・タイムゾーンの影響を受けない\n",
    "-- ・プログラムからの参照に適している\n"
   ]
  },
  {
   "cell_type": "code",
   "execution_count": 0,
   "metadata": {
    "application/vnd.databricks.v1+cell": {
     "cellMetadata": {
      "byteLimit": 2048000,
      "rowLimit": 10000
     },
     "inputWidgets": {},
     "nuid": "b90620ed-fa46-4ce2-970e-e196ee17305d",
     "showTitle": false,
     "tableResultSettingsMap": {},
     "title": ""
    },
    "vscode": {
     "languageId": "sql"
    }
   },
   "outputs": [],
   "source": [
    "-- ### ステップ4: データの復旧（INSERT INTO ... SELECT）\n",
    "\n",
    "-- Time Travelを使用して削除されたデータを復旧\n",
    "-- 削除前のスナップショットから削除されたレコードを特定して再挿入\n",
    "INSERT INTO iceberg_demo\n",
    "SELECT * FROM iceberg_demo \n",
    "FOR SYSTEM_TIME AS OF '2025-10-02T05:47:20.529+00:00'\n",
    "WHERE category = 'Electronics';\n",
    "\n",
    "-- 復旧後のデータを確認\n",
    "SELECT * FROM iceberg_demo ORDER BY id;\n",
    "\n",
    "-- 【復旧方法の特徴】\n",
    "-- ・部分的な復旧が可能\n",
    "-- ・条件を指定して特定データのみ復元\n",
    "-- ・複数のスナップショットからのデータ統合も可能\n"
   ]
  },
  {
   "cell_type": "markdown",
   "metadata": {
    "application/vnd.databricks.v1+cell": {
     "cellMetadata": {},
     "inputWidgets": {},
     "nuid": "a89992f2-8582-4cdc-8404-6735f2ce9367",
     "showTitle": false,
     "tableResultSettingsMap": {},
     "title": ""
    }
   },
   "source": [
    "## まとめ\n",
    "\n",
    "このノートブックでは、Apache Icebergの3つの主要機能を実際のコードで体験しました。\n",
    "\n",
    "### 学習した内容\n",
    "1. **Time Travel**: スナップショット機能による履歴管理\n",
    "   - タイムスタンプとスナップショットIDでの過去データ参照\n",
    "   - 柔軟な復旧方法（部分復旧、条件指定復旧）\n",
    "   - 軽量なメタデータ管理による高速アクセス\n",
    "\n",
    "2. **メタデータ管理**: 効率的な履歴とスナップショット管理\n",
    "   - スナップショット、メタデータファイル、マニフェストファイルの構造\n",
    "   - 詳細な操作履歴の追跡\n",
    "   - 高速な時系列データアクセス\n",
    "\n",
    "\n",
    "### Icebergの特徴的な利点\n",
    "- **高いパフォーマンス**: 効率的なメタデータ管理による高速クエリ\n",
    "- **強力な後方互換性**: スキーマ変更後も古いクエリが動作\n",
    "- **柔軟な履歴管理**: タイムスタンプとスナップショットIDの両方をサポート\n",
    "- **安全なスキーマ変更**: データ損失リスクなしでのスキーマ進化\n",
    "\n",
    "### Delta Lakeとの比較ポイント\n",
    "- **メタデータ構造**: Icebergはより詳細で構造化されたメタデータ\n",
    "- **スキーマエボリューション**: Icebergはより柔軟なスキーマ変更をサポート\n",
    "- **Time Travel**: 両者ともに強力だが、アクセス方法が異なる\n",
    "\n",
    "### 本番環境での注意点\n",
    "- **スナップショット保持**: 適切な保持ポリシーの設定\n",
    "- **スキーマ変更**: 段階的な変更と十分なテスト\n",
    "- **パフォーマンス**: 大量のスナップショットによる影響の監視\n",
    "\n",
    "### 次のステップ\n",
    "- パーティショニング戦略の学習\n",
    "- より複雑なスキーマ変更の実践\n",
    "- Icebergの高度な機能（Hidden Partitioning等）の探索\n"
   ]
  }
 ],
 "metadata": {
  "application/vnd.databricks.v1+notebook": {
   "computePreferences": null,
   "dashboards": [],
   "environmentMetadata": null,
   "inputWidgetPreferences": null,
   "language": "sql",
   "notebookMetadata": {
    "pythonIndentUnit": 2
   },
   "notebookName": "02_iceberg",
   "widgets": {}
  },
  "language_info": {
   "name": "sql"
  }
 },
 "nbformat": 4,
 "nbformat_minor": 0
}
