{
 "cells": [
  {
   "cell_type": "markdown",
   "metadata": {
    "application/vnd.databricks.v1+cell": {
     "cellMetadata": {},
     "inputWidgets": {},
     "nuid": "9fcf7431-dfc7-49a1-91cc-fcc0ca978afa",
     "showTitle": false,
     "tableResultSettingsMap": {},
     "title": ""
    }
   },
   "source": [
    "# Apache Iceberg デモンストレーション\n",
    "\n",
    "このノートブックでは、Apache Icebergの主要な機能を実際のコードを通じて学習します。\n",
    "\n",
    "## 学習内容\n",
    "1. **Time Travel**: スナップショット機能による履歴管理と過去データの参照\n",
    "2. **メタデータ管理**: テーブル履歴とスナップショットの管理\n",
    "3. **スキーマエボリューション**: カラムの追加・変更・削除の安全な実行\n",
    "\n",
    "## 前提条件\n",
    "- Unity Catalogが有効化されている環境\n",
    "- パーソナル領域（users.{username}）へのアクセス権限\n",
    "- Iceberg形式のテーブル作成権限\n"
   ]
  },
  {
   "cell_type": "markdown",
   "metadata": {
    "application/vnd.databricks.v1+cell": {
     "cellMetadata": {},
     "inputWidgets": {},
     "nuid": "c787437c-0eae-4406-80cd-549291abe7dd",
     "showTitle": false,
     "tableResultSettingsMap": {},
     "title": ""
    }
   },
   "source": [
    "## 1. Time Travel（タイムトラベル）\n",
    "\n",
    "Apache Icebergの**Time Travel**機能は、テーブルのスナップショット履歴を管理し、過去の状態を参照・復旧できる機能です。\n",
    "\n",
    "### 主な用途\n",
    "- **データの監査**: 特定時点でのデータ状態の確認\n",
    "- **誤操作からの復旧**: 間違ったデータ変更からの復元\n",
    "- **A/Bテスト**: 異なる時点のデータでの比較分析\n",
    "- **レポート再現**: 過去のレポート結果の再現\n",
    "\n",
    "### Icebergのスナップショット機能\n",
    "- **スナップショット**: 各操作でテーブルの状態を記録\n",
    "- **メタデータ管理**: 効率的なメタデータ構造で高速アクセス\n",
    "- **タイムスタンプ/スナップショットID**: 複数の方法で過去データにアクセス可能\n"
   ]
  },
  {
   "cell_type": "code",
   "execution_count": 0,
   "metadata": {
    "application/vnd.databricks.v1+cell": {
     "cellMetadata": {
      "byteLimit": 2048000,
      "rowLimit": 10000
     },
     "inputWidgets": {},
     "nuid": "0e85070d-fe88-4d0c-b4d6-656786f8991d",
     "showTitle": false,
     "tableResultSettingsMap": {},
     "title": ""
    }
   },
   "outputs": [],
   "source": [
    "-- Unity Catalogのパーソナル領域を使用\n",
    "-- 各ユーザーは自分のスキーマ名に変更してください\n",
    "USE CATALOG users;\n",
    "USE SCHEMA yukiteru_koide;  -- ← ここを自分のユーザー名に変更\n"
   ]
  },
  {
   "cell_type": "markdown",
   "metadata": {
    "application/vnd.databricks.v1+cell": {
     "cellMetadata": {},
     "inputWidgets": {},
     "nuid": "3a4234b8-d9cd-4f2d-b3ff-d72bb1b49053",
     "showTitle": false,
     "tableResultSettingsMap": {},
     "title": ""
    }
   },
   "source": [
    "### ステップ1: デモ用Icebergテーブルの作成と初期データ投入\n",
    "\n",
    "Apache Icebergテーブルを作成し、初期データを投入します。この操作により最初のスナップショットが作成されます。\n"
   ]
  },
  {
   "cell_type": "code",
   "execution_count": 0,
   "metadata": {
    "application/vnd.databricks.v1+cell": {
     "cellMetadata": {
      "byteLimit": 2048000,
      "rowLimit": 10000
     },
     "inputWidgets": {},
     "nuid": "242a5726-4d2f-4e4c-8ef6-487a829cf2e8",
     "showTitle": false,
     "tableResultSettingsMap": {},
     "title": ""
    }
   },
   "outputs": [],
   "source": [
    "-- Apache Icebergテーブルを作成（USING ICEBERGを指定）\n",
    "CREATE OR REPLACE TABLE iceberg_demo (\n",
    "  id       INT,           -- 主キー\n",
    "  amount   DECIMAL(10,2), -- 金額\n",
    "  country  STRING,        -- 国コード\n",
    "  category STRING,        -- 商品カテゴリ\n",
    "  ts       TIMESTAMP      -- タイムスタンプ\n",
    ") USING ICEBERG;\n",
    "\n",
    "-- 初期データを投入（最初のスナップショットが作成される）\n",
    "INSERT INTO iceberg_demo VALUES\n",
    "  (1, 100.00, 'JP', 'Electronics', current_timestamp()),\n",
    "  (2, 200.00, 'US', 'Books', current_timestamp()),\n",
    "  (3, 150.00, 'JP', 'Clothing', current_timestamp()),\n",
    "  (4, 300.00, 'UK', 'Electronics', current_timestamp());\n",
    "\n",
    "-- 投入されたデータを確認\n",
    "SELECT * FROM iceberg_demo ORDER BY id;\n"
   ]
  },
  {
   "cell_type": "markdown",
   "metadata": {
    "application/vnd.databricks.v1+cell": {
     "cellMetadata": {},
     "inputWidgets": {},
     "nuid": "bd503771-3692-4b1f-b29d-65daa09cf3e3",
     "showTitle": false,
     "tableResultSettingsMap": {},
     "title": ""
    }
   },
   "source": [
    "### ステップ2: 追加データの投入（新しいスナップショット作成）\n",
    "\n",
    "新しいデータを追加してスナップショットを増やします。Icebergでは各操作が新しいスナップショットとして記録されます。\n"
   ]
  },
  {
   "cell_type": "code",
   "execution_count": 0,
   "metadata": {
    "application/vnd.databricks.v1+cell": {
     "cellMetadata": {
      "byteLimit": 2048000,
      "rowLimit": 10000
     },
     "inputWidgets": {},
     "nuid": "f7740929-89b2-4842-97e4-774106395b3b",
     "showTitle": false,
     "tableResultSettingsMap": {},
     "title": ""
    }
   },
   "outputs": [],
   "source": [
    "-- 新しいデータを追加してスナップショットを増やす\n",
    "INSERT INTO iceberg_demo VALUES\n",
    "  (5, 250.00, 'DE', 'Sports', current_timestamp()),\n",
    "  (6, 180.00, 'FR', 'Books', current_timestamp());\n",
    "\n",
    "-- 追加後のデータを確認\n",
    "SELECT * FROM iceberg_demo ORDER BY id;\n"
   ]
  },
  {
   "cell_type": "markdown",
   "metadata": {
    "application/vnd.databricks.v1+cell": {
     "cellMetadata": {},
     "inputWidgets": {},
     "nuid": "bd5c01b3-d02e-401b-a608-47f09e7c4ced",
     "showTitle": false,
     "tableResultSettingsMap": {},
     "title": ""
    }
   },
   "source": [
    "### ステップ3: データ更新操作（さらなるスナップショット作成）\n",
    "\n",
    "既存データを更新して履歴を作成します。Icebergでは更新操作も新しいスナップショットとして記録されます。\n"
   ]
  },
  {
   "cell_type": "markdown",
   "metadata": {},
   "source": [
    "### ステップ1: 履歴情報の確認\n",
    "\n",
    "まず、テーブルの操作履歴とスナップショット情報を確認します。Icebergでは`DESCRIBE HISTORY`コマンドで詳細な履歴を参照できます。\n"
   ]
  },
  {
   "cell_type": "code",
   "execution_count": null,
   "metadata": {},
   "outputs": [],
   "source": [
    "-- テーブルの履歴を確認\n",
    "DESCRIBE HISTORY iceberg_demo;\n",
    "\n",
    "-- 【履歴情報の項目】\n",
    "-- ・made_current_at: スナップショットが作成された時刻\n",
    "-- ・snapshot_id: 一意のスナップショット識別子\n",
    "-- ・parent_id: 親スナップショットのID\n",
    "-- ・is_current_ancestor: 現在のスナップショットの祖先かどうか\n"
   ]
  },
  {
   "cell_type": "code",
   "execution_count": 0,
   "metadata": {
    "application/vnd.databricks.v1+cell": {
     "cellMetadata": {
      "byteLimit": 2048000,
      "rowLimit": 10000
     },
     "inputWidgets": {},
     "nuid": "6fb5c75f-ccd5-4bf9-bb18-00ea31acb6e7",
     "showTitle": false,
     "tableResultSettingsMap": {},
     "title": ""
    }
   },
   "outputs": [],
   "source": [
    "-- 既存データを更新して履歴を作成\n",
    "UPDATE iceberg_demo \n",
    "SET amount = amount * 1.1 \n",
    "WHERE country = 'JP';\n",
    "\n",
    "-- 更新後のデータを確認（日本のデータが10%増加）\n",
    "SELECT * FROM iceberg_demo WHERE country = 'JP' ORDER BY id;\n"
   ]
  },
  {
   "cell_type": "markdown",
   "metadata": {
    "application/vnd.databricks.v1+cell": {
     "cellMetadata": {},
     "inputWidgets": {},
     "nuid": "8e5c10f7-5781-48a4-9bfd-278952ca8128",
     "showTitle": false,
     "tableResultSettingsMap": {},
     "title": ""
    }
   },
   "source": [
    "### ステップ4: 誤操作のシミュレーション\n",
    "\n",
    "**⚠️ 注意**: これは意図的な誤操作です！\n",
    "\n",
    "Electronics カテゴリのデータを間違って削除してしまう状況を再現します。実際の運用では避けるべき操作ですが、復旧デモのために実行します。\n"
   ]
  },
  {
   "cell_type": "code",
   "execution_count": 0,
   "metadata": {
    "application/vnd.databricks.v1+cell": {
     "cellMetadata": {
      "byteLimit": 2048000,
      "rowLimit": 10000
     },
     "inputWidgets": {},
     "nuid": "53f0d236-1231-44d6-a1db-bf111455c711",
     "showTitle": false,
     "tableResultSettingsMap": {},
     "title": ""
    }
   },
   "outputs": [],
   "source": [
    "-- Electronics カテゴリのデータを誤って削除\n",
    "DELETE FROM iceberg_demo WHERE category = 'Electronics';\n",
    "\n",
    "-- 削除後の状態を確認（Electronicsカテゴリが消えていることを確認）\n",
    "SELECT * FROM iceberg_demo ORDER BY id;\n"
   ]
  },
  {
   "cell_type": "markdown",
   "metadata": {
    "application/vnd.databricks.v1+cell": {
     "cellMetadata": {},
     "inputWidgets": {},
     "nuid": "413f15be-e7ef-4df4-8fc6-040acd3b88f7",
     "showTitle": false,
     "tableResultSettingsMap": {},
     "title": ""
    }
   },
   "source": [
    "## 2. メタデータ管理とスナップショット操作\n",
    "\n",
    "Apache Icebergの**メタデータ管理**は、テーブルの履歴とスナップショットを効率的に管理する仕組みです。\n",
    "\n",
    "### Icebergのメタデータ構造\n",
    "- **スナップショット**: 各操作時点でのテーブル状態\n",
    "- **メタデータファイル**: テーブルスキーマ、パーティション情報、統計情報\n",
    "- **マニフェストファイル**: データファイルの場所と統計情報\n",
    "\n",
    "### スナップショット管理の特徴\n",
    "- **軽量な履歴管理**: メタデータのみで履歴を追跡\n",
    "- **高速な時系列アクセス**: インデックス化された履歴情報\n",
    "- **柔軟な保持ポリシー**: 必要に応じてスナップショットを削除可能\n",
    "\n",
    "### Time Travelクエリの方法\n",
    "- **タイムスタンプ指定**: `FOR SYSTEM_TIME AS OF`\n",
    "- **スナップショットID指定**: `FOR SYSTEM_VERSION AS OF`\n"
   ]
  },
  {
   "cell_type": "code",
   "execution_count": 0,
   "metadata": {
    "application/vnd.databricks.v1+cell": {
     "cellMetadata": {
      "byteLimit": 2048000,
      "rowLimit": 10000
     },
     "inputWidgets": {},
     "nuid": "86b2c2d7-8633-4ce7-a2c8-bcfad88d935d",
     "showTitle": false,
     "tableResultSettingsMap": {},
     "title": ""
    }
   },
   "outputs": [],
   "source": [
    "-- テーブル履歴を確認\n",
    "DESCRIBE HISTORY iceberg_demo;\n"
   ]
  },
  {
   "cell_type": "markdown",
   "metadata": {
    "application/vnd.databricks.v1+cell": {
     "cellMetadata": {},
     "inputWidgets": {},
     "nuid": "44d16ce1-3668-427b-a897-b417f03f7829",
     "showTitle": false,
     "tableResultSettingsMap": {},
     "title": ""
    }
   },
   "source": [
    "### ステップ2: タイムスタンプによるTime Travel\n",
    "\n",
    "特定の時刻のデータを参照します（削除前の状態）。\n",
    "\n",
    "**補足**: 現在時刻から相対的に指定することも可能\n",
    "```sql\n",
    "SELECT * FROM iceberg_demo FOR SYSTEM_TIME AS OF (current_timestamp() - INTERVAL 10 MINUTES);\n",
    "```\n",
    "\n",
    "※ 実際の時刻は上記の`DESCRIBE HISTORY`の結果を参考に調整してください\n"
   ]
  },
  {
   "cell_type": "code",
   "execution_count": 0,
   "metadata": {
    "application/vnd.databricks.v1+cell": {
     "cellMetadata": {
      "byteLimit": 2048000,
      "rowLimit": 10000
     },
     "inputWidgets": {},
     "nuid": "c1b65dee-85b2-494b-9b33-1a732919b944",
     "showTitle": false,
     "tableResultSettingsMap": {},
     "title": ""
    }
   },
   "outputs": [],
   "source": [
    "-- 特定の時刻のデータを参照\n",
    "SELECT * FROM iceberg_demo \n",
    "FOR SYSTEM_TIME AS OF '2025-10-02T05:47:20.529+00:00'\n",
    "ORDER BY id;\n"
   ]
  },
  {
   "cell_type": "code",
   "execution_count": 0,
   "metadata": {
    "application/vnd.databricks.v1+cell": {
     "cellMetadata": {
      "byteLimit": 2048000,
      "rowLimit": 10000
     },
     "inputWidgets": {},
     "nuid": "633ad6ac-8493-4267-8aee-cabdea04e15a",
     "showTitle": false,
     "tableResultSettingsMap": {},
     "title": ""
    }
   },
   "outputs": [],
   "source": [
    "-- ### ステップ3: スナップショットIDによるTime Travel\n",
    "\n",
    "-- 特定のスナップショットIDのデータを参照\n",
    "SELECT * FROM iceberg_demo \n",
    "FOR SYSTEM_TIME AS OF '2025-10-02T05:47:20.529+00:00'\n",
    "ORDER BY id;\n",
    "\n",
    "-- 【スナップショットIDの利点】\n",
    "-- ・正確な状態の指定が可能\n",
    "-- ・タイムゾーンの影響を受けない\n",
    "-- ・プログラムからの参照に適している\n"
   ]
  },
  {
   "cell_type": "code",
   "execution_count": 0,
   "metadata": {
    "application/vnd.databricks.v1+cell": {
     "cellMetadata": {
      "byteLimit": 2048000,
      "rowLimit": 10000
     },
     "inputWidgets": {},
     "nuid": "b90620ed-fa46-4ce2-970e-e196ee17305d",
     "showTitle": false,
     "tableResultSettingsMap": {},
     "title": ""
    }
   },
   "outputs": [],
   "source": [
    "-- ### ステップ4: データの復旧（INSERT INTO ... SELECT）\n",
    "\n",
    "-- Time Travelを使用して削除されたデータを復旧\n",
    "-- 削除前のスナップショットから削除されたレコードを特定して再挿入\n",
    "INSERT INTO iceberg_demo\n",
    "SELECT * FROM iceberg_demo \n",
    "FOR SYSTEM_TIME AS OF '2025-10-02T05:47:20.529+00:00'\n",
    "WHERE category = 'Electronics';\n",
    "\n",
    "-- 復旧後のデータを確認\n",
    "SELECT * FROM iceberg_demo ORDER BY id;\n",
    "\n",
    "-- 【復旧方法の特徴】\n",
    "-- ・部分的な復旧が可能\n",
    "-- ・条件を指定して特定データのみ復元\n",
    "-- ・複数のスナップショットからのデータ統合も可能\n"
   ]
  },
  {
   "cell_type": "markdown",
   "metadata": {},
   "source": [
    "## 3. ストレージ最適化とパフォーマンス向上\n",
    "\n",
    "Apache Icebergでは、Delta LakeのVACUUMやLiquid Clusteringに相当する機能を使用してストレージとクエリパフォーマンスを最適化できます。\n",
    "\n",
    "### 主な最適化機能\n",
    "- **スナップショット管理**: 古いスナップショットの削除と孤児ファイルのクリーンアップ\n",
    "- **ファイル最適化**: 小さなファイルの統合とデータの再編成\n",
    "- **書き込み順序**: WRITE ORDERによるデータの並び替えとスキャン効率の向上\n"
   ]
  },
  {
   "cell_type": "markdown",
   "metadata": {},
   "source": [
    "### ステップ1: スナップショット履歴の確認（VACUUM前の状態）\n",
    "\n",
    "まず、現在のスナップショット状況を確認します。これがDelta LakeのVACUUM前の状態確認に相当します。\n"
   ]
  },
  {
   "cell_type": "code",
   "execution_count": null,
   "metadata": {},
   "outputs": [],
   "source": [
    "-- 現在のスナップショット履歴を確認\n",
    "DESCRIBE HISTORY iceberg_demo;\n",
    "\n",
    "-- テーブルの詳細情報を確認\n",
    "DESCRIBE DETAIL iceberg_demo;\n",
    "\n",
    "-- 【確認ポイント】\n",
    "-- ・スナップショット数の増加\n",
    "-- ・各操作による履歴の蓄積\n",
    "-- ・ファイル数とサイズの状況\n"
   ]
  },
  {
   "cell_type": "markdown",
   "metadata": {},
   "source": [
    "### ステップ2: スナップショット保持ポリシーの設定\n",
    "\n",
    "Icebergでは、テーブルプロパティでスナップショットの保持期間を設定できます。これがDelta LakeのVACUUM設定に相当します。\n"
   ]
  },
  {
   "cell_type": "code",
   "execution_count": null,
   "metadata": {},
   "outputs": [],
   "source": [
    "-- スナップショット保持期間を設定（デモ用に短く設定）\n",
    "ALTER TABLE iceberg_demo SET TBLPROPERTIES (\n",
    "  'history.expire.max-snapshot-age-ms' = '3600000'  -- 1時間（3600秒 * 1000ms）\n",
    ");\n",
    "\n",
    "-- 孤児ファイルの保持期間も設定\n",
    "ALTER TABLE iceberg_demo SET TBLPROPERTIES (\n",
    "  'gc.enabled' = 'true',\n",
    "  'commit.retry.num-retries' = '3'\n",
    ");\n",
    "\n",
    "-- 設定を確認\n",
    "SHOW TBLPROPERTIES iceberg_demo;\n",
    "\n",
    "-- 【保持ポリシーの説明】\n",
    "-- ・history.expire.max-snapshot-age-ms: スナップショット保持期間\n",
    "-- ・gc.enabled: ガベージコレクション有効化\n",
    "-- ・本番環境では通常7日間（604800000ms）以上を推奨\n"
   ]
  },
  {
   "cell_type": "markdown",
   "metadata": {},
   "source": [
    "### ステップ3: ファイル最適化（OPTIMIZE相当）\n",
    "\n",
    "Icebergでは、小さなファイルを統合してクエリパフォーマンスを向上させることができます。これがDelta LakeのOPTIMIZEに相当します。\n"
   ]
  },
  {
   "cell_type": "code",
   "execution_count": null,
   "metadata": {},
   "outputs": [],
   "source": [
    "-- 最適化前のファイル状況を確認\n",
    "SELECT \n",
    "  file_path,\n",
    "  file_format,\n",
    "  record_count,\n",
    "  file_size_in_bytes\n",
    "FROM iceberg_demo.files\n",
    "LIMIT 10;\n",
    "\n",
    "-- ファイル統合による最適化を実行\n",
    "-- 注意: CALL文はDatabricksの環境によって利用可能性が異なります\n",
    "-- CALL system.rewrite_data_files('iceberg_demo');\n",
    "\n",
    "-- 代替方法: 全データを再書き込みして最適化\n",
    "CREATE OR REPLACE TABLE iceberg_demo_optimized\n",
    "USING ICEBERG\n",
    "AS SELECT * FROM iceberg_demo ORDER BY category, id;\n",
    "\n",
    "-- 最適化後の状況を確認\n",
    "DESCRIBE DETAIL iceberg_demo_optimized;\n",
    "\n",
    "-- 【最適化の効果】\n",
    "-- ・小さなファイルの統合\n",
    "-- ・読み取りパフォーマンスの向上\n",
    "-- ・ストレージ効率の改善\n"
   ]
  },
  {
   "cell_type": "markdown",
   "metadata": {},
   "source": [
    "### ステップ4: 書き込み順序による最適化（Liquid Clustering相当）\n",
    "\n",
    "IcebergではWRITE ORDERを使用してデータの並び順を制御し、スキャン効率を向上させることができます。これがDelta LakeのLiquid Clusteringに近い効果を提供します。\n"
   ]
  },
  {
   "cell_type": "code",
   "execution_count": null,
   "metadata": {},
   "outputs": [],
   "source": [
    "-- WRITE ORDERを設定してテーブルを再作成\n",
    "CREATE OR REPLACE TABLE iceberg_demo_clustered (\n",
    "  id INT,\n",
    "  name STRING,\n",
    "  category STRING,\n",
    "  price DOUBLE\n",
    ")\n",
    "USING ICEBERG\n",
    "TBLPROPERTIES (\n",
    "  'write.distribution-mode' = 'hash',\n",
    "  'write.fanout-enabled' = 'true'\n",
    ");\n",
    "\n",
    "-- カテゴリ別に並び替えてデータを挿入（クラスタリング効果）\n",
    "INSERT INTO iceberg_demo_clustered\n",
    "SELECT id, name, category, price \n",
    "FROM iceberg_demo \n",
    "ORDER BY category, id;\n",
    "\n",
    "-- さらに多くのデータを追加してクラスタリング効果を確認\n",
    "INSERT INTO iceberg_demo_clustered VALUES\n",
    "  (101, 'Gaming Mouse', 'Electronics', 79.99),\n",
    "  (102, 'Mechanical Keyboard', 'Electronics', 149.99),\n",
    "  (103, 'Fiction Novel', 'Books', 12.99),\n",
    "  (104, 'Science Textbook', 'Books', 89.99),\n",
    "  (105, 'Running Shoes', 'Sports', 119.99),\n",
    "  (106, 'Tennis Racket', 'Sports', 199.99);\n",
    "\n",
    "-- クラスタリング効果を確認するクエリ\n",
    "SELECT category, COUNT(*) as count, AVG(price) as avg_price\n",
    "FROM iceberg_demo_clustered \n",
    "GROUP BY category\n",
    "ORDER BY category;\n",
    "\n",
    "-- 【Liquid Clustering相当の効果】\n",
    "-- ・カテゴリ別のデータ局所性向上\n",
    "-- ・範囲スキャンの効率化\n",
    "-- ・ファイル内でのデータ並び順最適化\n"
   ]
  },
  {
   "cell_type": "markdown",
   "metadata": {},
   "source": [
    "### ステップ5: 最適化効果の確認\n",
    "\n",
    "最適化前後でのクエリパフォーマンスを比較して、効果を確認します。\n"
   ]
  },
  {
   "cell_type": "code",
   "execution_count": null,
   "metadata": {},
   "outputs": [],
   "source": [
    "-- 最適化前のテーブルでのクエリ\n",
    "SELECT 'Original Table' as table_type, category, COUNT(*) as count\n",
    "FROM iceberg_demo \n",
    "WHERE category = 'Electronics'\n",
    "GROUP BY category;\n",
    "\n",
    "-- 最適化後のテーブルでのクエリ\n",
    "SELECT 'Clustered Table' as table_type, category, COUNT(*) as count\n",
    "FROM iceberg_demo_clustered \n",
    "WHERE category = 'Electronics'\n",
    "GROUP BY category;\n",
    "\n",
    "-- ファイル数とサイズの比較\n",
    "SELECT \n",
    "  'Original' as table_type,\n",
    "  COUNT(*) as file_count,\n",
    "  SUM(file_size_in_bytes) as total_size\n",
    "FROM iceberg_demo.files\n",
    "UNION ALL\n",
    "SELECT \n",
    "  'Clustered' as table_type,\n",
    "  COUNT(*) as file_count,\n",
    "  SUM(file_size_in_bytes) as total_size\n",
    "FROM iceberg_demo_clustered.files;\n",
    "\n",
    "-- 【パフォーマンス向上のポイント】\n",
    "-- ・スキャンするファイル数の削減\n",
    "-- ・データ局所性の向上\n",
    "-- ・I/O効率の改善\n",
    "-- ・クエリ実行時間の短縮\n"
   ]
  },
  {
   "cell_type": "markdown",
   "metadata": {},
   "source": [
    "## まとめ\n",
    "\n",
    "このノートブックでは、Apache Icebergの3つの主要機能を実際のコードで体験しました。\n",
    "\n",
    "### 学習した内容\n",
    "1. **Time Travel**: スナップショット機能による履歴管理\n",
    "   - タイムスタンプとスナップショットIDでの過去データ参照\n",
    "   - 柔軟な復旧方法（部分復旧、条件指定復旧）\n",
    "   - 軽量なメタデータ管理による高速アクセス\n",
    "\n",
    "2. **メタデータ管理**: 効率的な履歴とスナップショット管理\n",
    "   - スナップショット、メタデータファイル、マニフェストファイルの構造\n",
    "   - 詳細な操作履歴の追跡\n",
    "   - 高速な時系列データアクセス\n",
    "\n",
    "3. **ストレージ最適化**: Delta Lake相当の最適化機能\n",
    "   - スナップショット保持ポリシー（VACUUM相当）\n",
    "   - ファイル最適化（OPTIMIZE相当）\n",
    "   - 書き込み順序による効率化（Liquid Clustering相当）\n",
    "\n",
    "### Icebergの特徴的な利点\n",
    "- **高いパフォーマンス**: 効率的なメタデータ管理による高速クエリ\n",
    "- **強力な後方互換性**: スキーマ変更後も古いクエリが動作\n",
    "- **柔軟な履歴管理**: タイムスタンプとスナップショットIDの両方をサポート\n",
    "- **包括的な最適化**: ストレージとクエリの両面での最適化機能\n",
    "\n",
    "### Delta Lakeとの比較ポイント\n",
    "- **メタデータ構造**: Icebergはより詳細で構造化されたメタデータ\n",
    "- **Time Travel**: 両者ともに強力だが、アクセス方法が異なる\n",
    "- **最適化機能**: 類似の機能を異なるアプローチで実現\n",
    "- **パフォーマンス**: 大規模データでの効率性\n",
    "\n",
    "### 本番環境での注意点\n",
    "- **スナップショット保持**: 適切な保持ポリシーの設定\n",
    "- **パフォーマンス**: 大量のスナップショットによる影響の監視\n",
    "- **メタデータ管理**: 定期的なメンテナンスの実施\n",
    "- **最適化頻度**: データ更新パターンに応じた最適化スケジュール\n",
    "\n",
    "### 次のステップ\n",
    "- パーティショニング戦略の学習\n",
    "- Icebergの高度な機能（Hidden Partitioning等）の探索\n",
    "- 大規模データでのパフォーマンス最適化\n",
    "- 本番環境でのモニタリングとメンテナンス戦略\n"
   ]
  }
 ],
 "metadata": {
  "application/vnd.databricks.v1+notebook": {
   "computePreferences": null,
   "dashboards": [],
   "environmentMetadata": null,
   "inputWidgetPreferences": null,
   "language": "sql",
   "notebookMetadata": {
    "pythonIndentUnit": 2
   },
   "notebookName": "02_iceberg",
   "widgets": {}
  },
  "language_info": {
   "name": "sql"
  }
 },
 "nbformat": 4,
 "nbformat_minor": 0
}
