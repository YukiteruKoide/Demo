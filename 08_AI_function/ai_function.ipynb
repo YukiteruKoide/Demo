{
 "cells": [
  {
   "cell_type": "markdown",
   "metadata": {},
   "source": [
    "# スーパーマーケット商品データの表記揺れ正規化（SQL版）\n",
    "\n",
    "このノートブックでは、Databricks SQL の `ai_query()` 関数を使用して、商品名の表記揺れをLLMバッチ推論で正規化します。\n",
    "\n",
    "## 概要\n",
    "- **カタログ/スキーマ**: `users.yukiteru_koide`\n",
    "- **LLMエンドポイント**: `yukiteru_LLM`\n",
    "- **目的**: 商品名の表記揺れ（カタカナ、英語、略称など）を統一された正式名称に変換\n",
    "- **使用言語**: SQL のみ\n"
   ]
  },
  {
   "cell_type": "code",
   "execution_count": null,
   "metadata": {},
   "outputs": [],
   "source": [
    "-- Step 1: カタログとスキーマの作成\n",
    "CREATE CATALOG IF NOT EXISTS users;\n",
    "CREATE SCHEMA IF NOT EXISTS users.yukiteru_koide;\n"
   ]
  },
  {
   "cell_type": "code",
   "execution_count": null,
   "metadata": {},
   "outputs": [],
   "source": [
    "-- Step 2: サンプルテーブルの作成（表記揺れのある商品データ）\n",
    "DROP TABLE IF EXISTS users.yukiteru_koide.products_with_variants;\n",
    "\n",
    "CREATE TABLE users.yukiteru_koide.products_with_variants (\n",
    "    product_id INT,\n",
    "    product_name STRING,\n",
    "    category STRING,\n",
    "    price INT\n",
    ");\n"
   ]
  },
  {
   "cell_type": "code",
   "execution_count": null,
   "metadata": {},
   "outputs": [],
   "source": [
    "-- Step 3: サンプルデータの挿入\n",
    "INSERT INTO users.yukiteru_koide.products_with_variants VALUES\n",
    "  (1, 'ﾍﾟｯﾄﾎﾞﾄﾙ緑茶', '飲料', 150),\n",
    "  (2, 'pet bottle green tea', '飲料', 150),\n",
    "  (3, '緑茶ペット', '飲料', 150),\n",
    "  (4, 'ｺｶｺｰﾗ', '飲料', 140),\n",
    "  (5, 'Coca Cola', '飲料', 140),\n",
    "  (6, 'コーラ', '飲料', 140),\n",
    "  (7, 'ﾎﾟﾃﾄﾁｯﾌﾟｽ', 'スナック', 120),\n",
    "  (8, 'potato chips', 'スナック', 120),\n",
    "  (9, 'ポテチ', 'スナック', 120),\n",
    "  (10, 'ｶｯﾌﾟﾗｰﾒﾝ', '食品', 180),\n",
    "  (11, 'cup ramen', '食品', 180),\n",
    "  (12, 'カップ麺', '食品', 180),\n",
    "  (13, 'ﾁｮｺﾚｰﾄ', '菓子', 200),\n",
    "  (14, 'chocolate', '菓子', 200),\n",
    "  (15, 'チョコ', '菓子', 200);\n"
   ]
  },
  {
   "cell_type": "code",
   "execution_count": null,
   "metadata": {},
   "outputs": [],
   "source": [
    "-- Step 4: 元データの確認\n",
    "SELECT * FROM users.yukiteru_koide.products_with_variants\n",
    "ORDER BY product_id;\n"
   ]
  },
  {
   "cell_type": "markdown",
   "metadata": {
    "vscode": {
     "languageId": "python"
    }
   },
   "source": [
    "## ai_query() を使用したLLMバッチ推論\n",
    "\n",
    "Databricks SQL の `ai_query()` 関数を使用して、商品名の表記揺れを正規化します。\n",
    "\n",
    "### プロンプト設計\n",
    "- 入力: 表記揺れのある商品名\n",
    "- 出力: 統一された正式な商品名（日本語カタカナ表記）\n"
   ]
  },
  {
   "cell_type": "code",
   "execution_count": null,
   "metadata": {},
   "outputs": [],
   "source": [
    "-- Step 5: ai_query() を使ってLLMバッチ推論を実行し、正規化テーブルを作成\n",
    "CREATE OR REPLACE TABLE users.yukiteru_koide.products_normalized AS\n",
    "SELECT \n",
    "    product_id,\n",
    "    product_name AS original_name,\n",
    "    category,\n",
    "    price,\n",
    "    ai_query(\n",
    "        'yukiteru_LLM',\n",
    "        CONCAT(\n",
    "            '次の商品名を統一された正式な商品名に正規化してください。',\n",
    "            '日本語のカタカナまたは一般的な表記で、商品名のみを簡潔に回答してください。',\n",
    "            '説明や補足は不要です。',\n",
    "            '商品名: ', product_name\n",
    "        )\n",
    "    ) AS normalized_name\n",
    "FROM users.yukiteru_koide.products_with_variants;\n"
   ]
  },
  {
   "cell_type": "code",
   "execution_count": null,
   "metadata": {},
   "outputs": [],
   "source": [
    "-- Step 6: 正規化結果の確認\n",
    "SELECT \n",
    "    product_id,\n",
    "    original_name,\n",
    "    normalized_name,\n",
    "    category,\n",
    "    price\n",
    "FROM users.yukiteru_koide.products_normalized\n",
    "ORDER BY product_id;\n"
   ]
  },
  {
   "cell_type": "markdown",
   "metadata": {},
   "source": [
    "## 正規化結果の分析\n",
    "\n",
    "表記揺れがどのように統一されたかを分析します。\n"
   ]
  },
  {
   "cell_type": "code",
   "execution_count": null,
   "metadata": {},
   "outputs": [],
   "source": [
    "-- Step 7: 表記揺れのグループ化分析\n",
    "SELECT \n",
    "    normalized_name,\n",
    "    category,\n",
    "    COUNT(*) AS variant_count,\n",
    "    COLLECT_LIST(original_name) AS original_variants,\n",
    "    ROUND(AVG(price), 2) AS avg_price\n",
    "FROM users.yukiteru_koide.products_normalized\n",
    "GROUP BY normalized_name, category\n",
    "ORDER BY variant_count DESC, normalized_name;\n"
   ]
  },
  {
   "cell_type": "code",
   "execution_count": null,
   "metadata": {},
   "outputs": [],
   "source": [
    "-- Step 8: 統計情報の表示\n",
    "SELECT \n",
    "    '元の商品数' AS metric,\n",
    "    COUNT(*) AS value\n",
    "FROM users.yukiteru_koide.products_with_variants\n",
    "\n",
    "UNION ALL\n",
    "\n",
    "SELECT \n",
    "    '正規化後のユニーク商品数' AS metric,\n",
    "    COUNT(DISTINCT normalized_name) AS value\n",
    "FROM users.yukiteru_koide.products_normalized\n",
    "\n",
    "UNION ALL\n",
    "\n",
    "SELECT \n",
    "    '削減率 (%)' AS metric,\n",
    "    ROUND(\n",
    "        (1 - CAST(COUNT(DISTINCT normalized_name) AS DOUBLE) / \n",
    "         (SELECT COUNT(*) FROM users.yukiteru_koide.products_with_variants)) * 100,\n",
    "        1\n",
    "    ) AS value\n",
    "FROM users.yukiteru_koide.products_normalized;\n"
   ]
  },
  {
   "cell_type": "markdown",
   "metadata": {},
   "source": [
    "## まとめ\n",
    "\n",
    "### 実施内容\n",
    "1. ✅ カタログ・スキーマの作成\n",
    "2. ✅ 表記揺れのある商品データテーブル作成 (`users.yukiteru_koide.products_with_variants`)\n",
    "3. ✅ `ai_query()` 関数でLLMバッチ推論を実行\n",
    "4. ✅ 正規化テーブル作成 (`users.yukiteru_koide.products_normalized`)\n",
    "5. ✅ 表記揺れの統一結果を分析\n",
    "\n",
    "### 使用技術\n",
    "- **言語**: SQL のみ\n",
    "- **LLMエンドポイント**: `yukiteru_LLM`\n",
    "- **Databricks関数**: `ai_query()`\n",
    "- **データ処理**: Delta Lake\n",
    "\n",
    "### 期待される結果\n",
    "- 半角カタカナ → 全角カタカナ\n",
    "- 英語表記 → 日本語表記\n",
    "- 略称 → 正式名称\n",
    "- 15個の表記揺れ → 5個のユニーク商品に集約\n",
    "\n",
    "### 次のステップ\n",
    "- プロンプトの最適化で精度向上\n",
    "- 大規模データへの適用\n",
    "- Databricks Workflows で定期実行\n",
    "- マスタデータとの突合\n"
   ]
  },
  {
   "cell_type": "markdown",
   "metadata": {},
   "source": [
    "---\n",
    "\n",
    "## 参考情報\n",
    "\n",
    "### ai_query() 関数の使い方\n",
    "\n",
    "```sql\n",
    "ai_query(\n",
    "    'エンドポイント名',  -- 例: 'yukiteru_LLM'\n",
    "    'プロンプト文字列'\n",
    ")\n",
    "```\n",
    "\n",
    "### エンドポイントURL\n",
    "- エンドポイント名: `yukiteru_LLM`\n",
    "- 完全URL: `https://e2-demo-field-eng.cloud.databricks.com/serving-endpoints/yukiteru_LLM/invocations`\n",
    "- `ai_query()` 関数ではエンドポイント名を指定するだけで自動的にURLが解決されます\n",
    "\n",
    "### プロンプトのベストプラクティス\n",
    "1. 明確な指示を与える\n",
    "2. 出力形式を具体的に指定\n",
    "3. 不要な説明を排除するよう指示\n",
    "4. テストして精度を確認し、改善する\n"
   ]
  },
  {
   "cell_type": "code",
   "execution_count": 0,
   "metadata": {
    "application/vnd.databricks.v1+cell": {
     "cellMetadata": {},
     "inputWidgets": {},
     "nuid": "066005b6-43f7-4d19-a380-a9d710fc9f91",
     "showTitle": false,
     "tableResultSettingsMap": {},
     "title": ""
    }
   },
   "outputs": [],
   "source": []
  }
 ],
 "metadata": {
  "application/vnd.databricks.v1+notebook": {
   "computePreferences": null,
   "dashboards": [],
   "environmentMetadata": {
    "base_environment": "",
    "environment_version": "4"
   },
   "inputWidgetPreferences": null,
   "language": "sql",
   "notebookMetadata": {},
   "notebookName": "ai_function",
   "widgets": {}
  },
  "language_info": {
   "name": "sql"
  }
 },
 "nbformat": 4,
 "nbformat_minor": 0
}
